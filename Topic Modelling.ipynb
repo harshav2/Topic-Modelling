{
  "cells": [
    {
      "cell_type": "code",
      "execution_count": null,
      "metadata": {
        "colab": {
          "base_uri": "https://localhost:8080/"
        },
        "id": "9Cqga0NsYRGi",
        "outputId": "bcded911-f4cd-4558-e7e0-8c7a4303e284"
      },
      "outputs": [
        {
          "name": "stdout",
          "output_type": "stream",
          "text": [
            "Collecting sentence-transformers\n",
            "  Downloading sentence_transformers-3.0.1-py3-none-any.whl (227 kB)\n",
            "\u001b[2K     \u001b[90m━━━━━━━━━━━━━━━━━━━━━━━━━━━━━━━━━━━━━━━━\u001b[0m \u001b[32m227.1/227.1 kB\u001b[0m \u001b[31m1.2 MB/s\u001b[0m eta \u001b[36m0:00:00\u001b[0m\n",
            "\u001b[?25hRequirement already satisfied: matplotlib in /usr/local/lib/python3.10/dist-packages (3.7.1)\n",
            "Requirement already satisfied: transformers<5.0.0,>=4.34.0 in /usr/local/lib/python3.10/dist-packages (from sentence-transformers) (4.41.2)\n",
            "Requirement already satisfied: tqdm in /usr/local/lib/python3.10/dist-packages (from sentence-transformers) (4.66.4)\n",
            "Requirement already satisfied: torch>=1.11.0 in /usr/local/lib/python3.10/dist-packages (from sentence-transformers) (2.3.0+cu121)\n",
            "Requirement already satisfied: numpy in /usr/local/lib/python3.10/dist-packages (from sentence-transformers) (1.25.2)\n",
            "Requirement already satisfied: scikit-learn in /usr/local/lib/python3.10/dist-packages (from sentence-transformers) (1.2.2)\n",
            "Requirement already satisfied: scipy in /usr/local/lib/python3.10/dist-packages (from sentence-transformers) (1.11.4)\n",
            "Requirement already satisfied: huggingface-hub>=0.15.1 in /usr/local/lib/python3.10/dist-packages (from sentence-transformers) (0.23.4)\n",
            "Requirement already satisfied: Pillow in /usr/local/lib/python3.10/dist-packages (from sentence-transformers) (9.4.0)\n",
            "Requirement already satisfied: contourpy>=1.0.1 in /usr/local/lib/python3.10/dist-packages (from matplotlib) (1.2.1)\n",
            "Requirement already satisfied: cycler>=0.10 in /usr/local/lib/python3.10/dist-packages (from matplotlib) (0.12.1)\n",
            "Requirement already satisfied: fonttools>=4.22.0 in /usr/local/lib/python3.10/dist-packages (from matplotlib) (4.53.0)\n",
            "Requirement already satisfied: kiwisolver>=1.0.1 in /usr/local/lib/python3.10/dist-packages (from matplotlib) (1.4.5)\n",
            "Requirement already satisfied: packaging>=20.0 in /usr/local/lib/python3.10/dist-packages (from matplotlib) (24.1)\n",
            "Requirement already satisfied: pyparsing>=2.3.1 in /usr/local/lib/python3.10/dist-packages (from matplotlib) (3.1.2)\n",
            "Requirement already satisfied: python-dateutil>=2.7 in /usr/local/lib/python3.10/dist-packages (from matplotlib) (2.8.2)\n",
            "Requirement already satisfied: filelock in /usr/local/lib/python3.10/dist-packages (from huggingface-hub>=0.15.1->sentence-transformers) (3.15.4)\n",
            "Requirement already satisfied: fsspec>=2023.5.0 in /usr/local/lib/python3.10/dist-packages (from huggingface-hub>=0.15.1->sentence-transformers) (2023.6.0)\n",
            "Requirement already satisfied: pyyaml>=5.1 in /usr/local/lib/python3.10/dist-packages (from huggingface-hub>=0.15.1->sentence-transformers) (6.0.1)\n",
            "Requirement already satisfied: requests in /usr/local/lib/python3.10/dist-packages (from huggingface-hub>=0.15.1->sentence-transformers) (2.31.0)\n",
            "Requirement already satisfied: typing-extensions>=3.7.4.3 in /usr/local/lib/python3.10/dist-packages (from huggingface-hub>=0.15.1->sentence-transformers) (4.12.2)\n",
            "Requirement already satisfied: six>=1.5 in /usr/local/lib/python3.10/dist-packages (from python-dateutil>=2.7->matplotlib) (1.16.0)\n",
            "Requirement already satisfied: sympy in /usr/local/lib/python3.10/dist-packages (from torch>=1.11.0->sentence-transformers) (1.12.1)\n",
            "Requirement already satisfied: networkx in /usr/local/lib/python3.10/dist-packages (from torch>=1.11.0->sentence-transformers) (3.3)\n",
            "Requirement already satisfied: jinja2 in /usr/local/lib/python3.10/dist-packages (from torch>=1.11.0->sentence-transformers) (3.1.4)\n",
            "Collecting nvidia-cuda-nvrtc-cu12==12.1.105 (from torch>=1.11.0->sentence-transformers)\n",
            "  Using cached nvidia_cuda_nvrtc_cu12-12.1.105-py3-none-manylinux1_x86_64.whl (23.7 MB)\n",
            "Collecting nvidia-cuda-runtime-cu12==12.1.105 (from torch>=1.11.0->sentence-transformers)\n",
            "  Using cached nvidia_cuda_runtime_cu12-12.1.105-py3-none-manylinux1_x86_64.whl (823 kB)\n",
            "Collecting nvidia-cuda-cupti-cu12==12.1.105 (from torch>=1.11.0->sentence-transformers)\n",
            "  Using cached nvidia_cuda_cupti_cu12-12.1.105-py3-none-manylinux1_x86_64.whl (14.1 MB)\n",
            "Collecting nvidia-cudnn-cu12==8.9.2.26 (from torch>=1.11.0->sentence-transformers)\n",
            "  Using cached nvidia_cudnn_cu12-8.9.2.26-py3-none-manylinux1_x86_64.whl (731.7 MB)\n",
            "Collecting nvidia-cublas-cu12==12.1.3.1 (from torch>=1.11.0->sentence-transformers)\n",
            "  Using cached nvidia_cublas_cu12-12.1.3.1-py3-none-manylinux1_x86_64.whl (410.6 MB)\n",
            "Collecting nvidia-cufft-cu12==11.0.2.54 (from torch>=1.11.0->sentence-transformers)\n",
            "  Using cached nvidia_cufft_cu12-11.0.2.54-py3-none-manylinux1_x86_64.whl (121.6 MB)\n",
            "Collecting nvidia-curand-cu12==10.3.2.106 (from torch>=1.11.0->sentence-transformers)\n",
            "  Using cached nvidia_curand_cu12-10.3.2.106-py3-none-manylinux1_x86_64.whl (56.5 MB)\n",
            "Collecting nvidia-cusolver-cu12==11.4.5.107 (from torch>=1.11.0->sentence-transformers)\n",
            "  Using cached nvidia_cusolver_cu12-11.4.5.107-py3-none-manylinux1_x86_64.whl (124.2 MB)\n",
            "Collecting nvidia-cusparse-cu12==12.1.0.106 (from torch>=1.11.0->sentence-transformers)\n",
            "  Using cached nvidia_cusparse_cu12-12.1.0.106-py3-none-manylinux1_x86_64.whl (196.0 MB)\n",
            "Collecting nvidia-nccl-cu12==2.20.5 (from torch>=1.11.0->sentence-transformers)\n",
            "  Using cached nvidia_nccl_cu12-2.20.5-py3-none-manylinux2014_x86_64.whl (176.2 MB)\n",
            "Collecting nvidia-nvtx-cu12==12.1.105 (from torch>=1.11.0->sentence-transformers)\n",
            "  Using cached nvidia_nvtx_cu12-12.1.105-py3-none-manylinux1_x86_64.whl (99 kB)\n",
            "Requirement already satisfied: triton==2.3.0 in /usr/local/lib/python3.10/dist-packages (from torch>=1.11.0->sentence-transformers) (2.3.0)\n",
            "Collecting nvidia-nvjitlink-cu12 (from nvidia-cusolver-cu12==11.4.5.107->torch>=1.11.0->sentence-transformers)\n",
            "  Downloading nvidia_nvjitlink_cu12-12.5.82-py3-none-manylinux2014_x86_64.whl (21.3 MB)\n",
            "\u001b[2K     \u001b[90m━━━━━━━━━━━━━━━━━━━━━━━━━━━━━━━━━━━━━━━━\u001b[0m \u001b[32m21.3/21.3 MB\u001b[0m \u001b[31m24.5 MB/s\u001b[0m eta \u001b[36m0:00:00\u001b[0m\n",
            "\u001b[?25hRequirement already satisfied: regex!=2019.12.17 in /usr/local/lib/python3.10/dist-packages (from transformers<5.0.0,>=4.34.0->sentence-transformers) (2024.5.15)\n",
            "Requirement already satisfied: tokenizers<0.20,>=0.19 in /usr/local/lib/python3.10/dist-packages (from transformers<5.0.0,>=4.34.0->sentence-transformers) (0.19.1)\n",
            "Requirement already satisfied: safetensors>=0.4.1 in /usr/local/lib/python3.10/dist-packages (from transformers<5.0.0,>=4.34.0->sentence-transformers) (0.4.3)\n",
            "Requirement already satisfied: joblib>=1.1.1 in /usr/local/lib/python3.10/dist-packages (from scikit-learn->sentence-transformers) (1.4.2)\n",
            "Requirement already satisfied: threadpoolctl>=2.0.0 in /usr/local/lib/python3.10/dist-packages (from scikit-learn->sentence-transformers) (3.5.0)\n",
            "Requirement already satisfied: MarkupSafe>=2.0 in /usr/local/lib/python3.10/dist-packages (from jinja2->torch>=1.11.0->sentence-transformers) (2.1.5)\n",
            "Requirement already satisfied: charset-normalizer<4,>=2 in /usr/local/lib/python3.10/dist-packages (from requests->huggingface-hub>=0.15.1->sentence-transformers) (3.3.2)\n",
            "Requirement already satisfied: idna<4,>=2.5 in /usr/local/lib/python3.10/dist-packages (from requests->huggingface-hub>=0.15.1->sentence-transformers) (3.7)\n",
            "Requirement already satisfied: urllib3<3,>=1.21.1 in /usr/local/lib/python3.10/dist-packages (from requests->huggingface-hub>=0.15.1->sentence-transformers) (2.0.7)\n",
            "Requirement already satisfied: certifi>=2017.4.17 in /usr/local/lib/python3.10/dist-packages (from requests->huggingface-hub>=0.15.1->sentence-transformers) (2024.6.2)\n",
            "Requirement already satisfied: mpmath<1.4.0,>=1.1.0 in /usr/local/lib/python3.10/dist-packages (from sympy->torch>=1.11.0->sentence-transformers) (1.3.0)\n",
            "Installing collected packages: nvidia-nvtx-cu12, nvidia-nvjitlink-cu12, nvidia-nccl-cu12, nvidia-curand-cu12, nvidia-cufft-cu12, nvidia-cuda-runtime-cu12, nvidia-cuda-nvrtc-cu12, nvidia-cuda-cupti-cu12, nvidia-cublas-cu12, nvidia-cusparse-cu12, nvidia-cudnn-cu12, nvidia-cusolver-cu12, sentence-transformers\n",
            "Successfully installed nvidia-cublas-cu12-12.1.3.1 nvidia-cuda-cupti-cu12-12.1.105 nvidia-cuda-nvrtc-cu12-12.1.105 nvidia-cuda-runtime-cu12-12.1.105 nvidia-cudnn-cu12-8.9.2.26 nvidia-cufft-cu12-11.0.2.54 nvidia-curand-cu12-10.3.2.106 nvidia-cusolver-cu12-11.4.5.107 nvidia-cusparse-cu12-12.1.0.106 nvidia-nccl-cu12-2.20.5 nvidia-nvjitlink-cu12-12.5.82 nvidia-nvtx-cu12-12.1.105 sentence-transformers-3.0.1\n"
          ]
        }
      ],
      "source": [
        "!pip install sentence-transformers matplotlib"
      ]
    },
    {
      "cell_type": "code",
      "execution_count": null,
      "metadata": {
        "id": "dpziWGDlThKE"
      },
      "outputs": [],
      "source": [
        "text=\"\"\"\n",
        "Are Carrots Good for Your Eyes?\n",
        "Carrots & eye health\n",
        "Other benefits\n",
        "Eye health tips\n",
        "Bottom line\n",
        "Popular around the world, carrots are crunchy and highly nutritious root vegetables.\n",
        "\n",
        "They’re commonly claimed to keep your eyes healthy and improve night vision.\n",
        "\n",
        "However, you may wonder about the origin of this idea and whether it’s supported by science.\n",
        "\n",
        "This article tells you whether carrots benefit your eyes and provides other tips to keep your vision healthy.\n",
        "\n",
        "Carrots and eye health\n",
        "It has long been believed that eating carrots promotes eye health and improves your eyesight, especially at night.\n",
        "\n",
        "Though there is truth to this, the association between carrots and eyesight originated from a myth.\n",
        "\n",
        "During World War II, British Royal Air Force pilots first began using radar to target and shoot down enemy planes. In an effort to keep this new technology a secret, the visual accuracy of the pilots — especially at night — was attributed to eating carrots.\n",
        "\n",
        "This led to a longstanding propaganda campaign that promoted carrots for better eyesight. This embellished link between eating carrots and improved night vision remains today.\n",
        "\n",
        "However, although they’re not quite the magic eye food they were marketed to be during World War II, carrots do contain certain compounds that are good for your eyes.\n",
        "\n",
        "High in antioxidants that benefit eye health\n",
        "Carrots are a rich source of beta carotene and lutein, which are antioxidants that can help prevent eye damage caused by free radicals.\n",
        "\n",
        "Free radicals are compounds that can lead to cellular damage, aging, and chronic illnesses, including eye diseases, when their numbers become too high (1Trusted Source).\n",
        "\n",
        "Beta carotene gives many red, orange, and yellow plants their coloring. Orange carrots are especially high in beta carotene, which your body converts into vitamin A. Deficiency in vitamin A can lead to night blindness, which is often reversible by supplementing (2Trusted Source, 3Trusted Source).\n",
        "\n",
        "Vitamin A is needed to form rhodopsin, which is the reddish-purple, light-sensitive pigment in your eye cells that helps you see at night (4Trusted Source).\n",
        "\n",
        "Your body absorbs and utilizes beta carotene more efficiently when you eat cooked carrots rather than raw ones. Furthermore, vitamin A and its precursors are fat-soluble, so eating carrots with a fat source improves absorption (5Trusted Source, 6Trusted Source, 7Trusted Source).\n",
        "\n",
        "Yellow carrots contain the most lutein, which may help prevent age-related macular degeneration (AMD), a condition in which your vision is gradually blurred or lost.\n",
        "\n",
        "Diets rich in lutein may be especially protective against AMD (8Trusted Source, 9Trusted Source, 10Trusted Source, 11Trusted Source).\n",
        "\n",
        "SUMMARY\n",
        "Carrots are good sources of lutein and beta carotene, which are antioxidants that benefit eye health and protect against age-related degenerative eye diseases. Your body converts beta carotene into vitamin A, a nutrient that helps you see in the dark.\n",
        "\n",
        "Other health benefits of carrots\n",
        "Carrots support healthy eyes, but there are many other reasons to eat them. Most research focuses on their content of carotenoids, including lutein, lycopene, and beta carotene.\n",
        "\n",
        "Other health benefits of carrots include:\n",
        "\n",
        "Support digestive health. Carrots are high in fiber, which helps prevent constipation. One carrot contains around 2 grams of fiber, or 8% of the daily value (DV). Eating carrots may also improve your gut bacteria (12Trusted Source, 13Trusted Source, 14Trusted Source).\n",
        "May reduce cancer risk. Fiber-rich foods like carrots may help protect against colon cancer by promoting digestive regularity. Plus, certain antioxidants in carrots have been shown to have anticancer effects (15Trusted Source, 16Trusted Source, 17Trusted Source, 18Trusted Source).\n",
        "Stabilize blood sugar. Carrots have a low glycemic index (GI), meaning that they don’t cause a large spike in blood sugar when you eat them. Their fiber content also helps stabilize blood sugar levels (19Trusted Source, 20Trusted Source).\n",
        "Good for your heart. Red and orange carrots are high in lycopene, a heart-protective antioxidant. Carrots may also reduce heart disease risk factors, such as high blood pressure and cholesterol levels (21Trusted Source, 22Trusted Source, 23Trusted Source, 24Trusted Source).\n",
        "Protect your skin. Though not as effective as sunscreen, beta carotene and lycopene antioxidants may help protect your skin from sun damage (25Trusted Source).\n",
        "May support weight loss. Carrots are low in calories and high in fiber. Eating them increases feelings of fullness, which may prevent overeating and aid weight loss (26Trusted Source).\n",
        "SUMMARY\n",
        "Aside from their contributions to eye health, there are many reasons to eat carrots. They can benefit your digestive system, as well as heart, skin, and overall health.\n",
        "\n",
        "Other ways to boost your eye health\n",
        "Eating carrots isn’t the only way to keep your eyes healthy and your vision sharp. Other strategies to improve your eye health include:\n",
        "\n",
        "Use sun protection. Choose sunglasses that protect your eyes from 99–100% of UVA and UVB rays. Sun damage can lead to cataracts, macular degeneration, and pterygium (tissue growth over the whites of your eyes) (27Trusted Source).\n",
        "Limit screen time and blue light. Extended television, phone, or computer time can cause eye strain. At night, turn screens off or turn on the night-light filter on your phone, as blue light can cause retinal damage (28Trusted Source).\n",
        "Exercise. Engaging in regular physical activity is good for your eyes and waistline. Lack of exercise increases your risk of type 2 diabetes and diabetic retinopathy, a condition that can impair your vision (29Trusted Source).\n",
        "Don’t smoke. Tobacco smoke has been linked to vision loss, cataracts, and macular degeneration. Smoking may also increase your risk of dry eye (30Trusted Source, 31Trusted Source, 32Trusted Source, 33Trusted Source).\n",
        "Strive for a balanced diet. EPA and DHA omega-3 fats (e.g., fatty fish, flax), vitamin C (e.g, citrus fruits, broccoli), vitamin E (e.g., nut butters), and zinc (e.g., meat, oysters, and pumpkin seeds) are also good for your eyes (34Trusted Source, 35Trusted Source, 36Trusted Source, 37Trusted Source).\n",
        "Eat dark leafy green vegetables. Kale, spinach, and collard greens are high in the carotenoids lutein and zeaxanthin, which support eye health (33Trusted Source).\n",
        "Get regular eye exams. The best way to know how your eyes are doing is to have them regularly examined by an eyecare professional. Seeing an optometrist or ophthalmologist is a good preventive health habit to get into.\n",
        "SUMMARY\n",
        "Eating a nutritious diet, exercising, limiting screen time, not smoking, wearing sunglasses, and having your vision checked regularly by an eye doctor are important habits for optimal eye health.\n",
        "\n",
        "The bottom line\n",
        "The idea that carrots promote healthy eyes and good vision originates from a myth — but that doesn’t mean it’s untrue.\n",
        "\n",
        "They’re especially high in the antioxidants lutein and beta carotene, which have been shown to protect your eyes.\n",
        "\n",
        "Carrots may also benefit your digestion, heart, skin, and overall health.\n",
        "\n",
        "If you want to keep your eyes healthy, you should also establish other healthy, vision-protective habits like exercising, wearing sunglasses, limiting screen time, eating a balanced diet, and not smoking.\n",
        "\"\"\""
      ]
    },
    {
      "cell_type": "code",
      "execution_count": null,
      "metadata": {
        "id": "OGIrkl97WFXy"
      },
      "outputs": [],
      "source": [
        "def recursive_split(text, max_length):\n",
        "\n",
        "    # Base case: if the text is shorter than the max length, return it as is.\n",
        "    if len(text) <= max_length:\n",
        "        return [text]\n",
        "\n",
        "    # Find the best place to split the text (ideally at a space).\n",
        "    split_pos = text[:max_length].rfind(' ')\n",
        "    if split_pos == -1:\n",
        "        # If no space is found, split at the max_length.\n",
        "        split_pos = max_length\n",
        "\n",
        "    # Split the text at the found position.\n",
        "    part1 = text[:split_pos].strip()\n",
        "    part2 = text[split_pos:].strip()\n",
        "\n",
        "    # Recursively split the remaining part.\n",
        "    return [part1] + recursive_split(part2, max_length)\n"
      ]
    },
    {
      "cell_type": "code",
      "execution_count": null,
      "metadata": {
        "colab": {
          "base_uri": "https://localhost:8080/"
        },
        "id": "ndYj82ecXuzX",
        "outputId": "be39f1ec-fb3a-4276-b898-82380c694ee3"
      },
      "outputs": [
        {
          "name": "stdout",
          "output_type": "stream",
          "text": [
            "\n",
            "    _|    _|  _|    _|    _|_|_|    _|_|_|  _|_|_|  _|      _|    _|_|_|      _|_|_|_|    _|_|      _|_|_|  _|_|_|_|\n",
            "    _|    _|  _|    _|  _|        _|          _|    _|_|    _|  _|            _|        _|    _|  _|        _|\n",
            "    _|_|_|_|  _|    _|  _|  _|_|  _|  _|_|    _|    _|  _|  _|  _|  _|_|      _|_|_|    _|_|_|_|  _|        _|_|_|\n",
            "    _|    _|  _|    _|  _|    _|  _|    _|    _|    _|    _|_|  _|    _|      _|        _|    _|  _|        _|\n",
            "    _|    _|    _|_|      _|_|_|    _|_|_|  _|_|_|  _|      _|    _|_|_|      _|        _|    _|    _|_|_|  _|_|_|_|\n",
            "\n",
            "    To login, `huggingface_hub` requires a token generated from https://huggingface.co/settings/tokens .\n",
            "Enter your token (input will not be visible): \n",
            "Add token as git credential? (Y/n) n\n",
            "Token is valid (permission: fineGrained).\n",
            "Your token has been saved to /root/.cache/huggingface/token\n",
            "Login successful\n"
          ]
        }
      ],
      "source": [
        "!huggingface-cli login"
      ]
    },
    {
      "cell_type": "code",
      "execution_count": null,
      "metadata": {
        "colab": {
          "base_uri": "https://localhost:8080/",
          "height": 571,
          "referenced_widgets": [
            "f7440e36edc5471fb9dae6f8b3c04986",
            "6cd716b9da9b492b8f027c1fe5b1e676",
            "307ddd845777491e9eeb9432ff9d15ef",
            "c034c883cfe7469abbc8f77938ad84be",
            "f5e64979ff984d718a2ee0af97544914",
            "8a205600fd13443b9a9b4c114a394ae6",
            "c5b97acf125442e2a8a9f069a608ec16",
            "37fb4e41fdbf43a08ae3f0b04d83773a",
            "de003b2f46ce46a5be270d94e0cd0e2d",
            "d2ff89e8c7c74aa68e7256f33a8b0355",
            "85bbce30a9664a759f6d1994583f7e05",
            "89526c133e9e4c1398c1a5e7a9bd4c71",
            "32627571b11c4e07af7915a5a875dfe9",
            "655cbb5b33544b7d80d64e6633d87861",
            "ea8586c646084ec695f1759a7e8b8777",
            "a1eaf6f459d541a2b258ed9b5b20a534",
            "06fb0b31859640e69e178ed451fae6bd",
            "993370dfa369451cab23908f089f1d19",
            "ac08d29ef8e2410f8fe8c2b5df27bb1b",
            "da826d9532a3438bb7a49a6889134ee4",
            "84f1d488bf41462287f4639c04cb968c",
            "5a6168a3b1264c60b2200203eb6f75e5",
            "c8f310b71d0d4ce1853f371b48d01787",
            "aba142cfdb654c47b9fe3329646638d4",
            "8c780eb628914c299ed9cf03d53a1898",
            "458b842620534f6596e28920843be642",
            "c14f543a5c9d40788540f1c4edacdf57",
            "98f53ed1d4024070b98edb46f0113b8e",
            "83d63aaad83346f0bc1ee97b51ac2d7b",
            "695e221064774fa48c054b4c8f0b47d8",
            "64a4c8e7b54d4d54a985685c2ca29c77",
            "7cf0aa433e1d4c29b33d90d001125c0f",
            "f52de7d935cf48c6aa70aa53881e8407",
            "bc218d21d847412bb89153ff93ee50e9",
            "e6ecf88d007945bdb432057163c534dc",
            "a7eda9dba4b04e95b5ce833382965446",
            "dedd43ee937141f5bc81558c7e8798e3",
            "d11bfb2f3c80419595c8598186641da6",
            "fefca73773824906b49ab2e69d36a3a6",
            "c455b881102248a9b2be4425e1932a1c",
            "ef9bd62df2c04b578a6f9017888534f5",
            "cd9978843e2d4448b973cd511b8679e6",
            "d64e605be88a4de8b149e7204357ef62",
            "0c9d99da44ff4c55aeacd5022747fc04",
            "c2a65620fa484df19b3397c103e78d9b",
            "b9de8d72dcf34144b0b24aebbba91abb",
            "0a4054d9a4a44300a1817790e74f76bf",
            "167fdb5a068442f2bff0ff313c66a9c2",
            "f9bb2a6464bd4859865da1f36e633324",
            "719862f8b5ce46f189e758cdc57c2599",
            "ce08dcd877b54107a97fed8061cb09d0",
            "a0dfc85d54d7444390ba28f12d940937",
            "821f1ffc3c53448b852f8e4356dee4c4",
            "fff7d58598d3490aa563f4d2f2dd9825",
            "3c874df9da0148c19af43d56aa90dcf9",
            "86e1aa697fd14cdd8f5628fc259bee52",
            "c3a680acf71c435a970b03c09c048797",
            "9ccf9d8e1aad4647bae7dcb44e6affd5",
            "d4c4632a5ed6443ebcb4d082c9c6c664",
            "ed9277fcd8b840078d33c0db52451351",
            "c43ee35db553454d92c649eadcface4b",
            "2091de945c98407c8732fec027e40218",
            "358b76cb1f7348a3ae3579ae11928913",
            "bdb3a9a1232b4b72b53314518ff9f2c4",
            "d2002b63e87c4eec913227c1a59e5c71",
            "8c0851641cca43a9b0f9f3d22c52c776",
            "fe6ac89813644fb0b873c6bad4b42b3c",
            "8d4980f3fbb049899a16693b7b28d6ed",
            "c25a501479fa4c019a14430bbd808515",
            "1a9916a63a70426fbd16dd53437152ec",
            "f4dfaea0720045699d52890482747c4a",
            "48dce5558f8a47eebed8f37c3a5aaec1",
            "458af61b0aaa4c75be6a7313d2d06644",
            "f27ca86012c749b5b9072d5cba0b0c38",
            "22233340c8f044f8ad0d7c25a8624ae5",
            "7cbecf6e51074695af01df4d3502614f",
            "5dfcefff3cfa4bdf89948e72720116e1",
            "6e3af0fb23164a3cb3c69d5582a92c3d",
            "dc8a48b6bcbf45da9ba7e7c89f04ba12",
            "9de14c9165454420b8e841cb4a3a56c5",
            "0a07cb6f867e41fc903348e82bbf2862",
            "64f04504ecc24729b7a3a1f6c76b6805",
            "db65be125cea46bf997b3c11410bfe05",
            "47dc65dd0ebb4e20a2599ce91b6ba0a4",
            "fa7bb387e2544e5eb82f39002fc17075",
            "eb2fd54c2ff347d19a5ce219d80d5f9e",
            "06ea6e0170c14621820bc4c2019c88e2",
            "74df66b8259a4c0087adb907960e4c79",
            "1766a016bca744859a846f856f29e6cf",
            "6b888e03e6d549cf97238c07e0c4548e",
            "7c3b94f0463742d69e7326ff5289a230",
            "337242a3d2a64a2687a9de2067107ebb",
            "45338da0c2b54d228792e00f76e6ee93",
            "d511d28d9bf343baa9b9ee3b50cdc2a8",
            "9c3880d8181c499eb84827eb77e6305d",
            "a90469f59afc4be1b3be9c064be2d195",
            "21c9270a3fae4e769d357af2010d4fd6",
            "09c34696ab7f4f57ab05cbd254508d15",
            "bddc317a0e4d415985a646011e1ebd1b",
            "6d2ebfa834d44b9b90487fa67a8161c4",
            "e30ad340d0fc4027ba04cfceeaf3e9f9",
            "6782a94d10c947758f6495214ecd77be",
            "3703c4a195494bb59371e14ae443bcdd",
            "4dd3d29945ed4169aa433c3226871c67",
            "21b2e98f31e243208b486d488a7a47f7",
            "89169ce8e5e645a59c97d632920d53d6",
            "550cdbfe3908496da4bb9d60d4328546",
            "dfc5f50349ed46919378a43aa36c39b6",
            "66e00356866e44109a7dbbbe1ed94038",
            "a110c43157ee4827bc4200ca1769f086",
            "9f39f974023f4b75b695fd78799c801a",
            "3f6c9776572b4aeab2b22cf431f9d433",
            "f0a77c11ef0b4452959418f0eae0496d",
            "8a3b3a9c7425482baf7e8979b31c6018",
            "f8e925c9c10d492396f71e9d4e2f4014",
            "02737820571b4fab9c6054bd3ec3f412",
            "df73f398bedd4fa19ab15790998367c6",
            "199e9831e020433e847c2f1f09f17273",
            "68191633d3a34024889b117db105bfea",
            "8a76e2761fca4c48a7b33f1c2b9f4f39",
            "81b64cda61464f90a042d12a6810abc6"
          ]
        },
        "id": "kJa1yRl6XwUj",
        "outputId": "c5d7ed04-aa41-40f1-b07d-1f224f5d5b3f"
      },
      "outputs": [
        {
          "name": "stderr",
          "output_type": "stream",
          "text": [
            "/usr/local/lib/python3.10/dist-packages/sentence_transformers/cross_encoder/CrossEncoder.py:11: TqdmExperimentalWarning: Using `tqdm.autonotebook.tqdm` in notebook mode. Use `tqdm.tqdm` instead to force console mode (e.g. in jupyter console)\n",
            "  from tqdm.autonotebook import tqdm, trange\n",
            "/usr/local/lib/python3.10/dist-packages/huggingface_hub/utils/_token.py:89: UserWarning: \n",
            "The secret `HF_TOKEN` does not exist in your Colab secrets.\n",
            "To authenticate with the Hugging Face Hub, create a token in your settings tab (https://huggingface.co/settings/tokens), set it as secret in your Google Colab and restart your session.\n",
            "You will be able to reuse this secret in all of your notebooks.\n",
            "Please note that authentication is recommended but still optional to access public models or datasets.\n",
            "  warnings.warn(\n"
          ]
        },
        {
          "data": {
            "application/vnd.jupyter.widget-view+json": {
              "model_id": "f7440e36edc5471fb9dae6f8b3c04986",
              "version_major": 2,
              "version_minor": 0
            },
            "text/plain": [
              "modules.json:   0%|          | 0.00/349 [00:00<?, ?B/s]"
            ]
          },
          "metadata": {},
          "output_type": "display_data"
        },
        {
          "data": {
            "application/vnd.jupyter.widget-view+json": {
              "model_id": "89526c133e9e4c1398c1a5e7a9bd4c71",
              "version_major": 2,
              "version_minor": 0
            },
            "text/plain": [
              "config_sentence_transformers.json:   0%|          | 0.00/116 [00:00<?, ?B/s]"
            ]
          },
          "metadata": {},
          "output_type": "display_data"
        },
        {
          "data": {
            "application/vnd.jupyter.widget-view+json": {
              "model_id": "c8f310b71d0d4ce1853f371b48d01787",
              "version_major": 2,
              "version_minor": 0
            },
            "text/plain": [
              "README.md:   0%|          | 0.00/10.7k [00:00<?, ?B/s]"
            ]
          },
          "metadata": {},
          "output_type": "display_data"
        },
        {
          "data": {
            "application/vnd.jupyter.widget-view+json": {
              "model_id": "bc218d21d847412bb89153ff93ee50e9",
              "version_major": 2,
              "version_minor": 0
            },
            "text/plain": [
              "sentence_bert_config.json:   0%|          | 0.00/53.0 [00:00<?, ?B/s]"
            ]
          },
          "metadata": {},
          "output_type": "display_data"
        },
        {
          "name": "stderr",
          "output_type": "stream",
          "text": [
            "/usr/local/lib/python3.10/dist-packages/huggingface_hub/file_download.py:1132: FutureWarning: `resume_download` is deprecated and will be removed in version 1.0.0. Downloads always resume when possible. If you want to force a new download, use `force_download=True`.\n",
            "  warnings.warn(\n"
          ]
        },
        {
          "data": {
            "application/vnd.jupyter.widget-view+json": {
              "model_id": "c2a65620fa484df19b3397c103e78d9b",
              "version_major": 2,
              "version_minor": 0
            },
            "text/plain": [
              "config.json:   0%|          | 0.00/612 [00:00<?, ?B/s]"
            ]
          },
          "metadata": {},
          "output_type": "display_data"
        },
        {
          "data": {
            "application/vnd.jupyter.widget-view+json": {
              "model_id": "86e1aa697fd14cdd8f5628fc259bee52",
              "version_major": 2,
              "version_minor": 0
            },
            "text/plain": [
              "model.safetensors:   0%|          | 0.00/90.9M [00:00<?, ?B/s]"
            ]
          },
          "metadata": {},
          "output_type": "display_data"
        },
        {
          "data": {
            "application/vnd.jupyter.widget-view+json": {
              "model_id": "fe6ac89813644fb0b873c6bad4b42b3c",
              "version_major": 2,
              "version_minor": 0
            },
            "text/plain": [
              "tokenizer_config.json:   0%|          | 0.00/350 [00:00<?, ?B/s]"
            ]
          },
          "metadata": {},
          "output_type": "display_data"
        },
        {
          "data": {
            "application/vnd.jupyter.widget-view+json": {
              "model_id": "6e3af0fb23164a3cb3c69d5582a92c3d",
              "version_major": 2,
              "version_minor": 0
            },
            "text/plain": [
              "vocab.txt:   0%|          | 0.00/232k [00:00<?, ?B/s]"
            ]
          },
          "metadata": {},
          "output_type": "display_data"
        },
        {
          "data": {
            "application/vnd.jupyter.widget-view+json": {
              "model_id": "1766a016bca744859a846f856f29e6cf",
              "version_major": 2,
              "version_minor": 0
            },
            "text/plain": [
              "tokenizer.json:   0%|          | 0.00/466k [00:00<?, ?B/s]"
            ]
          },
          "metadata": {},
          "output_type": "display_data"
        },
        {
          "data": {
            "application/vnd.jupyter.widget-view+json": {
              "model_id": "6d2ebfa834d44b9b90487fa67a8161c4",
              "version_major": 2,
              "version_minor": 0
            },
            "text/plain": [
              "special_tokens_map.json:   0%|          | 0.00/112 [00:00<?, ?B/s]"
            ]
          },
          "metadata": {},
          "output_type": "display_data"
        },
        {
          "data": {
            "application/vnd.jupyter.widget-view+json": {
              "model_id": "9f39f974023f4b75b695fd78799c801a",
              "version_major": 2,
              "version_minor": 0
            },
            "text/plain": [
              "1_Pooling/config.json:   0%|          | 0.00/190 [00:00<?, ?B/s]"
            ]
          },
          "metadata": {},
          "output_type": "display_data"
        }
      ],
      "source": [
        "from sentence_transformers import SentenceTransformer\n",
        "\n",
        "model = SentenceTransformer(\"sentence-transformers/all-MiniLM-L6-v2\")"
      ]
    },
    {
      "cell_type": "code",
      "execution_count": null,
      "metadata": {
        "id": "jFfs5e93XEBD"
      },
      "outputs": [],
      "source": [
        "chunks = recursive_split(text, len(text)//30)"
      ]
    },
    {
      "cell_type": "code",
      "execution_count": null,
      "metadata": {
        "colab": {
          "base_uri": "https://localhost:8080/"
        },
        "id": "VmkrrqlEXO0m",
        "outputId": "497953fb-8c0f-4c47-d17b-499bbf6861b9"
      },
      "outputs": [
        {
          "data": {
            "text/plain": [
              "31"
            ]
          },
          "execution_count": 7,
          "metadata": {},
          "output_type": "execute_result"
        }
      ],
      "source": [
        "len(chunks)"
      ]
    },
    {
      "cell_type": "code",
      "execution_count": null,
      "metadata": {
        "id": "UQONzfi7eE4_"
      },
      "outputs": [],
      "source": [
        "embeddings = model.encode(chunks)"
      ]
    },
    {
      "cell_type": "code",
      "execution_count": null,
      "metadata": {
        "colab": {
          "base_uri": "https://localhost:8080/"
        },
        "id": "5kaIZUfDeXdU",
        "outputId": "154f08ee-43b5-49f4-e147-d48948e297e6"
      },
      "outputs": [
        {
          "data": {
            "text/plain": [
              "31"
            ]
          },
          "execution_count": 9,
          "metadata": {},
          "output_type": "execute_result"
        }
      ],
      "source": [
        "len(embeddings)"
      ]
    },
    {
      "cell_type": "code",
      "execution_count": null,
      "metadata": {
        "id": "aXHrk1QwgfDC"
      },
      "outputs": [],
      "source": [
        "from sklearn.cluster import KMeans\n",
        "import matplotlib.pyplot as plt\n",
        "import numpy as np"
      ]
    },
    {
      "cell_type": "code",
      "execution_count": null,
      "metadata": {
        "colab": {
          "base_uri": "https://localhost:8080/",
          "height": 449
        },
        "id": "dtY7uyvBgodR",
        "outputId": "6b31156c-2f95-46e3-99cc-e452344e5109"
      },
      "outputs": [
        {
          "data": {
            "image/png": "[encoded data removed]",
            "text/plain": [
              "<Figure size 640x480 with 1 Axes>"
            ]
          },
          "metadata": {},
          "output_type": "display_data"
        }
      ],
      "source": [
        "inertia=[]\n",
        "for n in range(5, 30):\n",
        "    kmeans = KMeans(n_clusters=n, random_state=42,n_init=10)\n",
        "    kmeans.fit(embeddings)\n",
        "    inertia.append(kmeans.inertia_)\n",
        "\n",
        "plt.plot(range(5, 30), inertia)\n",
        "plt.xlabel('Number of Clusters')\n",
        "plt.ylabel('Inertia')\n",
        "plt.show()"
      ]
    },
    {
      "cell_type": "code",
      "execution_count": null,
      "metadata": {
        "id": "hwa0OOlEhL5m"
      },
      "outputs": [],
      "source": [
        "def find_optimal_clusters(inertia):\n",
        "    deltas = np.diff(inertia, 2)\n",
        "    elbow_index = np.argmax(deltas) + 2\n",
        "    return elbow_index"
      ]
    },
    {
      "cell_type": "code",
      "execution_count": null,
      "metadata": {
        "colab": {
          "base_uri": "https://localhost:8080/"
        },
        "id": "v-3gopJmhNZo",
        "outputId": "2ab70d70-6eee-41c3-d423-96d2543fdbf0"
      },
      "outputs": [
        {
          "name": "stdout",
          "output_type": "stream",
          "text": [
            "Optimal number of clusters: 20\n"
          ]
        }
      ],
      "source": [
        "optimal_num_clusters = find_optimal_clusters(inertia)\n",
        "print(\"Optimal number of clusters:\", optimal_num_clusters)"
      ]
    },
    {
      "cell_type": "code",
      "execution_count": null,
      "metadata": {
        "colab": {
          "base_uri": "https://localhost:8080/",
          "height": 74
        },
        "id": "dqwy_kouhnvq",
        "outputId": "e3b8e8a5-055a-42bf-a267-a02eeeccf718"
      },
      "outputs": [
        {
          "data": {
            "text/html": [
              "<style>#sk-container-id-1 {color: black;background-color: white;}#sk-container-id-1 pre{padding: 0;}#sk-container-id-1 div.sk-toggleable {background-color: white;}#sk-container-id-1 label.sk-toggleable__label {cursor: pointer;display: block;width: 100%;margin-bottom: 0;padding: 0.3em;box-sizing: border-box;text-align: center;}#sk-container-id-1 label.sk-toggleable__label-arrow:before {content: \"▸\";float: left;margin-right: 0.25em;color: #696969;}#sk-container-id-1 label.sk-toggleable__label-arrow:hover:before {color: black;}#sk-container-id-1 div.sk-estimator:hover label.sk-toggleable__label-arrow:before {color: black;}#sk-container-id-1 div.sk-toggleable__content {max-height: 0;max-width: 0;overflow: hidden;text-align: left;background-color: #f0f8ff;}#sk-container-id-1 div.sk-toggleable__content pre {margin: 0.2em;color: black;border-radius: 0.25em;background-color: #f0f8ff;}#sk-container-id-1 input.sk-toggleable__control:checked~div.sk-toggleable__content {max-height: 200px;max-width: 100%;overflow: auto;}#sk-container-id-1 input.sk-toggleable__control:checked~label.sk-toggleable__label-arrow:before {content: \"▾\";}#sk-container-id-1 div.sk-estimator input.sk-toggleable__control:checked~label.sk-toggleable__label {background-color: #d4ebff;}#sk-container-id-1 div.sk-label input.sk-toggleable__control:checked~label.sk-toggleable__label {background-color: #d4ebff;}#sk-container-id-1 input.sk-hidden--visually {border: 0;clip: rect(1px 1px 1px 1px);clip: rect(1px, 1px, 1px, 1px);height: 1px;margin: -1px;overflow: hidden;padding: 0;position: absolute;width: 1px;}#sk-container-id-1 div.sk-estimator {font-family: monospace;background-color: #f0f8ff;border: 1px dotted black;border-radius: 0.25em;box-sizing: border-box;margin-bottom: 0.5em;}#sk-container-id-1 div.sk-estimator:hover {background-color: #d4ebff;}#sk-container-id-1 div.sk-parallel-item::after {content: \"\";width: 100%;border-bottom: 1px solid gray;flex-grow: 1;}#sk-container-id-1 div.sk-label:hover label.sk-toggleable__label {background-color: #d4ebff;}#sk-container-id-1 div.sk-serial::before {content: \"\";position: absolute;border-left: 1px solid gray;box-sizing: border-box;top: 0;bottom: 0;left: 50%;z-index: 0;}#sk-container-id-1 div.sk-serial {display: flex;flex-direction: column;align-items: center;background-color: white;padding-right: 0.2em;padding-left: 0.2em;position: relative;}#sk-container-id-1 div.sk-item {position: relative;z-index: 1;}#sk-container-id-1 div.sk-parallel {display: flex;align-items: stretch;justify-content: center;background-color: white;position: relative;}#sk-container-id-1 div.sk-item::before, #sk-container-id-1 div.sk-parallel-item::before {content: \"\";position: absolute;border-left: 1px solid gray;box-sizing: border-box;top: 0;bottom: 0;left: 50%;z-index: -1;}#sk-container-id-1 div.sk-parallel-item {display: flex;flex-direction: column;z-index: 1;position: relative;background-color: white;}#sk-container-id-1 div.sk-parallel-item:first-child::after {align-self: flex-end;width: 50%;}#sk-container-id-1 div.sk-parallel-item:last-child::after {align-self: flex-start;width: 50%;}#sk-container-id-1 div.sk-parallel-item:only-child::after {width: 0;}#sk-container-id-1 div.sk-dashed-wrapped {border: 1px dashed gray;margin: 0 0.4em 0.5em 0.4em;box-sizing: border-box;padding-bottom: 0.4em;background-color: white;}#sk-container-id-1 div.sk-label label {font-family: monospace;font-weight: bold;display: inline-block;line-height: 1.2em;}#sk-container-id-1 div.sk-label-container {text-align: center;}#sk-container-id-1 div.sk-container {/* jupyter's `normalize.less` sets `[hidden] { display: none; }` but bootstrap.min.css set `[hidden] { display: none !important; }` so we also need the `!important` here to be able to override the default hidden behavior on the sphinx rendered scikit-learn.org. See: https://github.com/scikit-learn/scikit-learn/issues/21755 */display: inline-block !important;position: relative;}#sk-container-id-1 div.sk-text-repr-fallback {display: none;}</style><div id=\"sk-container-id-1\" class=\"sk-top-container\"><div class=\"sk-text-repr-fallback\"><pre>KMeans(n_clusters=20, n_init=10, random_state=42)</pre><b>In a Jupyter environment, please rerun this cell to show the HTML representation or trust the notebook. <br />On GitHub, the HTML representation is unable to render, please try loading this page with nbviewer.org.</b></div><div class=\"sk-container\" hidden><div class=\"sk-item\"><div class=\"sk-estimator sk-toggleable\"><input class=\"sk-toggleable__control sk-hidden--visually\" id=\"sk-estimator-id-1\" type=\"checkbox\" checked><label for=\"sk-estimator-id-1\" class=\"sk-toggleable__label sk-toggleable__label-arrow\">KMeans</label><div class=\"sk-toggleable__content\"><pre>KMeans(n_clusters=20, n_init=10, random_state=42)</pre></div></div></div></div></div>"
            ],
            "text/plain": [
              "KMeans(n_clusters=20, n_init=10, random_state=42)"
            ]
          },
          "execution_count": 14,
          "metadata": {},
          "output_type": "execute_result"
        }
      ],
      "source": [
        "kmeans = KMeans(n_clusters=optimal_num_clusters, random_state=42, n_init=10)\n",
        "kmeans.fit(embeddings)"
      ]
    },
    {
      "cell_type": "code",
      "execution_count": null,
      "metadata": {
        "colab": {
          "base_uri": "https://localhost:8080/"
        },
        "id": "I75Li6tshpni",
        "outputId": "708571ed-eb4c-43d0-ef61-58d88075a9b0"
      },
      "outputs": [
        {
          "data": {
            "text/plain": [
              "array([12,  1,  1,  4,  1, 12,  6, 14,  8, 19, 17, 12,  1, 13, 18, 15, 15,\n",
              "        5, 16,  1,  1,  2,  7,  3, 10,  0,  0, 11,  1, 12,  9],\n",
              "      dtype=int32)"
            ]
          },
          "execution_count": 15,
          "metadata": {},
          "output_type": "execute_result"
        }
      ],
      "source": [
        "labels = kmeans.labels_\n",
        "labels"
      ]
    },
    {
      "cell_type": "code",
      "execution_count": null,
      "metadata": {
        "id": "3rwl2KEhiyqw"
      },
      "outputs": [],
      "source": [
        "def get_count(arr):\n",
        "    count = {}\n",
        "    for item in arr:\n",
        "        if item in count:\n",
        "            count[item] += 1\n",
        "        else:\n",
        "            count[item] = 1\n",
        "    count = dict(sorted(count.items(), key=lambda x: x[0]))\n",
        "    for cluster, items in count.items():\n",
        "        print(f\"Cluster {cluster}: {items} items\")"
      ]
    },
    {
      "cell_type": "code",
      "execution_count": null,
      "metadata": {
        "colab": {
          "base_uri": "https://localhost:8080/"
        },
        "id": "jx29zTArjAuf",
        "outputId": "0bc93415-b6ab-489a-a50d-742ff53532e5"
      },
      "outputs": [
        {
          "name": "stdout",
          "output_type": "stream",
          "text": [
            "Cluster 0: 2 items\n",
            "Cluster 1: 7 items\n",
            "Cluster 2: 1 items\n",
            "Cluster 3: 1 items\n",
            "Cluster 4: 1 items\n",
            "Cluster 5: 1 items\n",
            "Cluster 6: 1 items\n",
            "Cluster 7: 1 items\n",
            "Cluster 8: 1 items\n",
            "Cluster 9: 1 items\n",
            "Cluster 10: 1 items\n",
            "Cluster 11: 1 items\n",
            "Cluster 12: 4 items\n",
            "Cluster 13: 1 items\n",
            "Cluster 14: 1 items\n",
            "Cluster 15: 2 items\n",
            "Cluster 16: 1 items\n",
            "Cluster 17: 1 items\n",
            "Cluster 18: 1 items\n",
            "Cluster 19: 1 items\n"
          ]
        }
      ],
      "source": [
        "get_count(labels)\n"
      ]
    },
    {
      "cell_type": "code",
      "execution_count": null,
      "metadata": {
        "id": "at0NJuUd1WSL"
      },
      "outputs": [],
      "source": [
        "from sklearn.metrics.pairwise import euclidean_distances"
      ]
    },
    {
      "cell_type": "code",
      "execution_count": null,
      "metadata": {
        "id": "1s3QqrA71RFJ"
      },
      "outputs": [],
      "source": [
        "def calculate_variances(embeddings, labels, n_clusters):\n",
        "    variances = []\n",
        "    for i in range(n_clusters):\n",
        "        cluster_embeddings = embeddings[labels == i]\n",
        "        if len(cluster_embeddings) > 1:\n",
        "            cluster_center = np.mean(cluster_embeddings, axis=0)\n",
        "            distances = euclidean_distances(cluster_embeddings, cluster_center.reshape(1, -1)).flatten()\n",
        "            variance = np.var(distances)\n",
        "        else:\n",
        "            variance = 0\n",
        "        variances.append(variance)\n",
        "    return variances"
      ]
    },
    {
      "cell_type": "code",
      "execution_count": null,
      "metadata": {
        "colab": {
          "base_uri": "https://localhost:8080/"
        },
        "id": "qksuqEIH1X2C",
        "outputId": "9906f9d5-aab6-4f53-84f1-9a3ada235e01"
      },
      "outputs": [
        {
          "data": {
            "text/plain": [
              "[0.0,\n",
              " 0.0045402437,\n",
              " 0,\n",
              " 0,\n",
              " 0,\n",
              " 0,\n",
              " 0,\n",
              " 0,\n",
              " 0,\n",
              " 0,\n",
              " 0,\n",
              " 0,\n",
              " 0.00266858,\n",
              " 0,\n",
              " 0,\n",
              " 0.0,\n",
              " 0,\n",
              " 0,\n",
              " 0,\n",
              " 0]"
            ]
          },
          "execution_count": 20,
          "metadata": {},
          "output_type": "execute_result"
        }
      ],
      "source": [
        "variances = calculate_variances(embeddings, labels, optimal_num_clusters)\n",
        "variances"
      ]
    },
    {
      "cell_type": "code",
      "execution_count": null,
      "metadata": {
        "id": "xnJr7t4s3tyc"
      },
      "outputs": [],
      "source": [
        "def sample_chunks(embeddings, labels, n_clusters, base_sample_size=1):\n",
        "    # Calculate variances\n",
        "    variances = calculate_variances(embeddings, labels, n_clusters)\n",
        "    print(variances)\n",
        "    print()\n",
        "    # Normalize variances to use as weights for sampling\n",
        "    total_variance = sum(variances)\n",
        "    if total_variance == 0:\n",
        "        weights = [1/n_clusters] * n_clusters\n",
        "    else:\n",
        "        weights = [var / total_variance for var in variances]\n",
        "\n",
        "    # Determine number of samples for each cluster based on weights\n",
        "    sample_sizes = [max(base_sample_size, int(weight * len(embeddings))) for weight in weights]\n",
        "    print(sample_sizes)\n",
        "\n",
        "    # Sample chunks from each cluster\n",
        "    sampled_chunks = []\n",
        "    for i in range(n_clusters):\n",
        "        cluster_indices = np.where(labels == i)[0]\n",
        "        np.random.shuffle(cluster_indices)\n",
        "        sample_size = min(sample_sizes[i], len(cluster_indices))\n",
        "        sampled_chunks.append(cluster_indices[:sample_size].tolist())\n",
        "\n",
        "    return sampled_chunks"
      ]
    },
    {
      "cell_type": "code",
      "execution_count": null,
      "metadata": {
        "colab": {
          "base_uri": "https://localhost:8080/"
        },
        "id": "-6Sb4VVR6q0x",
        "outputId": "109a0e32-f551-40b3-ae85-50216fa6f0d3"
      },
      "outputs": [
        {
          "name": "stdout",
          "output_type": "stream",
          "text": [
            "[0.0, 0.0045402437, 0, 0, 0, 0, 0, 0, 0, 0, 0, 0, 0.00266858, 0, 0, 0.0, 0, 0, 0, 0]\n",
            "\n",
            "[1, 19, 1, 1, 1, 1, 1, 1, 1, 1, 1, 1, 11, 1, 1, 1, 1, 1, 1, 1]\n"
          ]
        }
      ],
      "source": [
        "sample = sample_chunks(embeddings, labels, optimal_num_clusters)"
      ]
    },
    {
      "cell_type": "code",
      "execution_count": null,
      "metadata": {
        "colab": {
          "base_uri": "https://localhost:8080/"
        },
        "id": "9XB1-ak__JHd",
        "outputId": "24c6741b-1a03-4042-ff3c-1f3ff84cca59"
      },
      "outputs": [
        {
          "data": {
            "text/plain": [
              "[[25],\n",
              " [1, 12, 4, 28, 2, 19, 20],\n",
              " [21],\n",
              " [23],\n",
              " [3],\n",
              " [17],\n",
              " [6],\n",
              " [22],\n",
              " [8],\n",
              " [30],\n",
              " [24],\n",
              " [27],\n",
              " [29, 0, 5, 11],\n",
              " [13],\n",
              " [7],\n",
              " [15],\n",
              " [18],\n",
              " [10],\n",
              " [14],\n",
              " [9]]"
            ]
          },
          "execution_count": 23,
          "metadata": {},
          "output_type": "execute_result"
        }
      ],
      "source": [
        "sample"
      ]
    },
    {
      "cell_type": "code",
      "execution_count": null,
      "metadata": {
        "colab": {
          "base_uri": "https://localhost:8080/"
        },
        "id": "5_TGWmDJ_Jml",
        "outputId": "09ab4459-4a83-4654-de9e-70892f0d5d00"
      },
      "outputs": [
        {
          "data": {
            "text/plain": [
              "20"
            ]
          },
          "execution_count": 24,
          "metadata": {},
          "output_type": "execute_result"
        }
      ],
      "source": [
        "len(sample)"
      ]
    },
    {
      "cell_type": "code",
      "execution_count": null,
      "metadata": {
        "id": "m5alv5Xk_5fl"
      },
      "outputs": [],
      "source": [
        "corpus = []\n",
        "for i in range(len(sample)):\n",
        "  tmp = []\n",
        "  for j in sample[i]:\n",
        "    tmp.append(chunks[j])\n",
        "  corpus.append(tmp)\n"
      ]
    },
    {
      "cell_type": "code",
      "execution_count": null,
      "metadata": {
        "colab": {
          "base_uri": "https://localhost:8080/"
        },
        "id": "wl_RU_sg0CRG",
        "outputId": "e45dee46-0360-4604-820e-99eb59668b31"
      },
      "outputs": [
        {
          "data": {
            "text/plain": [
              "20"
            ]
          },
          "execution_count": 26,
          "metadata": {},
          "output_type": "execute_result"
        }
      ],
      "source": [
        "len(corpus)"
      ]
    },
    {
      "cell_type": "code",
      "execution_count": null,
      "metadata": {
        "colab": {
          "base_uri": "https://localhost:8080/"
        },
        "id": "ly09-CI0L3lh",
        "outputId": "956c1e18-08c4-42f1-c85c-597eb947188f"
      },
      "outputs": [
        {
          "data": {
            "text/plain": [
              "[['fruits, broccoli), vitamin E (e.g., nut butters), and zinc (e.g., meat, oysters, and pumpkin seeds) are also good for your eyes (34Trusted Source, 35Trusted Source, 36Trusted Source, 37Trusted Source).\\nEat dark leafy green vegetables. Kale,'],\n",
              " ['improve night vision.\\n\\nHowever, you may wonder about the origin of this idea and whether it’s supported by science.\\n\\nThis article tells you whether carrots benefit your eyes and provides other tips to keep your vision healthy.\\n\\nCarrots and',\n",
              "  'Your body converts beta carotene into vitamin A, a nutrient that helps you see in the dark.\\n\\nOther health benefits of carrots\\nCarrots support healthy eyes, but there are many other reasons to eat them. Most research focuses on their content',\n",
              "  'carrots.\\n\\nThis led to a longstanding propaganda campaign that promoted carrots for better eyesight. This embellished link between eating carrots and improved night vision remains today.\\n\\nHowever, although they’re not quite the magic eye food',\n",
              "  'regularly by an eye doctor are important habits for optimal eye health.\\n\\nThe bottom line\\nThe idea that carrots promote healthy eyes and good vision originates from a myth — but that doesn’t mean it’s untrue.\\n\\nThey’re especially high in the',\n",
              "  'eye health\\nIt has long been believed that eating carrots promotes eye health and improves your eyesight, especially at night.\\n\\nThough there is truth to this, the association between carrots and eyesight originated from a myth.\\n\\nDuring World',\n",
              "  'which may prevent overeating and aid weight loss (26Trusted Source).\\nSUMMARY\\nAside from their contributions to eye health, there are many reasons to eat carrots. They can benefit your digestive system, as well as heart, skin, and overall',\n",
              "  'health.\\n\\nOther ways to boost your eye health\\nEating carrots isn’t the only way to keep your eyes healthy and your vision sharp. Other strategies to improve your eye health include:\\n\\nUse sun protection. Choose sunglasses that protect your eyes']]"
            ]
          },
          "execution_count": 27,
          "metadata": {},
          "output_type": "execute_result"
        }
      ],
      "source": [
        "corpus[0:2]"
      ]
    },
    {
      "cell_type": "code",
      "execution_count": null,
      "metadata": {
        "id": "RNP6M3x0W7BI"
      },
      "outputs": [],
      "source": [
        "tensor_corpus = []\n",
        "for i in range(len(sample)):\n",
        "  tmp = []\n",
        "  for j in sample[i]:\n",
        "    tmp.append(embeddings[j])\n",
        "  tensor_corpus.append(tmp)"
      ]
    },
    {
      "cell_type": "code",
      "execution_count": null,
      "metadata": {
        "colab": {
          "base_uri": "https://localhost:8080/"
        },
        "id": "SowQ5BVS0Des",
        "outputId": "0b0cdd85-3995-41de-fb72-08ae81b1533a"
      },
      "outputs": [
        {
          "data": {
            "text/plain": [
              "1"
            ]
          },
          "execution_count": 29,
          "metadata": {},
          "output_type": "execute_result"
        }
      ],
      "source": [
        "len(tensor_corpus[0])"
      ]
    },
    {
      "cell_type": "code",
      "execution_count": null,
      "metadata": {
        "id": "ED3vMAjTdRbG"
      },
      "outputs": [],
      "source": [
        "from sklearn.feature_extraction.text import TfidfVectorizer"
      ]
    },
    {
      "cell_type": "code",
      "execution_count": null,
      "metadata": {
        "id": "9ocztRa4Ot6k"
      },
      "outputs": [],
      "source": [
        "def extract_keywords_from_clusters(clustered_corpus, top_n=4):\n",
        "    \"\"\"\n",
        "    Extract keywords from each cluster using TF-IDF.\n",
        "\n",
        "    Parameters:\n",
        "    clustered_corpus (list of list of str): A 2D list where each inner list contains the sampled chunks of a particular cluster.\n",
        "    top_n (int): The number of top keywords to extract from each cluster.\n",
        "\n",
        "    Returns:\n",
        "    cluster_keywords (list of list): A 2D list where each inner list contains the top keywords for a particular cluster.\n",
        "    \"\"\"\n",
        "    cluster_keywords = []\n",
        "\n",
        "    for cluster in clustered_corpus:\n",
        "        # Concatenate all chunks in the cluster to form a single document\n",
        "        concatenated_text = \" \".join(cluster)\n",
        "\n",
        "        # Apply TF-IDF vectorizer\n",
        "        vectorizer = TfidfVectorizer(stop_words='english', max_features=10000)\n",
        "        tfidf_matrix = vectorizer.fit_transform([concatenated_text])\n",
        "\n",
        "        # Get the feature names (i.e., the terms)\n",
        "        feature_names = vectorizer.get_feature_names_out()\n",
        "\n",
        "        # Get the TF-IDF scores for the terms\n",
        "        tfidf_scores = tfidf_matrix.toarray()[0]\n",
        "\n",
        "        # Get the top_n terms based on TF-IDF scores\n",
        "        top_indices = np.argsort(tfidf_scores)[-top_n:][::-1]\n",
        "        top_keywords = [feature_names[idx] for idx in top_indices]\n",
        "\n",
        "        cluster_keywords.append(top_keywords)\n",
        "\n",
        "    return cluster_keywords"
      ]
    },
    {
      "cell_type": "code",
      "execution_count": null,
      "metadata": {
        "colab": {
          "base_uri": "https://localhost:8080/"
        },
        "id": "LU2HMPpMOx7W",
        "outputId": "631ad99c-015f-49f9-8fda-2b128eed8759"
      },
      "outputs": [
        {
          "name": "stdout",
          "output_type": "stream",
          "text": [
            "Cluster 0: ['source', 'zinc', 'good', '35trusted']\n",
            "Cluster 1: ['carrots', 'eye', 'health', 'eyes']\n",
            "Cluster 2: ['whites', 'light', '27trusted', '99']\n",
            "Cluster 3: ['smoke', 'vision', 'waistline', 'increases']\n",
            "Cluster 4: ['pilots', 'war', 'ii', 'air']\n",
            "Cluster 5: ['source', 'heart', 'disease', '22trusted']\n",
            "Cluster 6: ['eye', 'damage', 'free', 'radicals']\n",
            "Cluster 7: ['turn', 'cause', 'night', 'light']\n",
            "Cluster 8: ['source', 'vitamin', 'light', '3trusted']\n",
            "Cluster 9: ['wearing', 'vision', 'time', 'sunglasses']\n",
            "Cluster 10: ['source', 'vitamin', 'epa', '31trusted']\n",
            "Cluster 11: ['wearing', 'vision', 'diet', 'eating']\n",
            "Cluster 12: ['carrots', 'health', 'source', 'eye']\n",
            "Cluster 13: ['fiber', 'carrots', 'health', 'digestive']\n",
            "Cluster 14: ['orange', 'vitamin', 'yellow', 'deficiency']\n",
            "Cluster 15: ['source', 'carrots', 'sugar', 'digestive']\n",
            "Cluster 16: ['weight', 'fullness', 'antioxidants', 'beta']\n",
            "Cluster 17: ['amd', 'lutein', 'yellow', 'gradually']\n",
            "Cluster 18: ['source', 'cancer', 'carrots', 'value']\n",
            "Cluster 19: ['source', 'carrots', 'fat', 'vitamin']\n"
          ]
        }
      ],
      "source": [
        "keywords = extract_keywords_from_clusters(corpus)\n",
        "for cluster in range(len(keywords)):\n",
        "    print(f\"Cluster {cluster}: {keywords[cluster]}\")"
      ]
    },
    {
      "cell_type": "code",
      "execution_count": null,
      "metadata": {
        "colab": {
          "base_uri": "https://localhost:8080/"
        },
        "id": "7f85X3To2PW4",
        "outputId": "4f55db0d-2b0a-490e-baed-6892608b802f"
      },
      "outputs": [
        {
          "data": {
            "text/plain": [
              "[['source', 'zinc', 'good', '35trusted'],\n",
              " ['carrots', 'eye', 'health', 'eyes'],\n",
              " ['whites', 'light', '27trusted', '99'],\n",
              " ['smoke', 'vision', 'waistline', 'increases'],\n",
              " ['pilots', 'war', 'ii', 'air'],\n",
              " ['source', 'heart', 'disease', '22trusted'],\n",
              " ['eye', 'damage', 'free', 'radicals'],\n",
              " ['turn', 'cause', 'night', 'light'],\n",
              " ['source', 'vitamin', 'light', '3trusted'],\n",
              " ['wearing', 'vision', 'time', 'sunglasses'],\n",
              " ['source', 'vitamin', 'epa', '31trusted'],\n",
              " ['wearing', 'vision', 'diet', 'eating'],\n",
              " ['carrots', 'health', 'source', 'eye'],\n",
              " ['fiber', 'carrots', 'health', 'digestive'],\n",
              " ['orange', 'vitamin', 'yellow', 'deficiency'],\n",
              " ['source', 'carrots', 'sugar', 'digestive'],\n",
              " ['weight', 'fullness', 'antioxidants', 'beta'],\n",
              " ['amd', 'lutein', 'yellow', 'gradually'],\n",
              " ['source', 'cancer', 'carrots', 'value'],\n",
              " ['source', 'carrots', 'fat', 'vitamin']]"
            ]
          },
          "execution_count": 33,
          "metadata": {},
          "output_type": "execute_result"
        }
      ],
      "source": [
        "keywords"
      ]
    },
    {
      "cell_type": "code",
      "execution_count": null,
      "metadata": {
        "colab": {
          "base_uri": "https://localhost:8080/"
        },
        "id": "Qe5OVuq-41_Z",
        "outputId": "1a14f14f-e0fc-4aad-ff2a-2d1ee6881dfe"
      },
      "outputs": [
        {
          "name": "stdout",
          "output_type": "stream",
          "text": [
            "Collecting pyvis\n",
            "  Downloading pyvis-0.3.2-py3-none-any.whl (756 kB)\n",
            "\u001b[?25l     \u001b[90m━━━━━━━━━━━━━━━━━━━━━━━━━━━━━━━━━━━━━━━━\u001b[0m \u001b[32m0.0/756.0 kB\u001b[0m \u001b[31m?\u001b[0m eta \u001b[36m-:--:--\u001b[0m\r\u001b[2K     \u001b[91m━━━━━━━━━━\u001b[0m\u001b[90m╺\u001b[0m\u001b[90m━━━━━━━━━━━━━━━━━━━━━━━━━━━━━\u001b[0m \u001b[32m194.6/756.0 kB\u001b[0m \u001b[31m6.4 MB/s\u001b[0m eta \u001b[36m0:00:01\u001b[0m\r\u001b[2K     \u001b[90m━━━━━━━━━━━━━━━━━━━━━━━━━━━━━━━━━━━━━━━━\u001b[0m \u001b[32m756.0/756.0 kB\u001b[0m \u001b[31m14.9 MB/s\u001b[0m eta \u001b[36m0:00:00\u001b[0m\n",
            "\u001b[?25hRequirement already satisfied: ipython>=5.3.0 in /usr/local/lib/python3.10/dist-packages (from pyvis) (7.34.0)\n",
            "Requirement already satisfied: jinja2>=2.9.6 in /usr/local/lib/python3.10/dist-packages (from pyvis) (3.1.4)\n",
            "Requirement already satisfied: jsonpickle>=1.4.1 in /usr/local/lib/python3.10/dist-packages (from pyvis) (3.2.2)\n",
            "Requirement already satisfied: networkx>=1.11 in /usr/local/lib/python3.10/dist-packages (from pyvis) (3.3)\n",
            "Requirement already satisfied: setuptools>=18.5 in /usr/local/lib/python3.10/dist-packages (from ipython>=5.3.0->pyvis) (67.7.2)\n",
            "Collecting jedi>=0.16 (from ipython>=5.3.0->pyvis)\n",
            "  Downloading jedi-0.19.1-py2.py3-none-any.whl (1.6 MB)\n",
            "\u001b[2K     \u001b[90m━━━━━━━━━━━━━━━━━━━━━━━━━━━━━━━━━━━━━━━━\u001b[0m \u001b[32m1.6/1.6 MB\u001b[0m \u001b[31m58.5 MB/s\u001b[0m eta \u001b[36m0:00:00\u001b[0m\n",
            "\u001b[?25hRequirement already satisfied: decorator in /usr/local/lib/python3.10/dist-packages (from ipython>=5.3.0->pyvis) (4.4.2)\n",
            "Requirement already satisfied: pickleshare in /usr/local/lib/python3.10/dist-packages (from ipython>=5.3.0->pyvis) (0.7.5)\n",
            "Requirement already satisfied: traitlets>=4.2 in /usr/local/lib/python3.10/dist-packages (from ipython>=5.3.0->pyvis) (5.7.1)\n",
            "Requirement already satisfied: prompt-toolkit!=3.0.0,!=3.0.1,<3.1.0,>=2.0.0 in /usr/local/lib/python3.10/dist-packages (from ipython>=5.3.0->pyvis) (3.0.47)\n",
            "Requirement already satisfied: pygments in /usr/local/lib/python3.10/dist-packages (from ipython>=5.3.0->pyvis) (2.16.1)\n",
            "Requirement already satisfied: backcall in /usr/local/lib/python3.10/dist-packages (from ipython>=5.3.0->pyvis) (0.2.0)\n",
            "Requirement already satisfied: matplotlib-inline in /usr/local/lib/python3.10/dist-packages (from ipython>=5.3.0->pyvis) (0.1.7)\n",
            "Requirement already satisfied: pexpect>4.3 in /usr/local/lib/python3.10/dist-packages (from ipython>=5.3.0->pyvis) (4.9.0)\n",
            "Requirement already satisfied: MarkupSafe>=2.0 in /usr/local/lib/python3.10/dist-packages (from jinja2>=2.9.6->pyvis) (2.1.5)\n",
            "Requirement already satisfied: parso<0.9.0,>=0.8.3 in /usr/local/lib/python3.10/dist-packages (from jedi>=0.16->ipython>=5.3.0->pyvis) (0.8.4)\n",
            "Requirement already satisfied: ptyprocess>=0.5 in /usr/local/lib/python3.10/dist-packages (from pexpect>4.3->ipython>=5.3.0->pyvis) (0.7.0)\n",
            "Requirement already satisfied: wcwidth in /usr/local/lib/python3.10/dist-packages (from prompt-toolkit!=3.0.0,!=3.0.1,<3.1.0,>=2.0.0->ipython>=5.3.0->pyvis) (0.2.13)\n",
            "Installing collected packages: jedi, pyvis\n",
            "Successfully installed jedi-0.19.1 pyvis-0.3.2\n"
          ]
        }
      ],
      "source": [
        "!pip install pyvis\n",
        "import networkx as nx\n",
        "from pyvis.network import Network"
      ]
    },
    {
      "cell_type": "code",
      "execution_count": null,
      "metadata": {
        "id": "F4vte_805rUI"
      },
      "outputs": [],
      "source": [
        "def create_dag(labels, keywords):\n",
        "    \"\"\"\n",
        "    Create a directed acyclic graph (DAG) from the cluster labels and keywords.\n",
        "\n",
        "    Parameters:\n",
        "    labels (np.ndarray): Array of cluster labels for each chunk.\n",
        "    keywords (list of list of str): A 2D list where each inner list contains the top keywords for a particular cluster.\n",
        "\n",
        "    Returns:\n",
        "    G (networkx.DiGraph): A directed acyclic graph representing the topics and their transitions.\n",
        "    \"\"\"\n",
        "    G = nx.DiGraph()\n",
        "\n",
        "    # Create nodes for each topic in each cluster\n",
        "    for i, cluster_keywords in enumerate(keywords):\n",
        "        for keyword in cluster_keywords:\n",
        "            G.add_node(f\"Cluster {i+1}\")\n",
        "\n",
        "    # Add edges based on the sequence of labels\n",
        "    for i in range(len(labels) - 1):\n",
        "        from_cluster = labels[i]\n",
        "        to_cluster = labels[i + 1]\n",
        "        if from_cluster != to_cluster:\n",
        "            from_topic = f\"Cluster {from_cluster+1}\"\n",
        "            to_topic = f\"Cluster {to_cluster+1}\"\n",
        "            G.add_edge(from_topic, to_topic)\n",
        "    print(labels)\n",
        "\n",
        "    return G"
      ]
    },
    {
      "cell_type": "code",
      "execution_count": null,
      "metadata": {
        "id": "RAXC2OCL5wkv"
      },
      "outputs": [],
      "source": [
        "def visualize_dag(G):\n",
        "    \"\"\"\n",
        "    Visualize the directed acyclic graph (DAG).\n",
        "\n",
        "    Parameters:\n",
        "    G (networkx.DiGraph): A directed acyclic graph representing the topics and their transitions.\n",
        "    \"\"\"\n",
        "    net = Network(notebook=True, directed=True)\n",
        "\n",
        "    # Convert NetworkX graph to PyVis\n",
        "    pos = nx.circular_layout(G)  # Positions for all nodes\n",
        "\n",
        "    plt.figure(figsize=(8, 7))\n",
        "    nx.draw(G, pos, with_labels=True, node_size=3000, node_color=\"lightblue\", font_size=10, font_weight=\"bold\", edge_color=\"gray\")\n",
        "\n",
        "    plt.title(\"DAG Visualization\", size=15)\n",
        "    plt.show()"
      ]
    },
    {
      "cell_type": "code",
      "execution_count": null,
      "metadata": {
        "id": "HOsPnQ1qFA6c"
      },
      "outputs": [],
      "source": [
        "def list_clusters():\n",
        "  for i in range(len(keywords)):\n",
        "    print(f\"Cluster {i+1}: {keywords[i]}\")"
      ]
    },
    {
      "cell_type": "code",
      "execution_count": null,
      "metadata": {
        "colab": {
          "base_uri": "https://localhost:8080/",
          "height": 1000
        },
        "id": "eKFx1Qmi5zph",
        "outputId": "5ec4f295-43d3-4acc-f574-6a217aaaeae2"
      },
      "outputs": [
        {
          "name": "stdout",
          "output_type": "stream",
          "text": [
            "[12  1  1  4  1 12  6 14  8 19 17 12  1 13 18 15 15  5 16  1  1  2  7  3\n",
            " 10  0  0 11  1 12  9]\n",
            "Warning: When  cdn_resources is 'local' jupyter notebook has issues displaying graphics on chrome/safari. Use cdn_resources='in_line' or cdn_resources='remote' if you have issues viewing graphics in a notebook.\n"
          ]
        },
        {
          "data": {
            "image/png": "[encoded data removed]",
            "text/plain": [
              "<Figure size 800x700 with 1 Axes>"
            ]
          },
          "metadata": {},
          "output_type": "display_data"
        },
        {
          "name": "stdout",
          "output_type": "stream",
          "text": [
            "Cluster 1: ['source', 'zinc', 'good', '35trusted']\n",
            "Cluster 2: ['carrots', 'eye', 'health', 'eyes']\n",
            "Cluster 3: ['whites', 'light', '27trusted', '99']\n",
            "Cluster 4: ['smoke', 'vision', 'waistline', 'increases']\n",
            "Cluster 5: ['pilots', 'war', 'ii', 'air']\n",
            "Cluster 6: ['source', 'heart', 'disease', '22trusted']\n",
            "Cluster 7: ['eye', 'damage', 'free', 'radicals']\n",
            "Cluster 8: ['turn', 'cause', 'night', 'light']\n",
            "Cluster 9: ['source', 'vitamin', 'light', '3trusted']\n",
            "Cluster 10: ['wearing', 'vision', 'time', 'sunglasses']\n",
            "Cluster 11: ['source', 'vitamin', 'epa', '31trusted']\n",
            "Cluster 12: ['wearing', 'vision', 'diet', 'eating']\n",
            "Cluster 13: ['carrots', 'health', 'source', 'eye']\n",
            "Cluster 14: ['fiber', 'carrots', 'health', 'digestive']\n",
            "Cluster 15: ['orange', 'vitamin', 'yellow', 'deficiency']\n",
            "Cluster 16: ['source', 'carrots', 'sugar', 'digestive']\n",
            "Cluster 17: ['weight', 'fullness', 'antioxidants', 'beta']\n",
            "Cluster 18: ['amd', 'lutein', 'yellow', 'gradually']\n",
            "Cluster 19: ['source', 'cancer', 'carrots', 'value']\n",
            "Cluster 20: ['source', 'carrots', 'fat', 'vitamin']\n"
          ]
        }
      ],
      "source": [
        "G = create_dag(labels, keywords)\n",
        "\n",
        "# Visualize the DAG interactively\n",
        "visualize_dag(G)\n",
        "list_clusters()"
      ]
    },
    {
      "cell_type": "code",
      "execution_count": null,
      "metadata": {
        "colab": {
          "base_uri": "https://localhost:8080/"
        },
        "id": "r6WprY-SGfQI",
        "outputId": "8473cdb4-8da4-4ad3-f05e-28938208f4c1"
      },
      "outputs": [
        {
          "data": {
            "text/plain": [
              "array([[ 1.0576196e-02, -6.0519002e-02, -1.2451460e-02, ...,\n",
              "         8.8732272e-02,  6.7386208e-03,  1.8319890e-02],\n",
              "       [-4.7481623e-03, -1.3110000e-02, -2.5743086e-02, ...,\n",
              "         5.8958028e-02, -2.4324711e-03,  5.1631965e-02],\n",
              "       [-2.2799781e-02,  1.9622996e-02,  8.6242110e-02, ...,\n",
              "        -2.1837801e-03,  7.3255971e-05,  4.7267087e-02],\n",
              "       ...,\n",
              "       [-1.8534973e-02, -9.1787204e-03,  4.6890285e-02, ...,\n",
              "         9.8417252e-03,  8.7663412e-02,  1.0116576e-01],\n",
              "       [-1.2964191e-02,  1.9520231e-02, -3.6917079e-02, ...,\n",
              "        -1.1546992e-02,  2.9176619e-02,  7.7665709e-03],\n",
              "       [-4.9565449e-02, -3.6987506e-02, -7.0336349e-02, ...,\n",
              "         6.3084170e-02,  5.0140329e-02,  2.6617331e-02]], dtype=float32)"
            ]
          },
          "execution_count": 39,
          "metadata": {},
          "output_type": "execute_result"
        }
      ],
      "source": [
        "centers=kmeans.cluster_centers_\n",
        "centers"
      ]
    },
    {
      "cell_type": "code",
      "execution_count": null,
      "metadata": {
        "id": "vCci5ydbN8J3"
      },
      "outputs": [],
      "source": [
        "import numpy as np\n",
        "\n",
        "def calculate_distances(points):\n",
        "    n = len(points)\n",
        "    distances = np.zeros((n, n))\n",
        "    for i in range(n):\n",
        "        for j in range(i+1, n):\n",
        "            distance = np.linalg.norm(points[i] - points[j])\n",
        "            distances[i, j] = distance\n",
        "            distances[j, i] = distance  # Because distance is symmetric\n",
        "\n",
        "    # Normalize the distances\n",
        "    max_distance = np.max(distances)\n",
        "    if max_distance > 0:  # To avoid division by zero\n",
        "        distances = distances / max_distance\n",
        "\n",
        "    return distances"
      ]
    },
    {
      "cell_type": "code",
      "execution_count": null,
      "metadata": {
        "colab": {
          "base_uri": "https://localhost:8080/"
        },
        "id": "X3_zcVeDN-yW",
        "outputId": "1f0c5b3f-81af-47e4-8413-15f69d3ead35"
      },
      "outputs": [
        {
          "data": {
            "text/plain": [
              "array([[0.        , 0.50479505, 0.7630259 , 0.80648071, 0.89007268,\n",
              "        0.73467945, 0.62050972, 0.75584357, 0.64507685, 0.69003034,\n",
              "        0.62193539, 0.73271578, 0.47386204, 0.73594684, 0.66164327,\n",
              "        0.68680033, 0.70639268, 0.59018164, 0.81046756, 0.76632312],\n",
              "       [0.50479505, 0.        , 0.79445851, 0.77823558, 0.84975059,\n",
              "        0.53491024, 0.6316486 , 0.75032956, 0.70131016, 0.66601973,\n",
              "        0.67499417, 0.74182193, 0.27687195, 0.5185398 , 0.5196995 ,\n",
              "        0.52196908, 0.5632059 , 0.51303018, 0.63613403, 0.56716283],\n",
              "       [0.7630259 , 0.79445851, 0.        , 0.84201664, 0.97467355,\n",
              "        0.91130525, 0.70471908, 0.69895791, 0.78802123, 0.671487  ,\n",
              "        0.72191406, 0.81907497, 0.81175148, 0.95456432, 0.79555869,\n",
              "        0.92312201, 0.78681054, 0.79304365, 0.94751907, 0.96811351],\n",
              "       [0.80648071, 0.77823558, 0.84201664, 0.        , 0.89340778,\n",
              "        0.84813225, 0.7993498 , 0.76232188, 0.89918054, 0.65482002,\n",
              "        0.66931874, 0.81439618, 0.84332541, 0.89084643, 0.88251113,\n",
              "        0.86026871, 0.86662468, 0.82148103, 0.87266119, 0.94690044],\n",
              "       [0.89007268, 0.84975059, 0.97467355, 0.89340778, 0.        ,\n",
              "        1.        , 0.95198517, 0.93351812, 0.90654209, 0.86011061,\n",
              "        0.9292601 , 0.91013134, 0.91228547, 0.98948009, 0.93263062,\n",
              "        0.95894461, 0.97328603, 0.93444402, 0.97996884, 0.96739518],\n",
              "       [0.73467945, 0.53491024, 0.91130525, 0.84813225, 1.        ,\n",
              "        0.        , 0.71304072, 0.94242956, 0.8772568 , 0.82286294,\n",
              "        0.75539343, 0.93664208, 0.50866862, 0.49358883, 0.658422  ,\n",
              "        0.4720162 , 0.50256157, 0.5959526 , 0.57713614, 0.58635255],\n",
              "       [0.62050972, 0.6316486 , 0.70471908, 0.7993498 , 0.95198517,\n",
              "        0.71304072, 0.        , 0.75192712, 0.72684409, 0.67261706,\n",
              "        0.64493769, 0.806573  , 0.57890569, 0.76222771, 0.72011692,\n",
              "        0.76950914, 0.70421523, 0.67328852, 0.85205346, 0.79645206],\n",
              "       [0.75584357, 0.75032956, 0.69895791, 0.76232188, 0.93351812,\n",
              "        0.94242956, 0.75192712, 0.        , 0.81602738, 0.70591935,\n",
              "        0.77615399, 0.7954692 , 0.80742551, 0.92879898, 0.82662604,\n",
              "        0.90818461, 0.87957823, 0.82488646, 0.98864598, 0.9568322 ],\n",
              "       [0.64507685, 0.70131016, 0.78802123, 0.89918054, 0.90654209,\n",
              "        0.8772568 , 0.72684409, 0.81602738, 0.        , 0.79071796,\n",
              "        0.74320376, 0.84602103, 0.71553562, 0.87361178, 0.67999752,\n",
              "        0.82968921, 0.83306008, 0.76733484, 0.91641152, 0.81411062],\n",
              "       [0.69003034, 0.66601973, 0.671487  , 0.65482002, 0.86011061,\n",
              "        0.82286294, 0.67261706, 0.70591935, 0.79071796, 0.        ,\n",
              "        0.66792631, 0.63881888, 0.73685478, 0.9013207 , 0.80255575,\n",
              "        0.85953847, 0.82110326, 0.70908294, 0.89421023, 0.92351357],\n",
              "       [0.62193539, 0.67499417, 0.72191406, 0.66931874, 0.9292601 ,\n",
              "        0.75539343, 0.64493769, 0.77615399, 0.74320376, 0.66792631,\n",
              "        0.        , 0.78846447, 0.68293681, 0.84726672, 0.78781179,\n",
              "        0.79490796, 0.744366  , 0.69586596, 0.83461567, 0.85962889],\n",
              "       [0.73271578, 0.74182193, 0.81907497, 0.81439618, 0.91013134,\n",
              "        0.93664208, 0.806573  , 0.7954692 , 0.84602103, 0.63881888,\n",
              "        0.78846447, 0.        , 0.78989483, 0.94243961, 0.91314376,\n",
              "        0.92162601, 0.89345946, 0.81376044, 0.94656524, 0.99279119],\n",
              "       [0.47386204, 0.27687195, 0.81175148, 0.84332541, 0.91228547,\n",
              "        0.50866862, 0.57890569, 0.80742551, 0.71553562, 0.73685478,\n",
              "        0.68293681, 0.78989483, 0.        , 0.48391679, 0.56097889,\n",
              "        0.50765694, 0.55667413, 0.49150719, 0.66480376, 0.57853303],\n",
              "       [0.73594684, 0.5185398 , 0.95456432, 0.89084643, 0.98948009,\n",
              "        0.49358883, 0.76222771, 0.92879898, 0.87361178, 0.9013207 ,\n",
              "        0.84726672, 0.94243961, 0.48391679, 0.        , 0.62385841,\n",
              "        0.48173886, 0.52242308, 0.60865171, 0.54040718, 0.49658516],\n",
              "       [0.66164327, 0.5196995 , 0.79555869, 0.88251113, 0.93263062,\n",
              "        0.658422  , 0.72011692, 0.82662604, 0.67999752, 0.80255575,\n",
              "        0.78781179, 0.91314376, 0.56097889, 0.62385841, 0.        ,\n",
              "        0.5970965 , 0.63678421, 0.58513752, 0.76782465, 0.57668174],\n",
              "       [0.68680033, 0.52196908, 0.92312201, 0.86026871, 0.95894461,\n",
              "        0.4720162 , 0.76950914, 0.90818461, 0.82968921, 0.85953847,\n",
              "        0.79490796, 0.92162601, 0.50765694, 0.48173886, 0.5970965 ,\n",
              "        0.        , 0.56565457, 0.59028244, 0.56103606, 0.52058721],\n",
              "       [0.70639268, 0.5632059 , 0.78681054, 0.86662468, 0.97328603,\n",
              "        0.50256157, 0.70421523, 0.87957823, 0.83306008, 0.82110326,\n",
              "        0.744366  , 0.89345946, 0.55667413, 0.52242308, 0.63678421,\n",
              "        0.56565457, 0.        , 0.63447806, 0.63897958, 0.57242172],\n",
              "       [0.59018164, 0.51303018, 0.79304365, 0.82148103, 0.93444402,\n",
              "        0.5959526 , 0.67328852, 0.82488646, 0.76733484, 0.70908294,\n",
              "        0.69586596, 0.81376044, 0.49150719, 0.60865171, 0.58513752,\n",
              "        0.59028244, 0.63447806, 0.        , 0.7150315 , 0.69205241],\n",
              "       [0.81046756, 0.63613403, 0.94751907, 0.87266119, 0.97996884,\n",
              "        0.57713614, 0.85205346, 0.98864598, 0.91641152, 0.89421023,\n",
              "        0.83461567, 0.94656524, 0.66480376, 0.54040718, 0.76782465,\n",
              "        0.56103606, 0.63897958, 0.7150315 , 0.        , 0.65006163],\n",
              "       [0.76632312, 0.56716283, 0.96811351, 0.94690044, 0.96739518,\n",
              "        0.58635255, 0.79645206, 0.9568322 , 0.81411062, 0.92351357,\n",
              "        0.85962889, 0.99279119, 0.57853303, 0.49658516, 0.57668174,\n",
              "        0.52058721, 0.57242172, 0.69205241, 0.65006163, 0.        ]])"
            ]
          },
          "execution_count": 41,
          "metadata": {},
          "output_type": "execute_result"
        }
      ],
      "source": [
        "weights=calculate_distances(centers)\n",
        "weights"
      ]
    },
    {
      "cell_type": "code",
      "execution_count": null,
      "metadata": {
        "colab": {
          "base_uri": "https://localhost:8080/"
        },
        "id": "SuZAUU0UOgwx",
        "outputId": "3595cc65-b99b-4c5b-f577-d70d32cacfc6"
      },
      "outputs": [
        {
          "data": {
            "text/plain": [
              "(20, 20)"
            ]
          },
          "execution_count": 42,
          "metadata": {},
          "output_type": "execute_result"
        }
      ],
      "source": [
        "len(weights),len(weights[0])"
      ]
    },
    {
      "cell_type": "code",
      "execution_count": null,
      "metadata": {
        "id": "30ngnz9dOoQn"
      },
      "outputs": [],
      "source": [
        "def create_weighted_graph(labels, keywords, weights):\n",
        "    \"\"\"\n",
        "    Create a directed weighted from the cluster labels and keywords.\n",
        "\n",
        "    Parameters:\n",
        "    labels (np.ndarray): Array of cluster labels for each chunk.\n",
        "    keywords (list of list of str): A 2D list where each inner list contains the top keywords for a particular cluster.\n",
        "    weights (np.ndarray): A 2D matrix of weights representing the transition weights between clusters.\n",
        "\n",
        "    Returns:\n",
        "    G (networkx.DiGraph): A directed weighted graph representing the topics and their transitions.\n",
        "    \"\"\"\n",
        "    G = nx.DiGraph()\n",
        "\n",
        "    # Create nodes for each topic in each cluster\n",
        "    for i, cluster_keywords in enumerate(keywords):\n",
        "        for keyword in cluster_keywords:\n",
        "            G.add_node(f\"Cluster {i+1}\")\n",
        "\n",
        "    # Add edges based on the sequence of labels\n",
        "    for i in range(len(labels) - 1):\n",
        "        from_cluster = labels[i]\n",
        "        to_cluster = labels[i + 1]\n",
        "        if from_cluster != to_cluster:\n",
        "            from_topic = f\"Cluster {from_cluster+1}\"\n",
        "            to_topic = f\"Cluster {to_cluster+1}\"\n",
        "            weight=weights[from_cluster][to_cluster]\n",
        "            G.add_edge(from_topic, to_topic,weight=weight)\n",
        "    print(labels)\n",
        "\n",
        "    return G"
      ]
    },
    {
      "cell_type": "code",
      "execution_count": null,
      "metadata": {
        "id": "sGz0HhBKQlIs"
      },
      "outputs": [],
      "source": [
        "def visualize_weighted_graph(G):\n",
        "    \"\"\"\n",
        "    Visualize the directed weighted graph (DAG) with edge weights.\n",
        "\n",
        "    Parameters:\n",
        "    G (networkx.DiGraph): A directed weighted graph representing the topics and their transitions.\n",
        "    \"\"\"\n",
        "    net = Network(notebook=True, directed=True)\n",
        "\n",
        "    # Convert NetworkX graph to PyVis\n",
        "    pos = nx.circular_layout(G)  # Positions for all nodes\n",
        "\n",
        "    plt.figure(figsize=(8, 7))\n",
        "    nx.draw(G, pos, with_labels=True, node_size=3000, node_color=\"lightblue\", font_size=10, font_weight=\"bold\", edge_color=\"gray\")\n",
        "\n",
        "    # Draw edge labels\n",
        "    edge_labels = nx.get_edge_attributes(G, 'weight')\n",
        "    for i in edge_labels:\n",
        "        edge_labels[i]=round(edge_labels[i],4)\n",
        "    nx.draw_networkx_edge_labels(G, pos, edge_labels=edge_labels, font_color='red', font_size=8)\n",
        "\n",
        "    plt.title(\"DAG Visualization\", size=15)\n",
        "    plt.show()"
      ]
    },
    {
      "cell_type": "code",
      "execution_count": null,
      "metadata": {
        "colab": {
          "base_uri": "https://localhost:8080/",
          "height": 1000
        },
        "id": "WIblKTzxQNBe",
        "outputId": "88f6e920-7258-48f8-be1a-d0d2b45fb89b"
      },
      "outputs": [
        {
          "name": "stdout",
          "output_type": "stream",
          "text": [
            "[12  1  1  4  1 12  6 14  8 19 17 12  1 13 18 15 15  5 16  1  1  2  7  3\n",
            " 10  0  0 11  1 12  9]\n",
            "Warning: When  cdn_resources is 'local' jupyter notebook has issues displaying graphics on chrome/safari. Use cdn_resources='in_line' or cdn_resources='remote' if you have issues viewing graphics in a notebook.\n"
          ]
        },
        {
          "data": {
            "image/png": "[encoded data removed]",
            "text/plain": [
              "<Figure size 800x700 with 1 Axes>"
            ]
          },
          "metadata": {},
          "output_type": "display_data"
        },
        {
          "name": "stdout",
          "output_type": "stream",
          "text": [
            "Cluster 1: ['source', 'zinc', 'good', '35trusted']\n",
            "Cluster 2: ['carrots', 'eye', 'health', 'eyes']\n",
            "Cluster 3: ['whites', 'light', '27trusted', '99']\n",
            "Cluster 4: ['smoke', 'vision', 'waistline', 'increases']\n",
            "Cluster 5: ['pilots', 'war', 'ii', 'air']\n",
            "Cluster 6: ['source', 'heart', 'disease', '22trusted']\n",
            "Cluster 7: ['eye', 'damage', 'free', 'radicals']\n",
            "Cluster 8: ['turn', 'cause', 'night', 'light']\n",
            "Cluster 9: ['source', 'vitamin', 'light', '3trusted']\n",
            "Cluster 10: ['wearing', 'vision', 'time', 'sunglasses']\n",
            "Cluster 11: ['source', 'vitamin', 'epa', '31trusted']\n",
            "Cluster 12: ['wearing', 'vision', 'diet', 'eating']\n",
            "Cluster 13: ['carrots', 'health', 'source', 'eye']\n",
            "Cluster 14: ['fiber', 'carrots', 'health', 'digestive']\n",
            "Cluster 15: ['orange', 'vitamin', 'yellow', 'deficiency']\n",
            "Cluster 16: ['source', 'carrots', 'sugar', 'digestive']\n",
            "Cluster 17: ['weight', 'fullness', 'antioxidants', 'beta']\n",
            "Cluster 18: ['amd', 'lutein', 'yellow', 'gradually']\n",
            "Cluster 19: ['source', 'cancer', 'carrots', 'value']\n",
            "Cluster 20: ['source', 'carrots', 'fat', 'vitamin']\n"
          ]
        }
      ],
      "source": [
        "G = create_weighted_graph(labels, keywords,weights)\n",
        "\n",
        "visualize_weighted_graph(G)\n",
        "list_clusters()"
      ]
    },
    {
      "cell_type": "code",
      "execution_count": null,
      "metadata": {
        "id": "T3mL9ZhCpd0y"
      },
      "outputs": [],
      "source": [
        "graph_dict=G.adj"
      ]
    },
    {
      "cell_type": "code",
      "execution_count": null,
      "metadata": {
        "colab": {
          "base_uri": "https://localhost:8080/"
        },
        "id": "vk-UFOcrpwrK",
        "outputId": "2648c233-205d-495b-8b8b-831ec4a1a04b"
      },
      "outputs": [
        {
          "name": "stdout",
          "output_type": "stream",
          "text": [
            "Cluster 1 {'Cluster 12': {'weight': 0.7327157783534949}}\n",
            "Cluster 2 {'Cluster 5': {'weight': 0.8497505949375204}, 'Cluster 13': {'weight': 0.2768719512937502}, 'Cluster 14': {'weight': 0.5185398035358841}, 'Cluster 3': {'weight': 0.7944585053269162}}\n",
            "Cluster 3 {'Cluster 8': {'weight': 0.6989579110918014}}\n",
            "Cluster 4 {'Cluster 11': {'weight': 0.6693187372603849}}\n",
            "Cluster 5 {'Cluster 2': {'weight': 0.8497505949375204}}\n",
            "Cluster 6 {'Cluster 17': {'weight': 0.5025615666998798}}\n",
            "Cluster 7 {'Cluster 15': {'weight': 0.7201169211545912}}\n",
            "Cluster 8 {'Cluster 4': {'weight': 0.7623218752679252}}\n",
            "Cluster 9 {'Cluster 20': {'weight': 0.8141106213002915}}\n",
            "Cluster 10 {}\n",
            "Cluster 11 {'Cluster 1': {'weight': 0.6219353938422104}}\n",
            "Cluster 12 {'Cluster 2': {'weight': 0.7418219344828435}}\n",
            "Cluster 13 {'Cluster 2': {'weight': 0.2768719512937502}, 'Cluster 7': {'weight': 0.5789056878759945}, 'Cluster 10': {'weight': 0.7368547776903389}}\n",
            "Cluster 14 {'Cluster 19': {'weight': 0.5404071789766011}}\n",
            "Cluster 15 {'Cluster 9': {'weight': 0.6799975156127731}}\n",
            "Cluster 16 {'Cluster 6': {'weight': 0.4720162045391406}}\n",
            "Cluster 17 {'Cluster 2': {'weight': 0.5632059016371669}}\n",
            "Cluster 18 {'Cluster 13': {'weight': 0.49150719293105843}}\n",
            "Cluster 19 {'Cluster 16': {'weight': 0.5610360643968835}}\n",
            "Cluster 20 {'Cluster 18': {'weight': 0.6920524129078816}}\n"
          ]
        }
      ],
      "source": [
        "for i in graph_dict:\n",
        "  print(i,graph_dict[i])"
      ]
    },
    {
      "cell_type": "code",
      "execution_count": null,
      "metadata": {
        "colab": {
          "base_uri": "https://localhost:8080/"
        },
        "id": "sNhJFf1pqSq1",
        "outputId": "0db9988a-fbe9-4969-89ef-1d00e11aa3a0"
      },
      "outputs": [
        {
          "data": {
            "text/plain": [
              "[1, 4, 1, 1, 1, 1, 1, 1, 1, 0, 1, 1, 3, 1, 1, 1, 1, 1, 1, 1]"
            ]
          },
          "execution_count": 48,
          "metadata": {},
          "output_type": "execute_result"
        }
      ],
      "source": [
        "outdegree=[]\n",
        "for i in graph_dict:\n",
        "  outdegree.append(len(graph_dict[i]))\n",
        "outdegree"
      ]
    },
    {
      "cell_type": "code",
      "execution_count": null,
      "metadata": {
        "colab": {
          "base_uri": "https://localhost:8080/"
        },
        "id": "PDmkzObRrGQo",
        "outputId": "bd3954cd-30c8-4225-d5b6-06242f03d608"
      },
      "outputs": [
        {
          "data": {
            "text/plain": [
              "[1, 4, 1, 1, 1, 1, 1, 1, 1, 1, 1, 1, 2, 1, 1, 1, 1, 1, 1, 1]"
            ]
          },
          "execution_count": 49,
          "metadata": {},
          "output_type": "execute_result"
        }
      ],
      "source": [
        "indegree=[]\n",
        "for i in graph_dict:\n",
        "  indegree.append(len(G.in_edges(i)))\n",
        "indegree"
      ]
    },
    {
      "cell_type": "code",
      "execution_count": null,
      "metadata": {
        "id": "0HaDp7uYpp5U"
      },
      "outputs": [],
      "source": [
        "def euclidean_distance(v1,v2):\n",
        "  return sum((x1 - x2) ** 2 for x1, x2 in zip(v1, v2))**0.5"
      ]
    },
    {
      "cell_type": "code",
      "execution_count": null,
      "metadata": {
        "colab": {
          "base_uri": "https://localhost:8080/"
        },
        "id": "iHom1uV-sFOb",
        "outputId": "f9251089-8288-40bd-b673-84c88633afdc"
      },
      "outputs": [
        {
          "name": "stdout",
          "output_type": "stream",
          "text": [
            "Distance: 0.65372, Chunk 1 (12) -> Chunk 2 (1)\n",
            "Distance: 0.48616, Chunk 2 (1) -> Chunk 3 (1)\n",
            "Distance: 1.24699, Chunk 3 (1) -> Chunk 4 (4)\n",
            "Distance: 1.17143, Chunk 4 (4) -> Chunk 5 (1)\n",
            "Distance: 0.68516, Chunk 5 (1) -> Chunk 6 (12)\n",
            "Distance: 0.88319, Chunk 6 (12) -> Chunk 7 (6)\n",
            "Distance: 1.00828, Chunk 7 (6) -> Chunk 8 (14)\n",
            "Distance: 0.9521, Chunk 8 (14) -> Chunk 9 (8)\n",
            "Distance: 1.13988, Chunk 9 (8) -> Chunk 10 (19)\n",
            "Distance: 0.96898, Chunk 10 (19) -> Chunk 11 (17)\n",
            "Distance: 0.66804, Chunk 11 (17) -> Chunk 12 (12)\n",
            "Distance: 0.67675, Chunk 12 (12) -> Chunk 13 (1)\n",
            "Distance: 0.68618, Chunk 13 (1) -> Chunk 14 (13)\n",
            "Distance: 0.75665, Chunk 14 (13) -> Chunk 15 (18)\n",
            "Distance: 0.83266, Chunk 15 (18) -> Chunk 16 (15)\n",
            "Distance: 0.69918, Chunk 16 (15) -> Chunk 17 (15)\n",
            "Distance: 0.75044, Chunk 17 (15) -> Chunk 18 (5)\n",
            "Distance: 0.70366, Chunk 18 (5) -> Chunk 19 (16)\n",
            "Distance: 0.80197, Chunk 19 (16) -> Chunk 20 (1)\n",
            "Distance: 0.71161, Chunk 20 (1) -> Chunk 21 (1)\n",
            "Distance: 1.1036, Chunk 21 (1) -> Chunk 22 (2)\n",
            "Distance: 0.97865, Chunk 22 (2) -> Chunk 23 (7)\n",
            "Distance: 1.06737, Chunk 23 (7) -> Chunk 24 (3)\n",
            "Distance: 0.93715, Chunk 24 (3) -> Chunk 25 (10)\n",
            "Distance: 0.88409, Chunk 25 (10) -> Chunk 26 (0)\n",
            "Distance: 0.71593, Chunk 26 (0) -> Chunk 27 (0)\n",
            "Distance: 1.07439, Chunk 27 (0) -> Chunk 28 (11)\n",
            "Distance: 1.01329, Chunk 28 (11) -> Chunk 29 (1)\n",
            "Distance: 0.62394, Chunk 29 (1) -> Chunk 30 (12)\n",
            "Distance: 1.00217, Chunk 30 (12) -> Chunk 31 (9)\n"
          ]
        }
      ],
      "source": [
        "for i in range(len(labels)-1):\n",
        "  cur=labels[i]\n",
        "  nex=labels[i+1]\n",
        "  print(f\"Distance: {round(euclidean_distance(embeddings[i],embeddings[i+1]),5)}, Chunk {i+1} ({labels[i]}) -> Chunk {i+2} ({labels[i+1]})\")"
      ]
    },
    {
      "cell_type": "code",
      "execution_count": null,
      "metadata": {
        "id": "55rv5LWAnaNW"
      },
      "outputs": [],
      "source": [
        "pairs = [tuple(sorted([labels[i]+1, labels[i+1]+1])) for i in range(len(labels)-1)]"
      ]
    },
    {
      "cell_type": "code",
      "execution_count": null,
      "metadata": {
        "colab": {
          "base_uri": "https://localhost:8080/"
        },
        "id": "zwHHGNrooKMr",
        "outputId": "88a8bb4c-320d-421d-c702-3f81aad0e96c"
      },
      "outputs": [
        {
          "data": {
            "text/plain": [
              "{(2, 13): [4, 0.65372],\n",
              " (2, 2): [2, 0.48616],\n",
              " (2, 5): [2, 1.24699],\n",
              " (7, 13): [1, 0.88319],\n",
              " (7, 15): [1, 1.00828],\n",
              " (9, 15): [1, 0.9521],\n",
              " (9, 20): [1, 1.13988],\n",
              " (18, 20): [1, 0.96898],\n",
              " (13, 18): [1, 0.66804],\n",
              " (2, 14): [1, 0.68618],\n",
              " (14, 19): [1, 0.75665],\n",
              " (16, 19): [1, 0.83266],\n",
              " (16, 16): [1, 0.69918],\n",
              " (6, 16): [1, 0.75044],\n",
              " (6, 17): [1, 0.70366],\n",
              " (2, 17): [1, 0.80197],\n",
              " (2, 3): [1, 1.1036],\n",
              " (3, 8): [1, 0.97865],\n",
              " (4, 8): [1, 1.06737],\n",
              " (4, 11): [1, 0.93715],\n",
              " (1, 11): [1, 0.88409],\n",
              " (1, 1): [1, 0.71593],\n",
              " (1, 12): [1, 1.07439],\n",
              " (2, 12): [1, 1.01329],\n",
              " (10, 13): [1, 1.00217]}"
            ]
          },
          "execution_count": 89,
          "metadata": {},
          "output_type": "execute_result"
        }
      ],
      "source": [
        "d={}\n",
        "for i in range(len(pairs)):\n",
        "  if pairs[i] in d:\n",
        "    d[pairs[i]][0]+=1\n",
        "  else:\n",
        "    distance=round(euclidean_distance(embeddings[i],embeddings[i+1]),5)\n",
        "    d[pairs[i]]=[1,distance]\n",
        "d"
      ]
    }
  ],
  "metadata": {
    "accelerator": "GPU",
    "colab": {
      "gpuType": "T4",
      "provenance": []
    },
    "kernelspec": {
      "display_name": "Python 3",
      "name": "python3"
    },
    "language_info": {
      "name": "python"
    },
    "widgets": {
      "application/vnd.jupyter.widget-state+json": {
        "02737820571b4fab9c6054bd3ec3f412": {
          "model_module": "@jupyter-widgets/base",
          "model_module_version": "1.2.0",
          "model_name": "LayoutModel",
          "state": {
            "_model_module": "@jupyter-widgets/base",
            "_model_module_version": "1.2.0",
            "_model_name": "LayoutModel",
            "_view_count": null,
            "_view_module": "@jupyter-widgets/base",
            "_view_module_version": "1.2.0",
            "_view_name": "LayoutView",
            "align_content": null,
            "align_items": null,
            "align_self": null,
            "border": null,
            "bottom": null,
            "display": null,
            "flex": null,
            "flex_flow": null,
            "grid_area": null,
            "grid_auto_columns": null,
            "grid_auto_flow": null,
            "grid_auto_rows": null,
            "grid_column": null,
            "grid_gap": null,
            "grid_row": null,
            "grid_template_areas": null,
            "grid_template_columns": null,
            "grid_template_rows": null,
            "height": null,
            "justify_content": null,
            "justify_items": null,
            "left": null,
            "margin": null,
            "max_height": null,
            "max_width": null,
            "min_height": null,
            "min_width": null,
            "object_fit": null,
            "object_position": null,
            "order": null,
            "overflow": null,
            "overflow_x": null,
            "overflow_y": null,
            "padding": null,
            "right": null,
            "top": null,
            "visibility": null,
            "width": null
          }
        },
        "06ea6e0170c14621820bc4c2019c88e2": {
          "model_module": "@jupyter-widgets/base",
          "model_module_version": "1.2.0",
          "model_name": "LayoutModel",
          "state": {
            "_model_module": "@jupyter-widgets/base",
            "_model_module_version": "1.2.0",
            "_model_name": "LayoutModel",
            "_view_count": null,
            "_view_module": "@jupyter-widgets/base",
            "_view_module_version": "1.2.0",
            "_view_name": "LayoutView",
            "align_content": null,
            "align_items": null,
            "align_self": null,
            "border": null,
            "bottom": null,
            "display": null,
            "flex": null,
            "flex_flow": null,
            "grid_area": null,
            "grid_auto_columns": null,
            "grid_auto_flow": null,
            "grid_auto_rows": null,
            "grid_column": null,
            "grid_gap": null,
            "grid_row": null,
            "grid_template_areas": null,
            "grid_template_columns": null,
            "grid_template_rows": null,
            "height": null,
            "justify_content": null,
            "justify_items": null,
            "left": null,
            "margin": null,
            "max_height": null,
            "max_width": null,
            "min_height": null,
            "min_width": null,
            "object_fit": null,
            "object_position": null,
            "order": null,
            "overflow": null,
            "overflow_x": null,
            "overflow_y": null,
            "padding": null,
            "right": null,
            "top": null,
            "visibility": null,
            "width": null
          }
        },
        "06fb0b31859640e69e178ed451fae6bd": {
          "model_module": "@jupyter-widgets/base",
          "model_module_version": "1.2.0",
          "model_name": "LayoutModel",
          "state": {
            "_model_module": "@jupyter-widgets/base",
            "_model_module_version": "1.2.0",
            "_model_name": "LayoutModel",
            "_view_count": null,
            "_view_module": "@jupyter-widgets/base",
            "_view_module_version": "1.2.0",
            "_view_name": "LayoutView",
            "align_content": null,
            "align_items": null,
            "align_self": null,
            "border": null,
            "bottom": null,
            "display": null,
            "flex": null,
            "flex_flow": null,
            "grid_area": null,
            "grid_auto_columns": null,
            "grid_auto_flow": null,
            "grid_auto_rows": null,
            "grid_column": null,
            "grid_gap": null,
            "grid_row": null,
            "grid_template_areas": null,
            "grid_template_columns": null,
            "grid_template_rows": null,
            "height": null,
            "justify_content": null,
            "justify_items": null,
            "left": null,
            "margin": null,
            "max_height": null,
            "max_width": null,
            "min_height": null,
            "min_width": null,
            "object_fit": null,
            "object_position": null,
            "order": null,
            "overflow": null,
            "overflow_x": null,
            "overflow_y": null,
            "padding": null,
            "right": null,
            "top": null,
            "visibility": null,
            "width": null
          }
        },
        "09c34696ab7f4f57ab05cbd254508d15": {
          "model_module": "@jupyter-widgets/base",
          "model_module_version": "1.2.0",
          "model_name": "LayoutModel",
          "state": {
            "_model_module": "@jupyter-widgets/base",
            "_model_module_version": "1.2.0",
            "_model_name": "LayoutModel",
            "_view_count": null,
            "_view_module": "@jupyter-widgets/base",
            "_view_module_version": "1.2.0",
            "_view_name": "LayoutView",
            "align_content": null,
            "align_items": null,
            "align_self": null,
            "border": null,
            "bottom": null,
            "display": null,
            "flex": null,
            "flex_flow": null,
            "grid_area": null,
            "grid_auto_columns": null,
            "grid_auto_flow": null,
            "grid_auto_rows": null,
            "grid_column": null,
            "grid_gap": null,
            "grid_row": null,
            "grid_template_areas": null,
            "grid_template_columns": null,
            "grid_template_rows": null,
            "height": null,
            "justify_content": null,
            "justify_items": null,
            "left": null,
            "margin": null,
            "max_height": null,
            "max_width": null,
            "min_height": null,
            "min_width": null,
            "object_fit": null,
            "object_position": null,
            "order": null,
            "overflow": null,
            "overflow_x": null,
            "overflow_y": null,
            "padding": null,
            "right": null,
            "top": null,
            "visibility": null,
            "width": null
          }
        },
        "0a07cb6f867e41fc903348e82bbf2862": {
          "model_module": "@jupyter-widgets/controls",
          "model_module_version": "1.5.0",
          "model_name": "HTMLModel",
          "state": {
            "_dom_classes": [],
            "_model_module": "@jupyter-widgets/controls",
            "_model_module_version": "1.5.0",
            "_model_name": "HTMLModel",
            "_view_count": null,
            "_view_module": "@jupyter-widgets/controls",
            "_view_module_version": "1.5.0",
            "_view_name": "HTMLView",
            "description": "",
            "description_tooltip": null,
            "layout": "IPY_MODEL_06ea6e0170c14621820bc4c2019c88e2",
            "placeholder": "​",
            "style": "IPY_MODEL_74df66b8259a4c0087adb907960e4c79",
            "value": " 232k/232k [00:00&lt;00:00, 5.85MB/s]"
          }
        },
        "0a4054d9a4a44300a1817790e74f76bf": {
          "model_module": "@jupyter-widgets/controls",
          "model_module_version": "1.5.0",
          "model_name": "FloatProgressModel",
          "state": {
            "_dom_classes": [],
            "_model_module": "@jupyter-widgets/controls",
            "_model_module_version": "1.5.0",
            "_model_name": "FloatProgressModel",
            "_view_count": null,
            "_view_module": "@jupyter-widgets/controls",
            "_view_module_version": "1.5.0",
            "_view_name": "ProgressView",
            "bar_style": "success",
            "description": "",
            "description_tooltip": null,
            "layout": "IPY_MODEL_a0dfc85d54d7444390ba28f12d940937",
            "max": 612,
            "min": 0,
            "orientation": "horizontal",
            "style": "IPY_MODEL_821f1ffc3c53448b852f8e4356dee4c4",
            "value": 612
          }
        },
        "0c9d99da44ff4c55aeacd5022747fc04": {
          "model_module": "@jupyter-widgets/controls",
          "model_module_version": "1.5.0",
          "model_name": "DescriptionStyleModel",
          "state": {
            "_model_module": "@jupyter-widgets/controls",
            "_model_module_version": "1.5.0",
            "_model_name": "DescriptionStyleModel",
            "_view_count": null,
            "_view_module": "@jupyter-widgets/base",
            "_view_module_version": "1.2.0",
            "_view_name": "StyleView",
            "description_width": ""
          }
        },
        "167fdb5a068442f2bff0ff313c66a9c2": {
          "model_module": "@jupyter-widgets/controls",
          "model_module_version": "1.5.0",
          "model_name": "HTMLModel",
          "state": {
            "_dom_classes": [],
            "_model_module": "@jupyter-widgets/controls",
            "_model_module_version": "1.5.0",
            "_model_name": "HTMLModel",
            "_view_count": null,
            "_view_module": "@jupyter-widgets/controls",
            "_view_module_version": "1.5.0",
            "_view_name": "HTMLView",
            "description": "",
            "description_tooltip": null,
            "layout": "IPY_MODEL_fff7d58598d3490aa563f4d2f2dd9825",
            "placeholder": "​",
            "style": "IPY_MODEL_3c874df9da0148c19af43d56aa90dcf9",
            "value": " 612/612 [00:00&lt;00:00, 13.5kB/s]"
          }
        },
        "1766a016bca744859a846f856f29e6cf": {
          "model_module": "@jupyter-widgets/controls",
          "model_module_version": "1.5.0",
          "model_name": "HBoxModel",
          "state": {
            "_dom_classes": [],
            "_model_module": "@jupyter-widgets/controls",
            "_model_module_version": "1.5.0",
            "_model_name": "HBoxModel",
            "_view_count": null,
            "_view_module": "@jupyter-widgets/controls",
            "_view_module_version": "1.5.0",
            "_view_name": "HBoxView",
            "box_style": "",
            "children": [
              "IPY_MODEL_6b888e03e6d549cf97238c07e0c4548e",
              "IPY_MODEL_7c3b94f0463742d69e7326ff5289a230",
              "IPY_MODEL_337242a3d2a64a2687a9de2067107ebb"
            ],
            "layout": "IPY_MODEL_45338da0c2b54d228792e00f76e6ee93"
          }
        },
        "199e9831e020433e847c2f1f09f17273": {
          "model_module": "@jupyter-widgets/base",
          "model_module_version": "1.2.0",
          "model_name": "LayoutModel",
          "state": {
            "_model_module": "@jupyter-widgets/base",
            "_model_module_version": "1.2.0",
            "_model_name": "LayoutModel",
            "_view_count": null,
            "_view_module": "@jupyter-widgets/base",
            "_view_module_version": "1.2.0",
            "_view_name": "LayoutView",
            "align_content": null,
            "align_items": null,
            "align_self": null,
            "border": null,
            "bottom": null,
            "display": null,
            "flex": null,
            "flex_flow": null,
            "grid_area": null,
            "grid_auto_columns": null,
            "grid_auto_flow": null,
            "grid_auto_rows": null,
            "grid_column": null,
            "grid_gap": null,
            "grid_row": null,
            "grid_template_areas": null,
            "grid_template_columns": null,
            "grid_template_rows": null,
            "height": null,
            "justify_content": null,
            "justify_items": null,
            "left": null,
            "margin": null,
            "max_height": null,
            "max_width": null,
            "min_height": null,
            "min_width": null,
            "object_fit": null,
            "object_position": null,
            "order": null,
            "overflow": null,
            "overflow_x": null,
            "overflow_y": null,
            "padding": null,
            "right": null,
            "top": null,
            "visibility": null,
            "width": null
          }
        },
        "1a9916a63a70426fbd16dd53437152ec": {
          "model_module": "@jupyter-widgets/controls",
          "model_module_version": "1.5.0",
          "model_name": "HTMLModel",
          "state": {
            "_dom_classes": [],
            "_model_module": "@jupyter-widgets/controls",
            "_model_module_version": "1.5.0",
            "_model_name": "HTMLModel",
            "_view_count": null,
            "_view_module": "@jupyter-widgets/controls",
            "_view_module_version": "1.5.0",
            "_view_name": "HTMLView",
            "description": "",
            "description_tooltip": null,
            "layout": "IPY_MODEL_7cbecf6e51074695af01df4d3502614f",
            "placeholder": "​",
            "style": "IPY_MODEL_5dfcefff3cfa4bdf89948e72720116e1",
            "value": " 350/350 [00:00&lt;00:00, 6.46kB/s]"
          }
        },
        "2091de945c98407c8732fec027e40218": {
          "model_module": "@jupyter-widgets/controls",
          "model_module_version": "1.5.0",
          "model_name": "DescriptionStyleModel",
          "state": {
            "_model_module": "@jupyter-widgets/controls",
            "_model_module_version": "1.5.0",
            "_model_name": "DescriptionStyleModel",
            "_view_count": null,
            "_view_module": "@jupyter-widgets/base",
            "_view_module_version": "1.2.0",
            "_view_name": "StyleView",
            "description_width": ""
          }
        },
        "21b2e98f31e243208b486d488a7a47f7": {
          "model_module": "@jupyter-widgets/base",
          "model_module_version": "1.2.0",
          "model_name": "LayoutModel",
          "state": {
            "_model_module": "@jupyter-widgets/base",
            "_model_module_version": "1.2.0",
            "_model_name": "LayoutModel",
            "_view_count": null,
            "_view_module": "@jupyter-widgets/base",
            "_view_module_version": "1.2.0",
            "_view_name": "LayoutView",
            "align_content": null,
            "align_items": null,
            "align_self": null,
            "border": null,
            "bottom": null,
            "display": null,
            "flex": null,
            "flex_flow": null,
            "grid_area": null,
            "grid_auto_columns": null,
            "grid_auto_flow": null,
            "grid_auto_rows": null,
            "grid_column": null,
            "grid_gap": null,
            "grid_row": null,
            "grid_template_areas": null,
            "grid_template_columns": null,
            "grid_template_rows": null,
            "height": null,
            "justify_content": null,
            "justify_items": null,
            "left": null,
            "margin": null,
            "max_height": null,
            "max_width": null,
            "min_height": null,
            "min_width": null,
            "object_fit": null,
            "object_position": null,
            "order": null,
            "overflow": null,
            "overflow_x": null,
            "overflow_y": null,
            "padding": null,
            "right": null,
            "top": null,
            "visibility": null,
            "width": null
          }
        },
        "21c9270a3fae4e769d357af2010d4fd6": {
          "model_module": "@jupyter-widgets/controls",
          "model_module_version": "1.5.0",
          "model_name": "ProgressStyleModel",
          "state": {
            "_model_module": "@jupyter-widgets/controls",
            "_model_module_version": "1.5.0",
            "_model_name": "ProgressStyleModel",
            "_view_count": null,
            "_view_module": "@jupyter-widgets/base",
            "_view_module_version": "1.2.0",
            "_view_name": "StyleView",
            "bar_color": null,
            "description_width": ""
          }
        },
        "22233340c8f044f8ad0d7c25a8624ae5": {
          "model_module": "@jupyter-widgets/controls",
          "model_module_version": "1.5.0",
          "model_name": "ProgressStyleModel",
          "state": {
            "_model_module": "@jupyter-widgets/controls",
            "_model_module_version": "1.5.0",
            "_model_name": "ProgressStyleModel",
            "_view_count": null,
            "_view_module": "@jupyter-widgets/base",
            "_view_module_version": "1.2.0",
            "_view_name": "StyleView",
            "bar_color": null,
            "description_width": ""
          }
        },
        "307ddd845777491e9eeb9432ff9d15ef": {
          "model_module": "@jupyter-widgets/controls",
          "model_module_version": "1.5.0",
          "model_name": "FloatProgressModel",
          "state": {
            "_dom_classes": [],
            "_model_module": "@jupyter-widgets/controls",
            "_model_module_version": "1.5.0",
            "_model_name": "FloatProgressModel",
            "_view_count": null,
            "_view_module": "@jupyter-widgets/controls",
            "_view_module_version": "1.5.0",
            "_view_name": "ProgressView",
            "bar_style": "success",
            "description": "",
            "description_tooltip": null,
            "layout": "IPY_MODEL_37fb4e41fdbf43a08ae3f0b04d83773a",
            "max": 349,
            "min": 0,
            "orientation": "horizontal",
            "style": "IPY_MODEL_de003b2f46ce46a5be270d94e0cd0e2d",
            "value": 349
          }
        },
        "32627571b11c4e07af7915a5a875dfe9": {
          "model_module": "@jupyter-widgets/controls",
          "model_module_version": "1.5.0",
          "model_name": "HTMLModel",
          "state": {
            "_dom_classes": [],
            "_model_module": "@jupyter-widgets/controls",
            "_model_module_version": "1.5.0",
            "_model_name": "HTMLModel",
            "_view_count": null,
            "_view_module": "@jupyter-widgets/controls",
            "_view_module_version": "1.5.0",
            "_view_name": "HTMLView",
            "description": "",
            "description_tooltip": null,
            "layout": "IPY_MODEL_06fb0b31859640e69e178ed451fae6bd",
            "placeholder": "​",
            "style": "IPY_MODEL_993370dfa369451cab23908f089f1d19",
            "value": "config_sentence_transformers.json: 100%"
          }
        },
        "337242a3d2a64a2687a9de2067107ebb": {
          "model_module": "@jupyter-widgets/controls",
          "model_module_version": "1.5.0",
          "model_name": "HTMLModel",
          "state": {
            "_dom_classes": [],
            "_model_module": "@jupyter-widgets/controls",
            "_model_module_version": "1.5.0",
            "_model_name": "HTMLModel",
            "_view_count": null,
            "_view_module": "@jupyter-widgets/controls",
            "_view_module_version": "1.5.0",
            "_view_name": "HTMLView",
            "description": "",
            "description_tooltip": null,
            "layout": "IPY_MODEL_09c34696ab7f4f57ab05cbd254508d15",
            "placeholder": "​",
            "style": "IPY_MODEL_bddc317a0e4d415985a646011e1ebd1b",
            "value": " 466k/466k [00:00&lt;00:00, 2.17MB/s]"
          }
        },
        "358b76cb1f7348a3ae3579ae11928913": {
          "model_module": "@jupyter-widgets/base",
          "model_module_version": "1.2.0",
          "model_name": "LayoutModel",
          "state": {
            "_model_module": "@jupyter-widgets/base",
            "_model_module_version": "1.2.0",
            "_model_name": "LayoutModel",
            "_view_count": null,
            "_view_module": "@jupyter-widgets/base",
            "_view_module_version": "1.2.0",
            "_view_name": "LayoutView",
            "align_content": null,
            "align_items": null,
            "align_self": null,
            "border": null,
            "bottom": null,
            "display": null,
            "flex": null,
            "flex_flow": null,
            "grid_area": null,
            "grid_auto_columns": null,
            "grid_auto_flow": null,
            "grid_auto_rows": null,
            "grid_column": null,
            "grid_gap": null,
            "grid_row": null,
            "grid_template_areas": null,
            "grid_template_columns": null,
            "grid_template_rows": null,
            "height": null,
            "justify_content": null,
            "justify_items": null,
            "left": null,
            "margin": null,
            "max_height": null,
            "max_width": null,
            "min_height": null,
            "min_width": null,
            "object_fit": null,
            "object_position": null,
            "order": null,
            "overflow": null,
            "overflow_x": null,
            "overflow_y": null,
            "padding": null,
            "right": null,
            "top": null,
            "visibility": null,
            "width": null
          }
        },
        "3703c4a195494bb59371e14ae443bcdd": {
          "model_module": "@jupyter-widgets/controls",
          "model_module_version": "1.5.0",
          "model_name": "HTMLModel",
          "state": {
            "_dom_classes": [],
            "_model_module": "@jupyter-widgets/controls",
            "_model_module_version": "1.5.0",
            "_model_name": "HTMLModel",
            "_view_count": null,
            "_view_module": "@jupyter-widgets/controls",
            "_view_module_version": "1.5.0",
            "_view_name": "HTMLView",
            "description": "",
            "description_tooltip": null,
            "layout": "IPY_MODEL_66e00356866e44109a7dbbbe1ed94038",
            "placeholder": "​",
            "style": "IPY_MODEL_a110c43157ee4827bc4200ca1769f086",
            "value": " 112/112 [00:00&lt;00:00, 6.48kB/s]"
          }
        },
        "37fb4e41fdbf43a08ae3f0b04d83773a": {
          "model_module": "@jupyter-widgets/base",
          "model_module_version": "1.2.0",
          "model_name": "LayoutModel",
          "state": {
            "_model_module": "@jupyter-widgets/base",
            "_model_module_version": "1.2.0",
            "_model_name": "LayoutModel",
            "_view_count": null,
            "_view_module": "@jupyter-widgets/base",
            "_view_module_version": "1.2.0",
            "_view_name": "LayoutView",
            "align_content": null,
            "align_items": null,
            "align_self": null,
            "border": null,
            "bottom": null,
            "display": null,
            "flex": null,
            "flex_flow": null,
            "grid_area": null,
            "grid_auto_columns": null,
            "grid_auto_flow": null,
            "grid_auto_rows": null,
            "grid_column": null,
            "grid_gap": null,
            "grid_row": null,
            "grid_template_areas": null,
            "grid_template_columns": null,
            "grid_template_rows": null,
            "height": null,
            "justify_content": null,
            "justify_items": null,
            "left": null,
            "margin": null,
            "max_height": null,
            "max_width": null,
            "min_height": null,
            "min_width": null,
            "object_fit": null,
            "object_position": null,
            "order": null,
            "overflow": null,
            "overflow_x": null,
            "overflow_y": null,
            "padding": null,
            "right": null,
            "top": null,
            "visibility": null,
            "width": null
          }
        },
        "3c874df9da0148c19af43d56aa90dcf9": {
          "model_module": "@jupyter-widgets/controls",
          "model_module_version": "1.5.0",
          "model_name": "DescriptionStyleModel",
          "state": {
            "_model_module": "@jupyter-widgets/controls",
            "_model_module_version": "1.5.0",
            "_model_name": "DescriptionStyleModel",
            "_view_count": null,
            "_view_module": "@jupyter-widgets/base",
            "_view_module_version": "1.2.0",
            "_view_name": "StyleView",
            "description_width": ""
          }
        },
        "3f6c9776572b4aeab2b22cf431f9d433": {
          "model_module": "@jupyter-widgets/controls",
          "model_module_version": "1.5.0",
          "model_name": "HTMLModel",
          "state": {
            "_dom_classes": [],
            "_model_module": "@jupyter-widgets/controls",
            "_model_module_version": "1.5.0",
            "_model_name": "HTMLModel",
            "_view_count": null,
            "_view_module": "@jupyter-widgets/controls",
            "_view_module_version": "1.5.0",
            "_view_name": "HTMLView",
            "description": "",
            "description_tooltip": null,
            "layout": "IPY_MODEL_02737820571b4fab9c6054bd3ec3f412",
            "placeholder": "​",
            "style": "IPY_MODEL_df73f398bedd4fa19ab15790998367c6",
            "value": "1_Pooling/config.json: 100%"
          }
        },
        "45338da0c2b54d228792e00f76e6ee93": {
          "model_module": "@jupyter-widgets/base",
          "model_module_version": "1.2.0",
          "model_name": "LayoutModel",
          "state": {
            "_model_module": "@jupyter-widgets/base",
            "_model_module_version": "1.2.0",
            "_model_name": "LayoutModel",
            "_view_count": null,
            "_view_module": "@jupyter-widgets/base",
            "_view_module_version": "1.2.0",
            "_view_name": "LayoutView",
            "align_content": null,
            "align_items": null,
            "align_self": null,
            "border": null,
            "bottom": null,
            "display": null,
            "flex": null,
            "flex_flow": null,
            "grid_area": null,
            "grid_auto_columns": null,
            "grid_auto_flow": null,
            "grid_auto_rows": null,
            "grid_column": null,
            "grid_gap": null,
            "grid_row": null,
            "grid_template_areas": null,
            "grid_template_columns": null,
            "grid_template_rows": null,
            "height": null,
            "justify_content": null,
            "justify_items": null,
            "left": null,
            "margin": null,
            "max_height": null,
            "max_width": null,
            "min_height": null,
            "min_width": null,
            "object_fit": null,
            "object_position": null,
            "order": null,
            "overflow": null,
            "overflow_x": null,
            "overflow_y": null,
            "padding": null,
            "right": null,
            "top": null,
            "visibility": null,
            "width": null
          }
        },
        "458af61b0aaa4c75be6a7313d2d06644": {
          "model_module": "@jupyter-widgets/controls",
          "model_module_version": "1.5.0",
          "model_name": "DescriptionStyleModel",
          "state": {
            "_model_module": "@jupyter-widgets/controls",
            "_model_module_version": "1.5.0",
            "_model_name": "DescriptionStyleModel",
            "_view_count": null,
            "_view_module": "@jupyter-widgets/base",
            "_view_module_version": "1.2.0",
            "_view_name": "StyleView",
            "description_width": ""
          }
        },
        "458b842620534f6596e28920843be642": {
          "model_module": "@jupyter-widgets/controls",
          "model_module_version": "1.5.0",
          "model_name": "HTMLModel",
          "state": {
            "_dom_classes": [],
            "_model_module": "@jupyter-widgets/controls",
            "_model_module_version": "1.5.0",
            "_model_name": "HTMLModel",
            "_view_count": null,
            "_view_module": "@jupyter-widgets/controls",
            "_view_module_version": "1.5.0",
            "_view_name": "HTMLView",
            "description": "",
            "description_tooltip": null,
            "layout": "IPY_MODEL_7cf0aa433e1d4c29b33d90d001125c0f",
            "placeholder": "​",
            "style": "IPY_MODEL_f52de7d935cf48c6aa70aa53881e8407",
            "value": " 10.7k/10.7k [00:00&lt;00:00, 159kB/s]"
          }
        },
        "47dc65dd0ebb4e20a2599ce91b6ba0a4": {
          "model_module": "@jupyter-widgets/controls",
          "model_module_version": "1.5.0",
          "model_name": "DescriptionStyleModel",
          "state": {
            "_model_module": "@jupyter-widgets/controls",
            "_model_module_version": "1.5.0",
            "_model_name": "DescriptionStyleModel",
            "_view_count": null,
            "_view_module": "@jupyter-widgets/base",
            "_view_module_version": "1.2.0",
            "_view_name": "StyleView",
            "description_width": ""
          }
        },
        "48dce5558f8a47eebed8f37c3a5aaec1": {
          "model_module": "@jupyter-widgets/base",
          "model_module_version": "1.2.0",
          "model_name": "LayoutModel",
          "state": {
            "_model_module": "@jupyter-widgets/base",
            "_model_module_version": "1.2.0",
            "_model_name": "LayoutModel",
            "_view_count": null,
            "_view_module": "@jupyter-widgets/base",
            "_view_module_version": "1.2.0",
            "_view_name": "LayoutView",
            "align_content": null,
            "align_items": null,
            "align_self": null,
            "border": null,
            "bottom": null,
            "display": null,
            "flex": null,
            "flex_flow": null,
            "grid_area": null,
            "grid_auto_columns": null,
            "grid_auto_flow": null,
            "grid_auto_rows": null,
            "grid_column": null,
            "grid_gap": null,
            "grid_row": null,
            "grid_template_areas": null,
            "grid_template_columns": null,
            "grid_template_rows": null,
            "height": null,
            "justify_content": null,
            "justify_items": null,
            "left": null,
            "margin": null,
            "max_height": null,
            "max_width": null,
            "min_height": null,
            "min_width": null,
            "object_fit": null,
            "object_position": null,
            "order": null,
            "overflow": null,
            "overflow_x": null,
            "overflow_y": null,
            "padding": null,
            "right": null,
            "top": null,
            "visibility": null,
            "width": null
          }
        },
        "4dd3d29945ed4169aa433c3226871c67": {
          "model_module": "@jupyter-widgets/base",
          "model_module_version": "1.2.0",
          "model_name": "LayoutModel",
          "state": {
            "_model_module": "@jupyter-widgets/base",
            "_model_module_version": "1.2.0",
            "_model_name": "LayoutModel",
            "_view_count": null,
            "_view_module": "@jupyter-widgets/base",
            "_view_module_version": "1.2.0",
            "_view_name": "LayoutView",
            "align_content": null,
            "align_items": null,
            "align_self": null,
            "border": null,
            "bottom": null,
            "display": null,
            "flex": null,
            "flex_flow": null,
            "grid_area": null,
            "grid_auto_columns": null,
            "grid_auto_flow": null,
            "grid_auto_rows": null,
            "grid_column": null,
            "grid_gap": null,
            "grid_row": null,
            "grid_template_areas": null,
            "grid_template_columns": null,
            "grid_template_rows": null,
            "height": null,
            "justify_content": null,
            "justify_items": null,
            "left": null,
            "margin": null,
            "max_height": null,
            "max_width": null,
            "min_height": null,
            "min_width": null,
            "object_fit": null,
            "object_position": null,
            "order": null,
            "overflow": null,
            "overflow_x": null,
            "overflow_y": null,
            "padding": null,
            "right": null,
            "top": null,
            "visibility": null,
            "width": null
          }
        },
        "550cdbfe3908496da4bb9d60d4328546": {
          "model_module": "@jupyter-widgets/base",
          "model_module_version": "1.2.0",
          "model_name": "LayoutModel",
          "state": {
            "_model_module": "@jupyter-widgets/base",
            "_model_module_version": "1.2.0",
            "_model_name": "LayoutModel",
            "_view_count": null,
            "_view_module": "@jupyter-widgets/base",
            "_view_module_version": "1.2.0",
            "_view_name": "LayoutView",
            "align_content": null,
            "align_items": null,
            "align_self": null,
            "border": null,
            "bottom": null,
            "display": null,
            "flex": null,
            "flex_flow": null,
            "grid_area": null,
            "grid_auto_columns": null,
            "grid_auto_flow": null,
            "grid_auto_rows": null,
            "grid_column": null,
            "grid_gap": null,
            "grid_row": null,
            "grid_template_areas": null,
            "grid_template_columns": null,
            "grid_template_rows": null,
            "height": null,
            "justify_content": null,
            "justify_items": null,
            "left": null,
            "margin": null,
            "max_height": null,
            "max_width": null,
            "min_height": null,
            "min_width": null,
            "object_fit": null,
            "object_position": null,
            "order": null,
            "overflow": null,
            "overflow_x": null,
            "overflow_y": null,
            "padding": null,
            "right": null,
            "top": null,
            "visibility": null,
            "width": null
          }
        },
        "5a6168a3b1264c60b2200203eb6f75e5": {
          "model_module": "@jupyter-widgets/controls",
          "model_module_version": "1.5.0",
          "model_name": "DescriptionStyleModel",
          "state": {
            "_model_module": "@jupyter-widgets/controls",
            "_model_module_version": "1.5.0",
            "_model_name": "DescriptionStyleModel",
            "_view_count": null,
            "_view_module": "@jupyter-widgets/base",
            "_view_module_version": "1.2.0",
            "_view_name": "StyleView",
            "description_width": ""
          }
        },
        "5dfcefff3cfa4bdf89948e72720116e1": {
          "model_module": "@jupyter-widgets/controls",
          "model_module_version": "1.5.0",
          "model_name": "DescriptionStyleModel",
          "state": {
            "_model_module": "@jupyter-widgets/controls",
            "_model_module_version": "1.5.0",
            "_model_name": "DescriptionStyleModel",
            "_view_count": null,
            "_view_module": "@jupyter-widgets/base",
            "_view_module_version": "1.2.0",
            "_view_name": "StyleView",
            "description_width": ""
          }
        },
        "64a4c8e7b54d4d54a985685c2ca29c77": {
          "model_module": "@jupyter-widgets/controls",
          "model_module_version": "1.5.0",
          "model_name": "ProgressStyleModel",
          "state": {
            "_model_module": "@jupyter-widgets/controls",
            "_model_module_version": "1.5.0",
            "_model_name": "ProgressStyleModel",
            "_view_count": null,
            "_view_module": "@jupyter-widgets/base",
            "_view_module_version": "1.2.0",
            "_view_name": "StyleView",
            "bar_color": null,
            "description_width": ""
          }
        },
        "64f04504ecc24729b7a3a1f6c76b6805": {
          "model_module": "@jupyter-widgets/base",
          "model_module_version": "1.2.0",
          "model_name": "LayoutModel",
          "state": {
            "_model_module": "@jupyter-widgets/base",
            "_model_module_version": "1.2.0",
            "_model_name": "LayoutModel",
            "_view_count": null,
            "_view_module": "@jupyter-widgets/base",
            "_view_module_version": "1.2.0",
            "_view_name": "LayoutView",
            "align_content": null,
            "align_items": null,
            "align_self": null,
            "border": null,
            "bottom": null,
            "display": null,
            "flex": null,
            "flex_flow": null,
            "grid_area": null,
            "grid_auto_columns": null,
            "grid_auto_flow": null,
            "grid_auto_rows": null,
            "grid_column": null,
            "grid_gap": null,
            "grid_row": null,
            "grid_template_areas": null,
            "grid_template_columns": null,
            "grid_template_rows": null,
            "height": null,
            "justify_content": null,
            "justify_items": null,
            "left": null,
            "margin": null,
            "max_height": null,
            "max_width": null,
            "min_height": null,
            "min_width": null,
            "object_fit": null,
            "object_position": null,
            "order": null,
            "overflow": null,
            "overflow_x": null,
            "overflow_y": null,
            "padding": null,
            "right": null,
            "top": null,
            "visibility": null,
            "width": null
          }
        },
        "655cbb5b33544b7d80d64e6633d87861": {
          "model_module": "@jupyter-widgets/controls",
          "model_module_version": "1.5.0",
          "model_name": "FloatProgressModel",
          "state": {
            "_dom_classes": [],
            "_model_module": "@jupyter-widgets/controls",
            "_model_module_version": "1.5.0",
            "_model_name": "FloatProgressModel",
            "_view_count": null,
            "_view_module": "@jupyter-widgets/controls",
            "_view_module_version": "1.5.0",
            "_view_name": "ProgressView",
            "bar_style": "success",
            "description": "",
            "description_tooltip": null,
            "layout": "IPY_MODEL_ac08d29ef8e2410f8fe8c2b5df27bb1b",
            "max": 116,
            "min": 0,
            "orientation": "horizontal",
            "style": "IPY_MODEL_da826d9532a3438bb7a49a6889134ee4",
            "value": 116
          }
        },
        "66e00356866e44109a7dbbbe1ed94038": {
          "model_module": "@jupyter-widgets/base",
          "model_module_version": "1.2.0",
          "model_name": "LayoutModel",
          "state": {
            "_model_module": "@jupyter-widgets/base",
            "_model_module_version": "1.2.0",
            "_model_name": "LayoutModel",
            "_view_count": null,
            "_view_module": "@jupyter-widgets/base",
            "_view_module_version": "1.2.0",
            "_view_name": "LayoutView",
            "align_content": null,
            "align_items": null,
            "align_self": null,
            "border": null,
            "bottom": null,
            "display": null,
            "flex": null,
            "flex_flow": null,
            "grid_area": null,
            "grid_auto_columns": null,
            "grid_auto_flow": null,
            "grid_auto_rows": null,
            "grid_column": null,
            "grid_gap": null,
            "grid_row": null,
            "grid_template_areas": null,
            "grid_template_columns": null,
            "grid_template_rows": null,
            "height": null,
            "justify_content": null,
            "justify_items": null,
            "left": null,
            "margin": null,
            "max_height": null,
            "max_width": null,
            "min_height": null,
            "min_width": null,
            "object_fit": null,
            "object_position": null,
            "order": null,
            "overflow": null,
            "overflow_x": null,
            "overflow_y": null,
            "padding": null,
            "right": null,
            "top": null,
            "visibility": null,
            "width": null
          }
        },
        "6782a94d10c947758f6495214ecd77be": {
          "model_module": "@jupyter-widgets/controls",
          "model_module_version": "1.5.0",
          "model_name": "FloatProgressModel",
          "state": {
            "_dom_classes": [],
            "_model_module": "@jupyter-widgets/controls",
            "_model_module_version": "1.5.0",
            "_model_name": "FloatProgressModel",
            "_view_count": null,
            "_view_module": "@jupyter-widgets/controls",
            "_view_module_version": "1.5.0",
            "_view_name": "ProgressView",
            "bar_style": "success",
            "description": "",
            "description_tooltip": null,
            "layout": "IPY_MODEL_550cdbfe3908496da4bb9d60d4328546",
            "max": 112,
            "min": 0,
            "orientation": "horizontal",
            "style": "IPY_MODEL_dfc5f50349ed46919378a43aa36c39b6",
            "value": 112
          }
        },
        "68191633d3a34024889b117db105bfea": {
          "model_module": "@jupyter-widgets/controls",
          "model_module_version": "1.5.0",
          "model_name": "ProgressStyleModel",
          "state": {
            "_model_module": "@jupyter-widgets/controls",
            "_model_module_version": "1.5.0",
            "_model_name": "ProgressStyleModel",
            "_view_count": null,
            "_view_module": "@jupyter-widgets/base",
            "_view_module_version": "1.2.0",
            "_view_name": "StyleView",
            "bar_color": null,
            "description_width": ""
          }
        },
        "695e221064774fa48c054b4c8f0b47d8": {
          "model_module": "@jupyter-widgets/base",
          "model_module_version": "1.2.0",
          "model_name": "LayoutModel",
          "state": {
            "_model_module": "@jupyter-widgets/base",
            "_model_module_version": "1.2.0",
            "_model_name": "LayoutModel",
            "_view_count": null,
            "_view_module": "@jupyter-widgets/base",
            "_view_module_version": "1.2.0",
            "_view_name": "LayoutView",
            "align_content": null,
            "align_items": null,
            "align_self": null,
            "border": null,
            "bottom": null,
            "display": null,
            "flex": null,
            "flex_flow": null,
            "grid_area": null,
            "grid_auto_columns": null,
            "grid_auto_flow": null,
            "grid_auto_rows": null,
            "grid_column": null,
            "grid_gap": null,
            "grid_row": null,
            "grid_template_areas": null,
            "grid_template_columns": null,
            "grid_template_rows": null,
            "height": null,
            "justify_content": null,
            "justify_items": null,
            "left": null,
            "margin": null,
            "max_height": null,
            "max_width": null,
            "min_height": null,
            "min_width": null,
            "object_fit": null,
            "object_position": null,
            "order": null,
            "overflow": null,
            "overflow_x": null,
            "overflow_y": null,
            "padding": null,
            "right": null,
            "top": null,
            "visibility": null,
            "width": null
          }
        },
        "6b888e03e6d549cf97238c07e0c4548e": {
          "model_module": "@jupyter-widgets/controls",
          "model_module_version": "1.5.0",
          "model_name": "HTMLModel",
          "state": {
            "_dom_classes": [],
            "_model_module": "@jupyter-widgets/controls",
            "_model_module_version": "1.5.0",
            "_model_name": "HTMLModel",
            "_view_count": null,
            "_view_module": "@jupyter-widgets/controls",
            "_view_module_version": "1.5.0",
            "_view_name": "HTMLView",
            "description": "",
            "description_tooltip": null,
            "layout": "IPY_MODEL_d511d28d9bf343baa9b9ee3b50cdc2a8",
            "placeholder": "​",
            "style": "IPY_MODEL_9c3880d8181c499eb84827eb77e6305d",
            "value": "tokenizer.json: 100%"
          }
        },
        "6cd716b9da9b492b8f027c1fe5b1e676": {
          "model_module": "@jupyter-widgets/controls",
          "model_module_version": "1.5.0",
          "model_name": "HTMLModel",
          "state": {
            "_dom_classes": [],
            "_model_module": "@jupyter-widgets/controls",
            "_model_module_version": "1.5.0",
            "_model_name": "HTMLModel",
            "_view_count": null,
            "_view_module": "@jupyter-widgets/controls",
            "_view_module_version": "1.5.0",
            "_view_name": "HTMLView",
            "description": "",
            "description_tooltip": null,
            "layout": "IPY_MODEL_8a205600fd13443b9a9b4c114a394ae6",
            "placeholder": "​",
            "style": "IPY_MODEL_c5b97acf125442e2a8a9f069a608ec16",
            "value": "modules.json: 100%"
          }
        },
        "6d2ebfa834d44b9b90487fa67a8161c4": {
          "model_module": "@jupyter-widgets/controls",
          "model_module_version": "1.5.0",
          "model_name": "HBoxModel",
          "state": {
            "_dom_classes": [],
            "_model_module": "@jupyter-widgets/controls",
            "_model_module_version": "1.5.0",
            "_model_name": "HBoxModel",
            "_view_count": null,
            "_view_module": "@jupyter-widgets/controls",
            "_view_module_version": "1.5.0",
            "_view_name": "HBoxView",
            "box_style": "",
            "children": [
              "IPY_MODEL_e30ad340d0fc4027ba04cfceeaf3e9f9",
              "IPY_MODEL_6782a94d10c947758f6495214ecd77be",
              "IPY_MODEL_3703c4a195494bb59371e14ae443bcdd"
            ],
            "layout": "IPY_MODEL_4dd3d29945ed4169aa433c3226871c67"
          }
        },
        "6e3af0fb23164a3cb3c69d5582a92c3d": {
          "model_module": "@jupyter-widgets/controls",
          "model_module_version": "1.5.0",
          "model_name": "HBoxModel",
          "state": {
            "_dom_classes": [],
            "_model_module": "@jupyter-widgets/controls",
            "_model_module_version": "1.5.0",
            "_model_name": "HBoxModel",
            "_view_count": null,
            "_view_module": "@jupyter-widgets/controls",
            "_view_module_version": "1.5.0",
            "_view_name": "HBoxView",
            "box_style": "",
            "children": [
              "IPY_MODEL_dc8a48b6bcbf45da9ba7e7c89f04ba12",
              "IPY_MODEL_9de14c9165454420b8e841cb4a3a56c5",
              "IPY_MODEL_0a07cb6f867e41fc903348e82bbf2862"
            ],
            "layout": "IPY_MODEL_64f04504ecc24729b7a3a1f6c76b6805"
          }
        },
        "719862f8b5ce46f189e758cdc57c2599": {
          "model_module": "@jupyter-widgets/base",
          "model_module_version": "1.2.0",
          "model_name": "LayoutModel",
          "state": {
            "_model_module": "@jupyter-widgets/base",
            "_model_module_version": "1.2.0",
            "_model_name": "LayoutModel",
            "_view_count": null,
            "_view_module": "@jupyter-widgets/base",
            "_view_module_version": "1.2.0",
            "_view_name": "LayoutView",
            "align_content": null,
            "align_items": null,
            "align_self": null,
            "border": null,
            "bottom": null,
            "display": null,
            "flex": null,
            "flex_flow": null,
            "grid_area": null,
            "grid_auto_columns": null,
            "grid_auto_flow": null,
            "grid_auto_rows": null,
            "grid_column": null,
            "grid_gap": null,
            "grid_row": null,
            "grid_template_areas": null,
            "grid_template_columns": null,
            "grid_template_rows": null,
            "height": null,
            "justify_content": null,
            "justify_items": null,
            "left": null,
            "margin": null,
            "max_height": null,
            "max_width": null,
            "min_height": null,
            "min_width": null,
            "object_fit": null,
            "object_position": null,
            "order": null,
            "overflow": null,
            "overflow_x": null,
            "overflow_y": null,
            "padding": null,
            "right": null,
            "top": null,
            "visibility": null,
            "width": null
          }
        },
        "74df66b8259a4c0087adb907960e4c79": {
          "model_module": "@jupyter-widgets/controls",
          "model_module_version": "1.5.0",
          "model_name": "DescriptionStyleModel",
          "state": {
            "_model_module": "@jupyter-widgets/controls",
            "_model_module_version": "1.5.0",
            "_model_name": "DescriptionStyleModel",
            "_view_count": null,
            "_view_module": "@jupyter-widgets/base",
            "_view_module_version": "1.2.0",
            "_view_name": "StyleView",
            "description_width": ""
          }
        },
        "7c3b94f0463742d69e7326ff5289a230": {
          "model_module": "@jupyter-widgets/controls",
          "model_module_version": "1.5.0",
          "model_name": "FloatProgressModel",
          "state": {
            "_dom_classes": [],
            "_model_module": "@jupyter-widgets/controls",
            "_model_module_version": "1.5.0",
            "_model_name": "FloatProgressModel",
            "_view_count": null,
            "_view_module": "@jupyter-widgets/controls",
            "_view_module_version": "1.5.0",
            "_view_name": "ProgressView",
            "bar_style": "success",
            "description": "",
            "description_tooltip": null,
            "layout": "IPY_MODEL_a90469f59afc4be1b3be9c064be2d195",
            "max": 466247,
            "min": 0,
            "orientation": "horizontal",
            "style": "IPY_MODEL_21c9270a3fae4e769d357af2010d4fd6",
            "value": 466247
          }
        },
        "7cbecf6e51074695af01df4d3502614f": {
          "model_module": "@jupyter-widgets/base",
          "model_module_version": "1.2.0",
          "model_name": "LayoutModel",
          "state": {
            "_model_module": "@jupyter-widgets/base",
            "_model_module_version": "1.2.0",
            "_model_name": "LayoutModel",
            "_view_count": null,
            "_view_module": "@jupyter-widgets/base",
            "_view_module_version": "1.2.0",
            "_view_name": "LayoutView",
            "align_content": null,
            "align_items": null,
            "align_self": null,
            "border": null,
            "bottom": null,
            "display": null,
            "flex": null,
            "flex_flow": null,
            "grid_area": null,
            "grid_auto_columns": null,
            "grid_auto_flow": null,
            "grid_auto_rows": null,
            "grid_column": null,
            "grid_gap": null,
            "grid_row": null,
            "grid_template_areas": null,
            "grid_template_columns": null,
            "grid_template_rows": null,
            "height": null,
            "justify_content": null,
            "justify_items": null,
            "left": null,
            "margin": null,
            "max_height": null,
            "max_width": null,
            "min_height": null,
            "min_width": null,
            "object_fit": null,
            "object_position": null,
            "order": null,
            "overflow": null,
            "overflow_x": null,
            "overflow_y": null,
            "padding": null,
            "right": null,
            "top": null,
            "visibility": null,
            "width": null
          }
        },
        "7cf0aa433e1d4c29b33d90d001125c0f": {
          "model_module": "@jupyter-widgets/base",
          "model_module_version": "1.2.0",
          "model_name": "LayoutModel",
          "state": {
            "_model_module": "@jupyter-widgets/base",
            "_model_module_version": "1.2.0",
            "_model_name": "LayoutModel",
            "_view_count": null,
            "_view_module": "@jupyter-widgets/base",
            "_view_module_version": "1.2.0",
            "_view_name": "LayoutView",
            "align_content": null,
            "align_items": null,
            "align_self": null,
            "border": null,
            "bottom": null,
            "display": null,
            "flex": null,
            "flex_flow": null,
            "grid_area": null,
            "grid_auto_columns": null,
            "grid_auto_flow": null,
            "grid_auto_rows": null,
            "grid_column": null,
            "grid_gap": null,
            "grid_row": null,
            "grid_template_areas": null,
            "grid_template_columns": null,
            "grid_template_rows": null,
            "height": null,
            "justify_content": null,
            "justify_items": null,
            "left": null,
            "margin": null,
            "max_height": null,
            "max_width": null,
            "min_height": null,
            "min_width": null,
            "object_fit": null,
            "object_position": null,
            "order": null,
            "overflow": null,
            "overflow_x": null,
            "overflow_y": null,
            "padding": null,
            "right": null,
            "top": null,
            "visibility": null,
            "width": null
          }
        },
        "81b64cda61464f90a042d12a6810abc6": {
          "model_module": "@jupyter-widgets/controls",
          "model_module_version": "1.5.0",
          "model_name": "DescriptionStyleModel",
          "state": {
            "_model_module": "@jupyter-widgets/controls",
            "_model_module_version": "1.5.0",
            "_model_name": "DescriptionStyleModel",
            "_view_count": null,
            "_view_module": "@jupyter-widgets/base",
            "_view_module_version": "1.2.0",
            "_view_name": "StyleView",
            "description_width": ""
          }
        },
        "821f1ffc3c53448b852f8e4356dee4c4": {
          "model_module": "@jupyter-widgets/controls",
          "model_module_version": "1.5.0",
          "model_name": "ProgressStyleModel",
          "state": {
            "_model_module": "@jupyter-widgets/controls",
            "_model_module_version": "1.5.0",
            "_model_name": "ProgressStyleModel",
            "_view_count": null,
            "_view_module": "@jupyter-widgets/base",
            "_view_module_version": "1.2.0",
            "_view_name": "StyleView",
            "bar_color": null,
            "description_width": ""
          }
        },
        "83d63aaad83346f0bc1ee97b51ac2d7b": {
          "model_module": "@jupyter-widgets/controls",
          "model_module_version": "1.5.0",
          "model_name": "DescriptionStyleModel",
          "state": {
            "_model_module": "@jupyter-widgets/controls",
            "_model_module_version": "1.5.0",
            "_model_name": "DescriptionStyleModel",
            "_view_count": null,
            "_view_module": "@jupyter-widgets/base",
            "_view_module_version": "1.2.0",
            "_view_name": "StyleView",
            "description_width": ""
          }
        },
        "84f1d488bf41462287f4639c04cb968c": {
          "model_module": "@jupyter-widgets/base",
          "model_module_version": "1.2.0",
          "model_name": "LayoutModel",
          "state": {
            "_model_module": "@jupyter-widgets/base",
            "_model_module_version": "1.2.0",
            "_model_name": "LayoutModel",
            "_view_count": null,
            "_view_module": "@jupyter-widgets/base",
            "_view_module_version": "1.2.0",
            "_view_name": "LayoutView",
            "align_content": null,
            "align_items": null,
            "align_self": null,
            "border": null,
            "bottom": null,
            "display": null,
            "flex": null,
            "flex_flow": null,
            "grid_area": null,
            "grid_auto_columns": null,
            "grid_auto_flow": null,
            "grid_auto_rows": null,
            "grid_column": null,
            "grid_gap": null,
            "grid_row": null,
            "grid_template_areas": null,
            "grid_template_columns": null,
            "grid_template_rows": null,
            "height": null,
            "justify_content": null,
            "justify_items": null,
            "left": null,
            "margin": null,
            "max_height": null,
            "max_width": null,
            "min_height": null,
            "min_width": null,
            "object_fit": null,
            "object_position": null,
            "order": null,
            "overflow": null,
            "overflow_x": null,
            "overflow_y": null,
            "padding": null,
            "right": null,
            "top": null,
            "visibility": null,
            "width": null
          }
        },
        "85bbce30a9664a759f6d1994583f7e05": {
          "model_module": "@jupyter-widgets/controls",
          "model_module_version": "1.5.0",
          "model_name": "DescriptionStyleModel",
          "state": {
            "_model_module": "@jupyter-widgets/controls",
            "_model_module_version": "1.5.0",
            "_model_name": "DescriptionStyleModel",
            "_view_count": null,
            "_view_module": "@jupyter-widgets/base",
            "_view_module_version": "1.2.0",
            "_view_name": "StyleView",
            "description_width": ""
          }
        },
        "86e1aa697fd14cdd8f5628fc259bee52": {
          "model_module": "@jupyter-widgets/controls",
          "model_module_version": "1.5.0",
          "model_name": "HBoxModel",
          "state": {
            "_dom_classes": [],
            "_model_module": "@jupyter-widgets/controls",
            "_model_module_version": "1.5.0",
            "_model_name": "HBoxModel",
            "_view_count": null,
            "_view_module": "@jupyter-widgets/controls",
            "_view_module_version": "1.5.0",
            "_view_name": "HBoxView",
            "box_style": "",
            "children": [
              "IPY_MODEL_c3a680acf71c435a970b03c09c048797",
              "IPY_MODEL_9ccf9d8e1aad4647bae7dcb44e6affd5",
              "IPY_MODEL_d4c4632a5ed6443ebcb4d082c9c6c664"
            ],
            "layout": "IPY_MODEL_ed9277fcd8b840078d33c0db52451351"
          }
        },
        "89169ce8e5e645a59c97d632920d53d6": {
          "model_module": "@jupyter-widgets/controls",
          "model_module_version": "1.5.0",
          "model_name": "DescriptionStyleModel",
          "state": {
            "_model_module": "@jupyter-widgets/controls",
            "_model_module_version": "1.5.0",
            "_model_name": "DescriptionStyleModel",
            "_view_count": null,
            "_view_module": "@jupyter-widgets/base",
            "_view_module_version": "1.2.0",
            "_view_name": "StyleView",
            "description_width": ""
          }
        },
        "89526c133e9e4c1398c1a5e7a9bd4c71": {
          "model_module": "@jupyter-widgets/controls",
          "model_module_version": "1.5.0",
          "model_name": "HBoxModel",
          "state": {
            "_dom_classes": [],
            "_model_module": "@jupyter-widgets/controls",
            "_model_module_version": "1.5.0",
            "_model_name": "HBoxModel",
            "_view_count": null,
            "_view_module": "@jupyter-widgets/controls",
            "_view_module_version": "1.5.0",
            "_view_name": "HBoxView",
            "box_style": "",
            "children": [
              "IPY_MODEL_32627571b11c4e07af7915a5a875dfe9",
              "IPY_MODEL_655cbb5b33544b7d80d64e6633d87861",
              "IPY_MODEL_ea8586c646084ec695f1759a7e8b8777"
            ],
            "layout": "IPY_MODEL_a1eaf6f459d541a2b258ed9b5b20a534"
          }
        },
        "8a205600fd13443b9a9b4c114a394ae6": {
          "model_module": "@jupyter-widgets/base",
          "model_module_version": "1.2.0",
          "model_name": "LayoutModel",
          "state": {
            "_model_module": "@jupyter-widgets/base",
            "_model_module_version": "1.2.0",
            "_model_name": "LayoutModel",
            "_view_count": null,
            "_view_module": "@jupyter-widgets/base",
            "_view_module_version": "1.2.0",
            "_view_name": "LayoutView",
            "align_content": null,
            "align_items": null,
            "align_self": null,
            "border": null,
            "bottom": null,
            "display": null,
            "flex": null,
            "flex_flow": null,
            "grid_area": null,
            "grid_auto_columns": null,
            "grid_auto_flow": null,
            "grid_auto_rows": null,
            "grid_column": null,
            "grid_gap": null,
            "grid_row": null,
            "grid_template_areas": null,
            "grid_template_columns": null,
            "grid_template_rows": null,
            "height": null,
            "justify_content": null,
            "justify_items": null,
            "left": null,
            "margin": null,
            "max_height": null,
            "max_width": null,
            "min_height": null,
            "min_width": null,
            "object_fit": null,
            "object_position": null,
            "order": null,
            "overflow": null,
            "overflow_x": null,
            "overflow_y": null,
            "padding": null,
            "right": null,
            "top": null,
            "visibility": null,
            "width": null
          }
        },
        "8a3b3a9c7425482baf7e8979b31c6018": {
          "model_module": "@jupyter-widgets/controls",
          "model_module_version": "1.5.0",
          "model_name": "HTMLModel",
          "state": {
            "_dom_classes": [],
            "_model_module": "@jupyter-widgets/controls",
            "_model_module_version": "1.5.0",
            "_model_name": "HTMLModel",
            "_view_count": null,
            "_view_module": "@jupyter-widgets/controls",
            "_view_module_version": "1.5.0",
            "_view_name": "HTMLView",
            "description": "",
            "description_tooltip": null,
            "layout": "IPY_MODEL_8a76e2761fca4c48a7b33f1c2b9f4f39",
            "placeholder": "​",
            "style": "IPY_MODEL_81b64cda61464f90a042d12a6810abc6",
            "value": " 190/190 [00:00&lt;00:00, 11.4kB/s]"
          }
        },
        "8a76e2761fca4c48a7b33f1c2b9f4f39": {
          "model_module": "@jupyter-widgets/base",
          "model_module_version": "1.2.0",
          "model_name": "LayoutModel",
          "state": {
            "_model_module": "@jupyter-widgets/base",
            "_model_module_version": "1.2.0",
            "_model_name": "LayoutModel",
            "_view_count": null,
            "_view_module": "@jupyter-widgets/base",
            "_view_module_version": "1.2.0",
            "_view_name": "LayoutView",
            "align_content": null,
            "align_items": null,
            "align_self": null,
            "border": null,
            "bottom": null,
            "display": null,
            "flex": null,
            "flex_flow": null,
            "grid_area": null,
            "grid_auto_columns": null,
            "grid_auto_flow": null,
            "grid_auto_rows": null,
            "grid_column": null,
            "grid_gap": null,
            "grid_row": null,
            "grid_template_areas": null,
            "grid_template_columns": null,
            "grid_template_rows": null,
            "height": null,
            "justify_content": null,
            "justify_items": null,
            "left": null,
            "margin": null,
            "max_height": null,
            "max_width": null,
            "min_height": null,
            "min_width": null,
            "object_fit": null,
            "object_position": null,
            "order": null,
            "overflow": null,
            "overflow_x": null,
            "overflow_y": null,
            "padding": null,
            "right": null,
            "top": null,
            "visibility": null,
            "width": null
          }
        },
        "8c0851641cca43a9b0f9f3d22c52c776": {
          "model_module": "@jupyter-widgets/controls",
          "model_module_version": "1.5.0",
          "model_name": "DescriptionStyleModel",
          "state": {
            "_model_module": "@jupyter-widgets/controls",
            "_model_module_version": "1.5.0",
            "_model_name": "DescriptionStyleModel",
            "_view_count": null,
            "_view_module": "@jupyter-widgets/base",
            "_view_module_version": "1.2.0",
            "_view_name": "StyleView",
            "description_width": ""
          }
        },
        "8c780eb628914c299ed9cf03d53a1898": {
          "model_module": "@jupyter-widgets/controls",
          "model_module_version": "1.5.0",
          "model_name": "FloatProgressModel",
          "state": {
            "_dom_classes": [],
            "_model_module": "@jupyter-widgets/controls",
            "_model_module_version": "1.5.0",
            "_model_name": "FloatProgressModel",
            "_view_count": null,
            "_view_module": "@jupyter-widgets/controls",
            "_view_module_version": "1.5.0",
            "_view_name": "ProgressView",
            "bar_style": "success",
            "description": "",
            "description_tooltip": null,
            "layout": "IPY_MODEL_695e221064774fa48c054b4c8f0b47d8",
            "max": 10659,
            "min": 0,
            "orientation": "horizontal",
            "style": "IPY_MODEL_64a4c8e7b54d4d54a985685c2ca29c77",
            "value": 10659
          }
        },
        "8d4980f3fbb049899a16693b7b28d6ed": {
          "model_module": "@jupyter-widgets/controls",
          "model_module_version": "1.5.0",
          "model_name": "HTMLModel",
          "state": {
            "_dom_classes": [],
            "_model_module": "@jupyter-widgets/controls",
            "_model_module_version": "1.5.0",
            "_model_name": "HTMLModel",
            "_view_count": null,
            "_view_module": "@jupyter-widgets/controls",
            "_view_module_version": "1.5.0",
            "_view_name": "HTMLView",
            "description": "",
            "description_tooltip": null,
            "layout": "IPY_MODEL_48dce5558f8a47eebed8f37c3a5aaec1",
            "placeholder": "​",
            "style": "IPY_MODEL_458af61b0aaa4c75be6a7313d2d06644",
            "value": "tokenizer_config.json: 100%"
          }
        },
        "98f53ed1d4024070b98edb46f0113b8e": {
          "model_module": "@jupyter-widgets/base",
          "model_module_version": "1.2.0",
          "model_name": "LayoutModel",
          "state": {
            "_model_module": "@jupyter-widgets/base",
            "_model_module_version": "1.2.0",
            "_model_name": "LayoutModel",
            "_view_count": null,
            "_view_module": "@jupyter-widgets/base",
            "_view_module_version": "1.2.0",
            "_view_name": "LayoutView",
            "align_content": null,
            "align_items": null,
            "align_self": null,
            "border": null,
            "bottom": null,
            "display": null,
            "flex": null,
            "flex_flow": null,
            "grid_area": null,
            "grid_auto_columns": null,
            "grid_auto_flow": null,
            "grid_auto_rows": null,
            "grid_column": null,
            "grid_gap": null,
            "grid_row": null,
            "grid_template_areas": null,
            "grid_template_columns": null,
            "grid_template_rows": null,
            "height": null,
            "justify_content": null,
            "justify_items": null,
            "left": null,
            "margin": null,
            "max_height": null,
            "max_width": null,
            "min_height": null,
            "min_width": null,
            "object_fit": null,
            "object_position": null,
            "order": null,
            "overflow": null,
            "overflow_x": null,
            "overflow_y": null,
            "padding": null,
            "right": null,
            "top": null,
            "visibility": null,
            "width": null
          }
        },
        "993370dfa369451cab23908f089f1d19": {
          "model_module": "@jupyter-widgets/controls",
          "model_module_version": "1.5.0",
          "model_name": "DescriptionStyleModel",
          "state": {
            "_model_module": "@jupyter-widgets/controls",
            "_model_module_version": "1.5.0",
            "_model_name": "DescriptionStyleModel",
            "_view_count": null,
            "_view_module": "@jupyter-widgets/base",
            "_view_module_version": "1.2.0",
            "_view_name": "StyleView",
            "description_width": ""
          }
        },
        "9c3880d8181c499eb84827eb77e6305d": {
          "model_module": "@jupyter-widgets/controls",
          "model_module_version": "1.5.0",
          "model_name": "DescriptionStyleModel",
          "state": {
            "_model_module": "@jupyter-widgets/controls",
            "_model_module_version": "1.5.0",
            "_model_name": "DescriptionStyleModel",
            "_view_count": null,
            "_view_module": "@jupyter-widgets/base",
            "_view_module_version": "1.2.0",
            "_view_name": "StyleView",
            "description_width": ""
          }
        },
        "9ccf9d8e1aad4647bae7dcb44e6affd5": {
          "model_module": "@jupyter-widgets/controls",
          "model_module_version": "1.5.0",
          "model_name": "FloatProgressModel",
          "state": {
            "_dom_classes": [],
            "_model_module": "@jupyter-widgets/controls",
            "_model_module_version": "1.5.0",
            "_model_name": "FloatProgressModel",
            "_view_count": null,
            "_view_module": "@jupyter-widgets/controls",
            "_view_module_version": "1.5.0",
            "_view_name": "ProgressView",
            "bar_style": "success",
            "description": "",
            "description_tooltip": null,
            "layout": "IPY_MODEL_358b76cb1f7348a3ae3579ae11928913",
            "max": 90868376,
            "min": 0,
            "orientation": "horizontal",
            "style": "IPY_MODEL_bdb3a9a1232b4b72b53314518ff9f2c4",
            "value": 90868376
          }
        },
        "9de14c9165454420b8e841cb4a3a56c5": {
          "model_module": "@jupyter-widgets/controls",
          "model_module_version": "1.5.0",
          "model_name": "FloatProgressModel",
          "state": {
            "_dom_classes": [],
            "_model_module": "@jupyter-widgets/controls",
            "_model_module_version": "1.5.0",
            "_model_name": "FloatProgressModel",
            "_view_count": null,
            "_view_module": "@jupyter-widgets/controls",
            "_view_module_version": "1.5.0",
            "_view_name": "ProgressView",
            "bar_style": "success",
            "description": "",
            "description_tooltip": null,
            "layout": "IPY_MODEL_fa7bb387e2544e5eb82f39002fc17075",
            "max": 231508,
            "min": 0,
            "orientation": "horizontal",
            "style": "IPY_MODEL_eb2fd54c2ff347d19a5ce219d80d5f9e",
            "value": 231508
          }
        },
        "9f39f974023f4b75b695fd78799c801a": {
          "model_module": "@jupyter-widgets/controls",
          "model_module_version": "1.5.0",
          "model_name": "HBoxModel",
          "state": {
            "_dom_classes": [],
            "_model_module": "@jupyter-widgets/controls",
            "_model_module_version": "1.5.0",
            "_model_name": "HBoxModel",
            "_view_count": null,
            "_view_module": "@jupyter-widgets/controls",
            "_view_module_version": "1.5.0",
            "_view_name": "HBoxView",
            "box_style": "",
            "children": [
              "IPY_MODEL_3f6c9776572b4aeab2b22cf431f9d433",
              "IPY_MODEL_f0a77c11ef0b4452959418f0eae0496d",
              "IPY_MODEL_8a3b3a9c7425482baf7e8979b31c6018"
            ],
            "layout": "IPY_MODEL_f8e925c9c10d492396f71e9d4e2f4014"
          }
        },
        "a0dfc85d54d7444390ba28f12d940937": {
          "model_module": "@jupyter-widgets/base",
          "model_module_version": "1.2.0",
          "model_name": "LayoutModel",
          "state": {
            "_model_module": "@jupyter-widgets/base",
            "_model_module_version": "1.2.0",
            "_model_name": "LayoutModel",
            "_view_count": null,
            "_view_module": "@jupyter-widgets/base",
            "_view_module_version": "1.2.0",
            "_view_name": "LayoutView",
            "align_content": null,
            "align_items": null,
            "align_self": null,
            "border": null,
            "bottom": null,
            "display": null,
            "flex": null,
            "flex_flow": null,
            "grid_area": null,
            "grid_auto_columns": null,
            "grid_auto_flow": null,
            "grid_auto_rows": null,
            "grid_column": null,
            "grid_gap": null,
            "grid_row": null,
            "grid_template_areas": null,
            "grid_template_columns": null,
            "grid_template_rows": null,
            "height": null,
            "justify_content": null,
            "justify_items": null,
            "left": null,
            "margin": null,
            "max_height": null,
            "max_width": null,
            "min_height": null,
            "min_width": null,
            "object_fit": null,
            "object_position": null,
            "order": null,
            "overflow": null,
            "overflow_x": null,
            "overflow_y": null,
            "padding": null,
            "right": null,
            "top": null,
            "visibility": null,
            "width": null
          }
        },
        "a110c43157ee4827bc4200ca1769f086": {
          "model_module": "@jupyter-widgets/controls",
          "model_module_version": "1.5.0",
          "model_name": "DescriptionStyleModel",
          "state": {
            "_model_module": "@jupyter-widgets/controls",
            "_model_module_version": "1.5.0",
            "_model_name": "DescriptionStyleModel",
            "_view_count": null,
            "_view_module": "@jupyter-widgets/base",
            "_view_module_version": "1.2.0",
            "_view_name": "StyleView",
            "description_width": ""
          }
        },
        "a1eaf6f459d541a2b258ed9b5b20a534": {
          "model_module": "@jupyter-widgets/base",
          "model_module_version": "1.2.0",
          "model_name": "LayoutModel",
          "state": {
            "_model_module": "@jupyter-widgets/base",
            "_model_module_version": "1.2.0",
            "_model_name": "LayoutModel",
            "_view_count": null,
            "_view_module": "@jupyter-widgets/base",
            "_view_module_version": "1.2.0",
            "_view_name": "LayoutView",
            "align_content": null,
            "align_items": null,
            "align_self": null,
            "border": null,
            "bottom": null,
            "display": null,
            "flex": null,
            "flex_flow": null,
            "grid_area": null,
            "grid_auto_columns": null,
            "grid_auto_flow": null,
            "grid_auto_rows": null,
            "grid_column": null,
            "grid_gap": null,
            "grid_row": null,
            "grid_template_areas": null,
            "grid_template_columns": null,
            "grid_template_rows": null,
            "height": null,
            "justify_content": null,
            "justify_items": null,
            "left": null,
            "margin": null,
            "max_height": null,
            "max_width": null,
            "min_height": null,
            "min_width": null,
            "object_fit": null,
            "object_position": null,
            "order": null,
            "overflow": null,
            "overflow_x": null,
            "overflow_y": null,
            "padding": null,
            "right": null,
            "top": null,
            "visibility": null,
            "width": null
          }
        },
        "a7eda9dba4b04e95b5ce833382965446": {
          "model_module": "@jupyter-widgets/controls",
          "model_module_version": "1.5.0",
          "model_name": "FloatProgressModel",
          "state": {
            "_dom_classes": [],
            "_model_module": "@jupyter-widgets/controls",
            "_model_module_version": "1.5.0",
            "_model_name": "FloatProgressModel",
            "_view_count": null,
            "_view_module": "@jupyter-widgets/controls",
            "_view_module_version": "1.5.0",
            "_view_name": "ProgressView",
            "bar_style": "success",
            "description": "",
            "description_tooltip": null,
            "layout": "IPY_MODEL_ef9bd62df2c04b578a6f9017888534f5",
            "max": 53,
            "min": 0,
            "orientation": "horizontal",
            "style": "IPY_MODEL_cd9978843e2d4448b973cd511b8679e6",
            "value": 53
          }
        },
        "a90469f59afc4be1b3be9c064be2d195": {
          "model_module": "@jupyter-widgets/base",
          "model_module_version": "1.2.0",
          "model_name": "LayoutModel",
          "state": {
            "_model_module": "@jupyter-widgets/base",
            "_model_module_version": "1.2.0",
            "_model_name": "LayoutModel",
            "_view_count": null,
            "_view_module": "@jupyter-widgets/base",
            "_view_module_version": "1.2.0",
            "_view_name": "LayoutView",
            "align_content": null,
            "align_items": null,
            "align_self": null,
            "border": null,
            "bottom": null,
            "display": null,
            "flex": null,
            "flex_flow": null,
            "grid_area": null,
            "grid_auto_columns": null,
            "grid_auto_flow": null,
            "grid_auto_rows": null,
            "grid_column": null,
            "grid_gap": null,
            "grid_row": null,
            "grid_template_areas": null,
            "grid_template_columns": null,
            "grid_template_rows": null,
            "height": null,
            "justify_content": null,
            "justify_items": null,
            "left": null,
            "margin": null,
            "max_height": null,
            "max_width": null,
            "min_height": null,
            "min_width": null,
            "object_fit": null,
            "object_position": null,
            "order": null,
            "overflow": null,
            "overflow_x": null,
            "overflow_y": null,
            "padding": null,
            "right": null,
            "top": null,
            "visibility": null,
            "width": null
          }
        },
        "aba142cfdb654c47b9fe3329646638d4": {
          "model_module": "@jupyter-widgets/controls",
          "model_module_version": "1.5.0",
          "model_name": "HTMLModel",
          "state": {
            "_dom_classes": [],
            "_model_module": "@jupyter-widgets/controls",
            "_model_module_version": "1.5.0",
            "_model_name": "HTMLModel",
            "_view_count": null,
            "_view_module": "@jupyter-widgets/controls",
            "_view_module_version": "1.5.0",
            "_view_name": "HTMLView",
            "description": "",
            "description_tooltip": null,
            "layout": "IPY_MODEL_98f53ed1d4024070b98edb46f0113b8e",
            "placeholder": "​",
            "style": "IPY_MODEL_83d63aaad83346f0bc1ee97b51ac2d7b",
            "value": "README.md: 100%"
          }
        },
        "ac08d29ef8e2410f8fe8c2b5df27bb1b": {
          "model_module": "@jupyter-widgets/base",
          "model_module_version": "1.2.0",
          "model_name": "LayoutModel",
          "state": {
            "_model_module": "@jupyter-widgets/base",
            "_model_module_version": "1.2.0",
            "_model_name": "LayoutModel",
            "_view_count": null,
            "_view_module": "@jupyter-widgets/base",
            "_view_module_version": "1.2.0",
            "_view_name": "LayoutView",
            "align_content": null,
            "align_items": null,
            "align_self": null,
            "border": null,
            "bottom": null,
            "display": null,
            "flex": null,
            "flex_flow": null,
            "grid_area": null,
            "grid_auto_columns": null,
            "grid_auto_flow": null,
            "grid_auto_rows": null,
            "grid_column": null,
            "grid_gap": null,
            "grid_row": null,
            "grid_template_areas": null,
            "grid_template_columns": null,
            "grid_template_rows": null,
            "height": null,
            "justify_content": null,
            "justify_items": null,
            "left": null,
            "margin": null,
            "max_height": null,
            "max_width": null,
            "min_height": null,
            "min_width": null,
            "object_fit": null,
            "object_position": null,
            "order": null,
            "overflow": null,
            "overflow_x": null,
            "overflow_y": null,
            "padding": null,
            "right": null,
            "top": null,
            "visibility": null,
            "width": null
          }
        },
        "b9de8d72dcf34144b0b24aebbba91abb": {
          "model_module": "@jupyter-widgets/controls",
          "model_module_version": "1.5.0",
          "model_name": "HTMLModel",
          "state": {
            "_dom_classes": [],
            "_model_module": "@jupyter-widgets/controls",
            "_model_module_version": "1.5.0",
            "_model_name": "HTMLModel",
            "_view_count": null,
            "_view_module": "@jupyter-widgets/controls",
            "_view_module_version": "1.5.0",
            "_view_name": "HTMLView",
            "description": "",
            "description_tooltip": null,
            "layout": "IPY_MODEL_719862f8b5ce46f189e758cdc57c2599",
            "placeholder": "​",
            "style": "IPY_MODEL_ce08dcd877b54107a97fed8061cb09d0",
            "value": "config.json: 100%"
          }
        },
        "bc218d21d847412bb89153ff93ee50e9": {
          "model_module": "@jupyter-widgets/controls",
          "model_module_version": "1.5.0",
          "model_name": "HBoxModel",
          "state": {
            "_dom_classes": [],
            "_model_module": "@jupyter-widgets/controls",
            "_model_module_version": "1.5.0",
            "_model_name": "HBoxModel",
            "_view_count": null,
            "_view_module": "@jupyter-widgets/controls",
            "_view_module_version": "1.5.0",
            "_view_name": "HBoxView",
            "box_style": "",
            "children": [
              "IPY_MODEL_e6ecf88d007945bdb432057163c534dc",
              "IPY_MODEL_a7eda9dba4b04e95b5ce833382965446",
              "IPY_MODEL_dedd43ee937141f5bc81558c7e8798e3"
            ],
            "layout": "IPY_MODEL_d11bfb2f3c80419595c8598186641da6"
          }
        },
        "bdb3a9a1232b4b72b53314518ff9f2c4": {
          "model_module": "@jupyter-widgets/controls",
          "model_module_version": "1.5.0",
          "model_name": "ProgressStyleModel",
          "state": {
            "_model_module": "@jupyter-widgets/controls",
            "_model_module_version": "1.5.0",
            "_model_name": "ProgressStyleModel",
            "_view_count": null,
            "_view_module": "@jupyter-widgets/base",
            "_view_module_version": "1.2.0",
            "_view_name": "StyleView",
            "bar_color": null,
            "description_width": ""
          }
        },
        "bddc317a0e4d415985a646011e1ebd1b": {
          "model_module": "@jupyter-widgets/controls",
          "model_module_version": "1.5.0",
          "model_name": "DescriptionStyleModel",
          "state": {
            "_model_module": "@jupyter-widgets/controls",
            "_model_module_version": "1.5.0",
            "_model_name": "DescriptionStyleModel",
            "_view_count": null,
            "_view_module": "@jupyter-widgets/base",
            "_view_module_version": "1.2.0",
            "_view_name": "StyleView",
            "description_width": ""
          }
        },
        "c034c883cfe7469abbc8f77938ad84be": {
          "model_module": "@jupyter-widgets/controls",
          "model_module_version": "1.5.0",
          "model_name": "HTMLModel",
          "state": {
            "_dom_classes": [],
            "_model_module": "@jupyter-widgets/controls",
            "_model_module_version": "1.5.0",
            "_model_name": "HTMLModel",
            "_view_count": null,
            "_view_module": "@jupyter-widgets/controls",
            "_view_module_version": "1.5.0",
            "_view_name": "HTMLView",
            "description": "",
            "description_tooltip": null,
            "layout": "IPY_MODEL_d2ff89e8c7c74aa68e7256f33a8b0355",
            "placeholder": "​",
            "style": "IPY_MODEL_85bbce30a9664a759f6d1994583f7e05",
            "value": " 349/349 [00:00&lt;00:00, 6.72kB/s]"
          }
        },
        "c14f543a5c9d40788540f1c4edacdf57": {
          "model_module": "@jupyter-widgets/base",
          "model_module_version": "1.2.0",
          "model_name": "LayoutModel",
          "state": {
            "_model_module": "@jupyter-widgets/base",
            "_model_module_version": "1.2.0",
            "_model_name": "LayoutModel",
            "_view_count": null,
            "_view_module": "@jupyter-widgets/base",
            "_view_module_version": "1.2.0",
            "_view_name": "LayoutView",
            "align_content": null,
            "align_items": null,
            "align_self": null,
            "border": null,
            "bottom": null,
            "display": null,
            "flex": null,
            "flex_flow": null,
            "grid_area": null,
            "grid_auto_columns": null,
            "grid_auto_flow": null,
            "grid_auto_rows": null,
            "grid_column": null,
            "grid_gap": null,
            "grid_row": null,
            "grid_template_areas": null,
            "grid_template_columns": null,
            "grid_template_rows": null,
            "height": null,
            "justify_content": null,
            "justify_items": null,
            "left": null,
            "margin": null,
            "max_height": null,
            "max_width": null,
            "min_height": null,
            "min_width": null,
            "object_fit": null,
            "object_position": null,
            "order": null,
            "overflow": null,
            "overflow_x": null,
            "overflow_y": null,
            "padding": null,
            "right": null,
            "top": null,
            "visibility": null,
            "width": null
          }
        },
        "c25a501479fa4c019a14430bbd808515": {
          "model_module": "@jupyter-widgets/controls",
          "model_module_version": "1.5.0",
          "model_name": "FloatProgressModel",
          "state": {
            "_dom_classes": [],
            "_model_module": "@jupyter-widgets/controls",
            "_model_module_version": "1.5.0",
            "_model_name": "FloatProgressModel",
            "_view_count": null,
            "_view_module": "@jupyter-widgets/controls",
            "_view_module_version": "1.5.0",
            "_view_name": "ProgressView",
            "bar_style": "success",
            "description": "",
            "description_tooltip": null,
            "layout": "IPY_MODEL_f27ca86012c749b5b9072d5cba0b0c38",
            "max": 350,
            "min": 0,
            "orientation": "horizontal",
            "style": "IPY_MODEL_22233340c8f044f8ad0d7c25a8624ae5",
            "value": 350
          }
        },
        "c2a65620fa484df19b3397c103e78d9b": {
          "model_module": "@jupyter-widgets/controls",
          "model_module_version": "1.5.0",
          "model_name": "HBoxModel",
          "state": {
            "_dom_classes": [],
            "_model_module": "@jupyter-widgets/controls",
            "_model_module_version": "1.5.0",
            "_model_name": "HBoxModel",
            "_view_count": null,
            "_view_module": "@jupyter-widgets/controls",
            "_view_module_version": "1.5.0",
            "_view_name": "HBoxView",
            "box_style": "",
            "children": [
              "IPY_MODEL_b9de8d72dcf34144b0b24aebbba91abb",
              "IPY_MODEL_0a4054d9a4a44300a1817790e74f76bf",
              "IPY_MODEL_167fdb5a068442f2bff0ff313c66a9c2"
            ],
            "layout": "IPY_MODEL_f9bb2a6464bd4859865da1f36e633324"
          }
        },
        "c3a680acf71c435a970b03c09c048797": {
          "model_module": "@jupyter-widgets/controls",
          "model_module_version": "1.5.0",
          "model_name": "HTMLModel",
          "state": {
            "_dom_classes": [],
            "_model_module": "@jupyter-widgets/controls",
            "_model_module_version": "1.5.0",
            "_model_name": "HTMLModel",
            "_view_count": null,
            "_view_module": "@jupyter-widgets/controls",
            "_view_module_version": "1.5.0",
            "_view_name": "HTMLView",
            "description": "",
            "description_tooltip": null,
            "layout": "IPY_MODEL_c43ee35db553454d92c649eadcface4b",
            "placeholder": "​",
            "style": "IPY_MODEL_2091de945c98407c8732fec027e40218",
            "value": "model.safetensors: 100%"
          }
        },
        "c43ee35db553454d92c649eadcface4b": {
          "model_module": "@jupyter-widgets/base",
          "model_module_version": "1.2.0",
          "model_name": "LayoutModel",
          "state": {
            "_model_module": "@jupyter-widgets/base",
            "_model_module_version": "1.2.0",
            "_model_name": "LayoutModel",
            "_view_count": null,
            "_view_module": "@jupyter-widgets/base",
            "_view_module_version": "1.2.0",
            "_view_name": "LayoutView",
            "align_content": null,
            "align_items": null,
            "align_self": null,
            "border": null,
            "bottom": null,
            "display": null,
            "flex": null,
            "flex_flow": null,
            "grid_area": null,
            "grid_auto_columns": null,
            "grid_auto_flow": null,
            "grid_auto_rows": null,
            "grid_column": null,
            "grid_gap": null,
            "grid_row": null,
            "grid_template_areas": null,
            "grid_template_columns": null,
            "grid_template_rows": null,
            "height": null,
            "justify_content": null,
            "justify_items": null,
            "left": null,
            "margin": null,
            "max_height": null,
            "max_width": null,
            "min_height": null,
            "min_width": null,
            "object_fit": null,
            "object_position": null,
            "order": null,
            "overflow": null,
            "overflow_x": null,
            "overflow_y": null,
            "padding": null,
            "right": null,
            "top": null,
            "visibility": null,
            "width": null
          }
        },
        "c455b881102248a9b2be4425e1932a1c": {
          "model_module": "@jupyter-widgets/controls",
          "model_module_version": "1.5.0",
          "model_name": "DescriptionStyleModel",
          "state": {
            "_model_module": "@jupyter-widgets/controls",
            "_model_module_version": "1.5.0",
            "_model_name": "DescriptionStyleModel",
            "_view_count": null,
            "_view_module": "@jupyter-widgets/base",
            "_view_module_version": "1.2.0",
            "_view_name": "StyleView",
            "description_width": ""
          }
        },
        "c5b97acf125442e2a8a9f069a608ec16": {
          "model_module": "@jupyter-widgets/controls",
          "model_module_version": "1.5.0",
          "model_name": "DescriptionStyleModel",
          "state": {
            "_model_module": "@jupyter-widgets/controls",
            "_model_module_version": "1.5.0",
            "_model_name": "DescriptionStyleModel",
            "_view_count": null,
            "_view_module": "@jupyter-widgets/base",
            "_view_module_version": "1.2.0",
            "_view_name": "StyleView",
            "description_width": ""
          }
        },
        "c8f310b71d0d4ce1853f371b48d01787": {
          "model_module": "@jupyter-widgets/controls",
          "model_module_version": "1.5.0",
          "model_name": "HBoxModel",
          "state": {
            "_dom_classes": [],
            "_model_module": "@jupyter-widgets/controls",
            "_model_module_version": "1.5.0",
            "_model_name": "HBoxModel",
            "_view_count": null,
            "_view_module": "@jupyter-widgets/controls",
            "_view_module_version": "1.5.0",
            "_view_name": "HBoxView",
            "box_style": "",
            "children": [
              "IPY_MODEL_aba142cfdb654c47b9fe3329646638d4",
              "IPY_MODEL_8c780eb628914c299ed9cf03d53a1898",
              "IPY_MODEL_458b842620534f6596e28920843be642"
            ],
            "layout": "IPY_MODEL_c14f543a5c9d40788540f1c4edacdf57"
          }
        },
        "cd9978843e2d4448b973cd511b8679e6": {
          "model_module": "@jupyter-widgets/controls",
          "model_module_version": "1.5.0",
          "model_name": "ProgressStyleModel",
          "state": {
            "_model_module": "@jupyter-widgets/controls",
            "_model_module_version": "1.5.0",
            "_model_name": "ProgressStyleModel",
            "_view_count": null,
            "_view_module": "@jupyter-widgets/base",
            "_view_module_version": "1.2.0",
            "_view_name": "StyleView",
            "bar_color": null,
            "description_width": ""
          }
        },
        "ce08dcd877b54107a97fed8061cb09d0": {
          "model_module": "@jupyter-widgets/controls",
          "model_module_version": "1.5.0",
          "model_name": "DescriptionStyleModel",
          "state": {
            "_model_module": "@jupyter-widgets/controls",
            "_model_module_version": "1.5.0",
            "_model_name": "DescriptionStyleModel",
            "_view_count": null,
            "_view_module": "@jupyter-widgets/base",
            "_view_module_version": "1.2.0",
            "_view_name": "StyleView",
            "description_width": ""
          }
        },
        "d11bfb2f3c80419595c8598186641da6": {
          "model_module": "@jupyter-widgets/base",
          "model_module_version": "1.2.0",
          "model_name": "LayoutModel",
          "state": {
            "_model_module": "@jupyter-widgets/base",
            "_model_module_version": "1.2.0",
            "_model_name": "LayoutModel",
            "_view_count": null,
            "_view_module": "@jupyter-widgets/base",
            "_view_module_version": "1.2.0",
            "_view_name": "LayoutView",
            "align_content": null,
            "align_items": null,
            "align_self": null,
            "border": null,
            "bottom": null,
            "display": null,
            "flex": null,
            "flex_flow": null,
            "grid_area": null,
            "grid_auto_columns": null,
            "grid_auto_flow": null,
            "grid_auto_rows": null,
            "grid_column": null,
            "grid_gap": null,
            "grid_row": null,
            "grid_template_areas": null,
            "grid_template_columns": null,
            "grid_template_rows": null,
            "height": null,
            "justify_content": null,
            "justify_items": null,
            "left": null,
            "margin": null,
            "max_height": null,
            "max_width": null,
            "min_height": null,
            "min_width": null,
            "object_fit": null,
            "object_position": null,
            "order": null,
            "overflow": null,
            "overflow_x": null,
            "overflow_y": null,
            "padding": null,
            "right": null,
            "top": null,
            "visibility": null,
            "width": null
          }
        },
        "d2002b63e87c4eec913227c1a59e5c71": {
          "model_module": "@jupyter-widgets/base",
          "model_module_version": "1.2.0",
          "model_name": "LayoutModel",
          "state": {
            "_model_module": "@jupyter-widgets/base",
            "_model_module_version": "1.2.0",
            "_model_name": "LayoutModel",
            "_view_count": null,
            "_view_module": "@jupyter-widgets/base",
            "_view_module_version": "1.2.0",
            "_view_name": "LayoutView",
            "align_content": null,
            "align_items": null,
            "align_self": null,
            "border": null,
            "bottom": null,
            "display": null,
            "flex": null,
            "flex_flow": null,
            "grid_area": null,
            "grid_auto_columns": null,
            "grid_auto_flow": null,
            "grid_auto_rows": null,
            "grid_column": null,
            "grid_gap": null,
            "grid_row": null,
            "grid_template_areas": null,
            "grid_template_columns": null,
            "grid_template_rows": null,
            "height": null,
            "justify_content": null,
            "justify_items": null,
            "left": null,
            "margin": null,
            "max_height": null,
            "max_width": null,
            "min_height": null,
            "min_width": null,
            "object_fit": null,
            "object_position": null,
            "order": null,
            "overflow": null,
            "overflow_x": null,
            "overflow_y": null,
            "padding": null,
            "right": null,
            "top": null,
            "visibility": null,
            "width": null
          }
        },
        "d2ff89e8c7c74aa68e7256f33a8b0355": {
          "model_module": "@jupyter-widgets/base",
          "model_module_version": "1.2.0",
          "model_name": "LayoutModel",
          "state": {
            "_model_module": "@jupyter-widgets/base",
            "_model_module_version": "1.2.0",
            "_model_name": "LayoutModel",
            "_view_count": null,
            "_view_module": "@jupyter-widgets/base",
            "_view_module_version": "1.2.0",
            "_view_name": "LayoutView",
            "align_content": null,
            "align_items": null,
            "align_self": null,
            "border": null,
            "bottom": null,
            "display": null,
            "flex": null,
            "flex_flow": null,
            "grid_area": null,
            "grid_auto_columns": null,
            "grid_auto_flow": null,
            "grid_auto_rows": null,
            "grid_column": null,
            "grid_gap": null,
            "grid_row": null,
            "grid_template_areas": null,
            "grid_template_columns": null,
            "grid_template_rows": null,
            "height": null,
            "justify_content": null,
            "justify_items": null,
            "left": null,
            "margin": null,
            "max_height": null,
            "max_width": null,
            "min_height": null,
            "min_width": null,
            "object_fit": null,
            "object_position": null,
            "order": null,
            "overflow": null,
            "overflow_x": null,
            "overflow_y": null,
            "padding": null,
            "right": null,
            "top": null,
            "visibility": null,
            "width": null
          }
        },
        "d4c4632a5ed6443ebcb4d082c9c6c664": {
          "model_module": "@jupyter-widgets/controls",
          "model_module_version": "1.5.0",
          "model_name": "HTMLModel",
          "state": {
            "_dom_classes": [],
            "_model_module": "@jupyter-widgets/controls",
            "_model_module_version": "1.5.0",
            "_model_name": "HTMLModel",
            "_view_count": null,
            "_view_module": "@jupyter-widgets/controls",
            "_view_module_version": "1.5.0",
            "_view_name": "HTMLView",
            "description": "",
            "description_tooltip": null,
            "layout": "IPY_MODEL_d2002b63e87c4eec913227c1a59e5c71",
            "placeholder": "​",
            "style": "IPY_MODEL_8c0851641cca43a9b0f9f3d22c52c776",
            "value": " 90.9M/90.9M [00:00&lt;00:00, 159MB/s]"
          }
        },
        "d511d28d9bf343baa9b9ee3b50cdc2a8": {
          "model_module": "@jupyter-widgets/base",
          "model_module_version": "1.2.0",
          "model_name": "LayoutModel",
          "state": {
            "_model_module": "@jupyter-widgets/base",
            "_model_module_version": "1.2.0",
            "_model_name": "LayoutModel",
            "_view_count": null,
            "_view_module": "@jupyter-widgets/base",
            "_view_module_version": "1.2.0",
            "_view_name": "LayoutView",
            "align_content": null,
            "align_items": null,
            "align_self": null,
            "border": null,
            "bottom": null,
            "display": null,
            "flex": null,
            "flex_flow": null,
            "grid_area": null,
            "grid_auto_columns": null,
            "grid_auto_flow": null,
            "grid_auto_rows": null,
            "grid_column": null,
            "grid_gap": null,
            "grid_row": null,
            "grid_template_areas": null,
            "grid_template_columns": null,
            "grid_template_rows": null,
            "height": null,
            "justify_content": null,
            "justify_items": null,
            "left": null,
            "margin": null,
            "max_height": null,
            "max_width": null,
            "min_height": null,
            "min_width": null,
            "object_fit": null,
            "object_position": null,
            "order": null,
            "overflow": null,
            "overflow_x": null,
            "overflow_y": null,
            "padding": null,
            "right": null,
            "top": null,
            "visibility": null,
            "width": null
          }
        },
        "d64e605be88a4de8b149e7204357ef62": {
          "model_module": "@jupyter-widgets/base",
          "model_module_version": "1.2.0",
          "model_name": "LayoutModel",
          "state": {
            "_model_module": "@jupyter-widgets/base",
            "_model_module_version": "1.2.0",
            "_model_name": "LayoutModel",
            "_view_count": null,
            "_view_module": "@jupyter-widgets/base",
            "_view_module_version": "1.2.0",
            "_view_name": "LayoutView",
            "align_content": null,
            "align_items": null,
            "align_self": null,
            "border": null,
            "bottom": null,
            "display": null,
            "flex": null,
            "flex_flow": null,
            "grid_area": null,
            "grid_auto_columns": null,
            "grid_auto_flow": null,
            "grid_auto_rows": null,
            "grid_column": null,
            "grid_gap": null,
            "grid_row": null,
            "grid_template_areas": null,
            "grid_template_columns": null,
            "grid_template_rows": null,
            "height": null,
            "justify_content": null,
            "justify_items": null,
            "left": null,
            "margin": null,
            "max_height": null,
            "max_width": null,
            "min_height": null,
            "min_width": null,
            "object_fit": null,
            "object_position": null,
            "order": null,
            "overflow": null,
            "overflow_x": null,
            "overflow_y": null,
            "padding": null,
            "right": null,
            "top": null,
            "visibility": null,
            "width": null
          }
        },
        "da826d9532a3438bb7a49a6889134ee4": {
          "model_module": "@jupyter-widgets/controls",
          "model_module_version": "1.5.0",
          "model_name": "ProgressStyleModel",
          "state": {
            "_model_module": "@jupyter-widgets/controls",
            "_model_module_version": "1.5.0",
            "_model_name": "ProgressStyleModel",
            "_view_count": null,
            "_view_module": "@jupyter-widgets/base",
            "_view_module_version": "1.2.0",
            "_view_name": "StyleView",
            "bar_color": null,
            "description_width": ""
          }
        },
        "db65be125cea46bf997b3c11410bfe05": {
          "model_module": "@jupyter-widgets/base",
          "model_module_version": "1.2.0",
          "model_name": "LayoutModel",
          "state": {
            "_model_module": "@jupyter-widgets/base",
            "_model_module_version": "1.2.0",
            "_model_name": "LayoutModel",
            "_view_count": null,
            "_view_module": "@jupyter-widgets/base",
            "_view_module_version": "1.2.0",
            "_view_name": "LayoutView",
            "align_content": null,
            "align_items": null,
            "align_self": null,
            "border": null,
            "bottom": null,
            "display": null,
            "flex": null,
            "flex_flow": null,
            "grid_area": null,
            "grid_auto_columns": null,
            "grid_auto_flow": null,
            "grid_auto_rows": null,
            "grid_column": null,
            "grid_gap": null,
            "grid_row": null,
            "grid_template_areas": null,
            "grid_template_columns": null,
            "grid_template_rows": null,
            "height": null,
            "justify_content": null,
            "justify_items": null,
            "left": null,
            "margin": null,
            "max_height": null,
            "max_width": null,
            "min_height": null,
            "min_width": null,
            "object_fit": null,
            "object_position": null,
            "order": null,
            "overflow": null,
            "overflow_x": null,
            "overflow_y": null,
            "padding": null,
            "right": null,
            "top": null,
            "visibility": null,
            "width": null
          }
        },
        "dc8a48b6bcbf45da9ba7e7c89f04ba12": {
          "model_module": "@jupyter-widgets/controls",
          "model_module_version": "1.5.0",
          "model_name": "HTMLModel",
          "state": {
            "_dom_classes": [],
            "_model_module": "@jupyter-widgets/controls",
            "_model_module_version": "1.5.0",
            "_model_name": "HTMLModel",
            "_view_count": null,
            "_view_module": "@jupyter-widgets/controls",
            "_view_module_version": "1.5.0",
            "_view_name": "HTMLView",
            "description": "",
            "description_tooltip": null,
            "layout": "IPY_MODEL_db65be125cea46bf997b3c11410bfe05",
            "placeholder": "​",
            "style": "IPY_MODEL_47dc65dd0ebb4e20a2599ce91b6ba0a4",
            "value": "vocab.txt: 100%"
          }
        },
        "de003b2f46ce46a5be270d94e0cd0e2d": {
          "model_module": "@jupyter-widgets/controls",
          "model_module_version": "1.5.0",
          "model_name": "ProgressStyleModel",
          "state": {
            "_model_module": "@jupyter-widgets/controls",
            "_model_module_version": "1.5.0",
            "_model_name": "ProgressStyleModel",
            "_view_count": null,
            "_view_module": "@jupyter-widgets/base",
            "_view_module_version": "1.2.0",
            "_view_name": "StyleView",
            "bar_color": null,
            "description_width": ""
          }
        },
        "dedd43ee937141f5bc81558c7e8798e3": {
          "model_module": "@jupyter-widgets/controls",
          "model_module_version": "1.5.0",
          "model_name": "HTMLModel",
          "state": {
            "_dom_classes": [],
            "_model_module": "@jupyter-widgets/controls",
            "_model_module_version": "1.5.0",
            "_model_name": "HTMLModel",
            "_view_count": null,
            "_view_module": "@jupyter-widgets/controls",
            "_view_module_version": "1.5.0",
            "_view_name": "HTMLView",
            "description": "",
            "description_tooltip": null,
            "layout": "IPY_MODEL_d64e605be88a4de8b149e7204357ef62",
            "placeholder": "​",
            "style": "IPY_MODEL_0c9d99da44ff4c55aeacd5022747fc04",
            "value": " 53.0/53.0 [00:00&lt;00:00, 1.07kB/s]"
          }
        },
        "df73f398bedd4fa19ab15790998367c6": {
          "model_module": "@jupyter-widgets/controls",
          "model_module_version": "1.5.0",
          "model_name": "DescriptionStyleModel",
          "state": {
            "_model_module": "@jupyter-widgets/controls",
            "_model_module_version": "1.5.0",
            "_model_name": "DescriptionStyleModel",
            "_view_count": null,
            "_view_module": "@jupyter-widgets/base",
            "_view_module_version": "1.2.0",
            "_view_name": "StyleView",
            "description_width": ""
          }
        },
        "dfc5f50349ed46919378a43aa36c39b6": {
          "model_module": "@jupyter-widgets/controls",
          "model_module_version": "1.5.0",
          "model_name": "ProgressStyleModel",
          "state": {
            "_model_module": "@jupyter-widgets/controls",
            "_model_module_version": "1.5.0",
            "_model_name": "ProgressStyleModel",
            "_view_count": null,
            "_view_module": "@jupyter-widgets/base",
            "_view_module_version": "1.2.0",
            "_view_name": "StyleView",
            "bar_color": null,
            "description_width": ""
          }
        },
        "e30ad340d0fc4027ba04cfceeaf3e9f9": {
          "model_module": "@jupyter-widgets/controls",
          "model_module_version": "1.5.0",
          "model_name": "HTMLModel",
          "state": {
            "_dom_classes": [],
            "_model_module": "@jupyter-widgets/controls",
            "_model_module_version": "1.5.0",
            "_model_name": "HTMLModel",
            "_view_count": null,
            "_view_module": "@jupyter-widgets/controls",
            "_view_module_version": "1.5.0",
            "_view_name": "HTMLView",
            "description": "",
            "description_tooltip": null,
            "layout": "IPY_MODEL_21b2e98f31e243208b486d488a7a47f7",
            "placeholder": "​",
            "style": "IPY_MODEL_89169ce8e5e645a59c97d632920d53d6",
            "value": "special_tokens_map.json: 100%"
          }
        },
        "e6ecf88d007945bdb432057163c534dc": {
          "model_module": "@jupyter-widgets/controls",
          "model_module_version": "1.5.0",
          "model_name": "HTMLModel",
          "state": {
            "_dom_classes": [],
            "_model_module": "@jupyter-widgets/controls",
            "_model_module_version": "1.5.0",
            "_model_name": "HTMLModel",
            "_view_count": null,
            "_view_module": "@jupyter-widgets/controls",
            "_view_module_version": "1.5.0",
            "_view_name": "HTMLView",
            "description": "",
            "description_tooltip": null,
            "layout": "IPY_MODEL_fefca73773824906b49ab2e69d36a3a6",
            "placeholder": "​",
            "style": "IPY_MODEL_c455b881102248a9b2be4425e1932a1c",
            "value": "sentence_bert_config.json: 100%"
          }
        },
        "ea8586c646084ec695f1759a7e8b8777": {
          "model_module": "@jupyter-widgets/controls",
          "model_module_version": "1.5.0",
          "model_name": "HTMLModel",
          "state": {
            "_dom_classes": [],
            "_model_module": "@jupyter-widgets/controls",
            "_model_module_version": "1.5.0",
            "_model_name": "HTMLModel",
            "_view_count": null,
            "_view_module": "@jupyter-widgets/controls",
            "_view_module_version": "1.5.0",
            "_view_name": "HTMLView",
            "description": "",
            "description_tooltip": null,
            "layout": "IPY_MODEL_84f1d488bf41462287f4639c04cb968c",
            "placeholder": "​",
            "style": "IPY_MODEL_5a6168a3b1264c60b2200203eb6f75e5",
            "value": " 116/116 [00:00&lt;00:00, 3.98kB/s]"
          }
        },
        "eb2fd54c2ff347d19a5ce219d80d5f9e": {
          "model_module": "@jupyter-widgets/controls",
          "model_module_version": "1.5.0",
          "model_name": "ProgressStyleModel",
          "state": {
            "_model_module": "@jupyter-widgets/controls",
            "_model_module_version": "1.5.0",
            "_model_name": "ProgressStyleModel",
            "_view_count": null,
            "_view_module": "@jupyter-widgets/base",
            "_view_module_version": "1.2.0",
            "_view_name": "StyleView",
            "bar_color": null,
            "description_width": ""
          }
        },
        "ed9277fcd8b840078d33c0db52451351": {
          "model_module": "@jupyter-widgets/base",
          "model_module_version": "1.2.0",
          "model_name": "LayoutModel",
          "state": {
            "_model_module": "@jupyter-widgets/base",
            "_model_module_version": "1.2.0",
            "_model_name": "LayoutModel",
            "_view_count": null,
            "_view_module": "@jupyter-widgets/base",
            "_view_module_version": "1.2.0",
            "_view_name": "LayoutView",
            "align_content": null,
            "align_items": null,
            "align_self": null,
            "border": null,
            "bottom": null,
            "display": null,
            "flex": null,
            "flex_flow": null,
            "grid_area": null,
            "grid_auto_columns": null,
            "grid_auto_flow": null,
            "grid_auto_rows": null,
            "grid_column": null,
            "grid_gap": null,
            "grid_row": null,
            "grid_template_areas": null,
            "grid_template_columns": null,
            "grid_template_rows": null,
            "height": null,
            "justify_content": null,
            "justify_items": null,
            "left": null,
            "margin": null,
            "max_height": null,
            "max_width": null,
            "min_height": null,
            "min_width": null,
            "object_fit": null,
            "object_position": null,
            "order": null,
            "overflow": null,
            "overflow_x": null,
            "overflow_y": null,
            "padding": null,
            "right": null,
            "top": null,
            "visibility": null,
            "width": null
          }
        },
        "ef9bd62df2c04b578a6f9017888534f5": {
          "model_module": "@jupyter-widgets/base",
          "model_module_version": "1.2.0",
          "model_name": "LayoutModel",
          "state": {
            "_model_module": "@jupyter-widgets/base",
            "_model_module_version": "1.2.0",
            "_model_name": "LayoutModel",
            "_view_count": null,
            "_view_module": "@jupyter-widgets/base",
            "_view_module_version": "1.2.0",
            "_view_name": "LayoutView",
            "align_content": null,
            "align_items": null,
            "align_self": null,
            "border": null,
            "bottom": null,
            "display": null,
            "flex": null,
            "flex_flow": null,
            "grid_area": null,
            "grid_auto_columns": null,
            "grid_auto_flow": null,
            "grid_auto_rows": null,
            "grid_column": null,
            "grid_gap": null,
            "grid_row": null,
            "grid_template_areas": null,
            "grid_template_columns": null,
            "grid_template_rows": null,
            "height": null,
            "justify_content": null,
            "justify_items": null,
            "left": null,
            "margin": null,
            "max_height": null,
            "max_width": null,
            "min_height": null,
            "min_width": null,
            "object_fit": null,
            "object_position": null,
            "order": null,
            "overflow": null,
            "overflow_x": null,
            "overflow_y": null,
            "padding": null,
            "right": null,
            "top": null,
            "visibility": null,
            "width": null
          }
        },
        "f0a77c11ef0b4452959418f0eae0496d": {
          "model_module": "@jupyter-widgets/controls",
          "model_module_version": "1.5.0",
          "model_name": "FloatProgressModel",
          "state": {
            "_dom_classes": [],
            "_model_module": "@jupyter-widgets/controls",
            "_model_module_version": "1.5.0",
            "_model_name": "FloatProgressModel",
            "_view_count": null,
            "_view_module": "@jupyter-widgets/controls",
            "_view_module_version": "1.5.0",
            "_view_name": "ProgressView",
            "bar_style": "success",
            "description": "",
            "description_tooltip": null,
            "layout": "IPY_MODEL_199e9831e020433e847c2f1f09f17273",
            "max": 190,
            "min": 0,
            "orientation": "horizontal",
            "style": "IPY_MODEL_68191633d3a34024889b117db105bfea",
            "value": 190
          }
        },
        "f27ca86012c749b5b9072d5cba0b0c38": {
          "model_module": "@jupyter-widgets/base",
          "model_module_version": "1.2.0",
          "model_name": "LayoutModel",
          "state": {
            "_model_module": "@jupyter-widgets/base",
            "_model_module_version": "1.2.0",
            "_model_name": "LayoutModel",
            "_view_count": null,
            "_view_module": "@jupyter-widgets/base",
            "_view_module_version": "1.2.0",
            "_view_name": "LayoutView",
            "align_content": null,
            "align_items": null,
            "align_self": null,
            "border": null,
            "bottom": null,
            "display": null,
            "flex": null,
            "flex_flow": null,
            "grid_area": null,
            "grid_auto_columns": null,
            "grid_auto_flow": null,
            "grid_auto_rows": null,
            "grid_column": null,
            "grid_gap": null,
            "grid_row": null,
            "grid_template_areas": null,
            "grid_template_columns": null,
            "grid_template_rows": null,
            "height": null,
            "justify_content": null,
            "justify_items": null,
            "left": null,
            "margin": null,
            "max_height": null,
            "max_width": null,
            "min_height": null,
            "min_width": null,
            "object_fit": null,
            "object_position": null,
            "order": null,
            "overflow": null,
            "overflow_x": null,
            "overflow_y": null,
            "padding": null,
            "right": null,
            "top": null,
            "visibility": null,
            "width": null
          }
        },
        "f4dfaea0720045699d52890482747c4a": {
          "model_module": "@jupyter-widgets/base",
          "model_module_version": "1.2.0",
          "model_name": "LayoutModel",
          "state": {
            "_model_module": "@jupyter-widgets/base",
            "_model_module_version": "1.2.0",
            "_model_name": "LayoutModel",
            "_view_count": null,
            "_view_module": "@jupyter-widgets/base",
            "_view_module_version": "1.2.0",
            "_view_name": "LayoutView",
            "align_content": null,
            "align_items": null,
            "align_self": null,
            "border": null,
            "bottom": null,
            "display": null,
            "flex": null,
            "flex_flow": null,
            "grid_area": null,
            "grid_auto_columns": null,
            "grid_auto_flow": null,
            "grid_auto_rows": null,
            "grid_column": null,
            "grid_gap": null,
            "grid_row": null,
            "grid_template_areas": null,
            "grid_template_columns": null,
            "grid_template_rows": null,
            "height": null,
            "justify_content": null,
            "justify_items": null,
            "left": null,
            "margin": null,
            "max_height": null,
            "max_width": null,
            "min_height": null,
            "min_width": null,
            "object_fit": null,
            "object_position": null,
            "order": null,
            "overflow": null,
            "overflow_x": null,
            "overflow_y": null,
            "padding": null,
            "right": null,
            "top": null,
            "visibility": null,
            "width": null
          }
        },
        "f52de7d935cf48c6aa70aa53881e8407": {
          "model_module": "@jupyter-widgets/controls",
          "model_module_version": "1.5.0",
          "model_name": "DescriptionStyleModel",
          "state": {
            "_model_module": "@jupyter-widgets/controls",
            "_model_module_version": "1.5.0",
            "_model_name": "DescriptionStyleModel",
            "_view_count": null,
            "_view_module": "@jupyter-widgets/base",
            "_view_module_version": "1.2.0",
            "_view_name": "StyleView",
            "description_width": ""
          }
        },
        "f5e64979ff984d718a2ee0af97544914": {
          "model_module": "@jupyter-widgets/base",
          "model_module_version": "1.2.0",
          "model_name": "LayoutModel",
          "state": {
            "_model_module": "@jupyter-widgets/base",
            "_model_module_version": "1.2.0",
            "_model_name": "LayoutModel",
            "_view_count": null,
            "_view_module": "@jupyter-widgets/base",
            "_view_module_version": "1.2.0",
            "_view_name": "LayoutView",
            "align_content": null,
            "align_items": null,
            "align_self": null,
            "border": null,
            "bottom": null,
            "display": null,
            "flex": null,
            "flex_flow": null,
            "grid_area": null,
            "grid_auto_columns": null,
            "grid_auto_flow": null,
            "grid_auto_rows": null,
            "grid_column": null,
            "grid_gap": null,
            "grid_row": null,
            "grid_template_areas": null,
            "grid_template_columns": null,
            "grid_template_rows": null,
            "height": null,
            "justify_content": null,
            "justify_items": null,
            "left": null,
            "margin": null,
            "max_height": null,
            "max_width": null,
            "min_height": null,
            "min_width": null,
            "object_fit": null,
            "object_position": null,
            "order": null,
            "overflow": null,
            "overflow_x": null,
            "overflow_y": null,
            "padding": null,
            "right": null,
            "top": null,
            "visibility": null,
            "width": null
          }
        },
        "f7440e36edc5471fb9dae6f8b3c04986": {
          "model_module": "@jupyter-widgets/controls",
          "model_module_version": "1.5.0",
          "model_name": "HBoxModel",
          "state": {
            "_dom_classes": [],
            "_model_module": "@jupyter-widgets/controls",
            "_model_module_version": "1.5.0",
            "_model_name": "HBoxModel",
            "_view_count": null,
            "_view_module": "@jupyter-widgets/controls",
            "_view_module_version": "1.5.0",
            "_view_name": "HBoxView",
            "box_style": "",
            "children": [
              "IPY_MODEL_6cd716b9da9b492b8f027c1fe5b1e676",
              "IPY_MODEL_307ddd845777491e9eeb9432ff9d15ef",
              "IPY_MODEL_c034c883cfe7469abbc8f77938ad84be"
            ],
            "layout": "IPY_MODEL_f5e64979ff984d718a2ee0af97544914"
          }
        },
        "f8e925c9c10d492396f71e9d4e2f4014": {
          "model_module": "@jupyter-widgets/base",
          "model_module_version": "1.2.0",
          "model_name": "LayoutModel",
          "state": {
            "_model_module": "@jupyter-widgets/base",
            "_model_module_version": "1.2.0",
            "_model_name": "LayoutModel",
            "_view_count": null,
            "_view_module": "@jupyter-widgets/base",
            "_view_module_version": "1.2.0",
            "_view_name": "LayoutView",
            "align_content": null,
            "align_items": null,
            "align_self": null,
            "border": null,
            "bottom": null,
            "display": null,
            "flex": null,
            "flex_flow": null,
            "grid_area": null,
            "grid_auto_columns": null,
            "grid_auto_flow": null,
            "grid_auto_rows": null,
            "grid_column": null,
            "grid_gap": null,
            "grid_row": null,
            "grid_template_areas": null,
            "grid_template_columns": null,
            "grid_template_rows": null,
            "height": null,
            "justify_content": null,
            "justify_items": null,
            "left": null,
            "margin": null,
            "max_height": null,
            "max_width": null,
            "min_height": null,
            "min_width": null,
            "object_fit": null,
            "object_position": null,
            "order": null,
            "overflow": null,
            "overflow_x": null,
            "overflow_y": null,
            "padding": null,
            "right": null,
            "top": null,
            "visibility": null,
            "width": null
          }
        },
        "f9bb2a6464bd4859865da1f36e633324": {
          "model_module": "@jupyter-widgets/base",
          "model_module_version": "1.2.0",
          "model_name": "LayoutModel",
          "state": {
            "_model_module": "@jupyter-widgets/base",
            "_model_module_version": "1.2.0",
            "_model_name": "LayoutModel",
            "_view_count": null,
            "_view_module": "@jupyter-widgets/base",
            "_view_module_version": "1.2.0",
            "_view_name": "LayoutView",
            "align_content": null,
            "align_items": null,
            "align_self": null,
            "border": null,
            "bottom": null,
            "display": null,
            "flex": null,
            "flex_flow": null,
            "grid_area": null,
            "grid_auto_columns": null,
            "grid_auto_flow": null,
            "grid_auto_rows": null,
            "grid_column": null,
            "grid_gap": null,
            "grid_row": null,
            "grid_template_areas": null,
            "grid_template_columns": null,
            "grid_template_rows": null,
            "height": null,
            "justify_content": null,
            "justify_items": null,
            "left": null,
            "margin": null,
            "max_height": null,
            "max_width": null,
            "min_height": null,
            "min_width": null,
            "object_fit": null,
            "object_position": null,
            "order": null,
            "overflow": null,
            "overflow_x": null,
            "overflow_y": null,
            "padding": null,
            "right": null,
            "top": null,
            "visibility": null,
            "width": null
          }
        },
        "fa7bb387e2544e5eb82f39002fc17075": {
          "model_module": "@jupyter-widgets/base",
          "model_module_version": "1.2.0",
          "model_name": "LayoutModel",
          "state": {
            "_model_module": "@jupyter-widgets/base",
            "_model_module_version": "1.2.0",
            "_model_name": "LayoutModel",
            "_view_count": null,
            "_view_module": "@jupyter-widgets/base",
            "_view_module_version": "1.2.0",
            "_view_name": "LayoutView",
            "align_content": null,
            "align_items": null,
            "align_self": null,
            "border": null,
            "bottom": null,
            "display": null,
            "flex": null,
            "flex_flow": null,
            "grid_area": null,
            "grid_auto_columns": null,
            "grid_auto_flow": null,
            "grid_auto_rows": null,
            "grid_column": null,
            "grid_gap": null,
            "grid_row": null,
            "grid_template_areas": null,
            "grid_template_columns": null,
            "grid_template_rows": null,
            "height": null,
            "justify_content": null,
            "justify_items": null,
            "left": null,
            "margin": null,
            "max_height": null,
            "max_width": null,
            "min_height": null,
            "min_width": null,
            "object_fit": null,
            "object_position": null,
            "order": null,
            "overflow": null,
            "overflow_x": null,
            "overflow_y": null,
            "padding": null,
            "right": null,
            "top": null,
            "visibility": null,
            "width": null
          }
        },
        "fe6ac89813644fb0b873c6bad4b42b3c": {
          "model_module": "@jupyter-widgets/controls",
          "model_module_version": "1.5.0",
          "model_name": "HBoxModel",
          "state": {
            "_dom_classes": [],
            "_model_module": "@jupyter-widgets/controls",
            "_model_module_version": "1.5.0",
            "_model_name": "HBoxModel",
            "_view_count": null,
            "_view_module": "@jupyter-widgets/controls",
            "_view_module_version": "1.5.0",
            "_view_name": "HBoxView",
            "box_style": "",
            "children": [
              "IPY_MODEL_8d4980f3fbb049899a16693b7b28d6ed",
              "IPY_MODEL_c25a501479fa4c019a14430bbd808515",
              "IPY_MODEL_1a9916a63a70426fbd16dd53437152ec"
            ],
            "layout": "IPY_MODEL_f4dfaea0720045699d52890482747c4a"
          }
        },
        "fefca73773824906b49ab2e69d36a3a6": {
          "model_module": "@jupyter-widgets/base",
          "model_module_version": "1.2.0",
          "model_name": "LayoutModel",
          "state": {
            "_model_module": "@jupyter-widgets/base",
            "_model_module_version": "1.2.0",
            "_model_name": "LayoutModel",
            "_view_count": null,
            "_view_module": "@jupyter-widgets/base",
            "_view_module_version": "1.2.0",
            "_view_name": "LayoutView",
            "align_content": null,
            "align_items": null,
            "align_self": null,
            "border": null,
            "bottom": null,
            "display": null,
            "flex": null,
            "flex_flow": null,
            "grid_area": null,
            "grid_auto_columns": null,
            "grid_auto_flow": null,
            "grid_auto_rows": null,
            "grid_column": null,
            "grid_gap": null,
            "grid_row": null,
            "grid_template_areas": null,
            "grid_template_columns": null,
            "grid_template_rows": null,
            "height": null,
            "justify_content": null,
            "justify_items": null,
            "left": null,
            "margin": null,
            "max_height": null,
            "max_width": null,
            "min_height": null,
            "min_width": null,
            "object_fit": null,
            "object_position": null,
            "order": null,
            "overflow": null,
            "overflow_x": null,
            "overflow_y": null,
            "padding": null,
            "right": null,
            "top": null,
            "visibility": null,
            "width": null
          }
        },
        "fff7d58598d3490aa563f4d2f2dd9825": {
          "model_module": "@jupyter-widgets/base",
          "model_module_version": "1.2.0",
          "model_name": "LayoutModel",
          "state": {
            "_model_module": "@jupyter-widgets/base",
            "_model_module_version": "1.2.0",
            "_model_name": "LayoutModel",
            "_view_count": null,
            "_view_module": "@jupyter-widgets/base",
            "_view_module_version": "1.2.0",
            "_view_name": "LayoutView",
            "align_content": null,
            "align_items": null,
            "align_self": null,
            "border": null,
            "bottom": null,
            "display": null,
            "flex": null,
            "flex_flow": null,
            "grid_area": null,
            "grid_auto_columns": null,
            "grid_auto_flow": null,
            "grid_auto_rows": null,
            "grid_column": null,
            "grid_gap": null,
            "grid_row": null,
            "grid_template_areas": null,
            "grid_template_columns": null,
            "grid_template_rows": null,
            "height": null,
            "justify_content": null,
            "justify_items": null,
            "left": null,
            "margin": null,
            "max_height": null,
            "max_width": null,
            "min_height": null,
            "min_width": null,
            "object_fit": null,
            "object_position": null,
            "order": null,
            "overflow": null,
            "overflow_x": null,
            "overflow_y": null,
            "padding": null,
            "right": null,
            "top": null,
            "visibility": null,
            "width": null
          }
        }
      }
    }
  },
  "nbformat": 4,
  "nbformat_minor": 0
}
